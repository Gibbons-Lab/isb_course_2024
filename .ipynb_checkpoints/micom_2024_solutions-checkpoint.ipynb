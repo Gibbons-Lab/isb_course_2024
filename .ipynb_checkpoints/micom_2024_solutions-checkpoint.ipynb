{
 "cells": [
  {
   "cell_type": "markdown",
   "metadata": {
    "id": "C0vqP4LJ9y6K"
   },
   "source": [
    "# 🧫🦠 Modeling microbiota-wide metabolism with MICOM\n",
    "\n",
    "This notebook will accompany the second session of the 2024 ISB Microbiome Course. The presentation slides can be [found here](https://gibbons-lab.github.io/isb_course_2024/micom).\n",
    "\n",
    "You can save your own local copy of this notebook by using `File > Save a copy in Drive`. You may be promted to cetify the notebook is safe. We promise that it is 🤞\n",
    "\n",
    "**Disclaimer:**\n",
    "The linear and quadratic programming problems MICOM has to solve are very large and very complicated. There are some very good commercial solvers that are very expensive (even though they are often free for academic use). To make this tutorial as accessible as possible we will use the Open Source solver [OSQP](https://osqp.org/), which is installed along with MICOM. OSQP is amazing with quadratic programming problems (kudos!) but not as accurate for linear problems. Solvers usually only guarantee a solution within a certain numerical tolerance of the real solution. In order to make everything work with OSQP this tolerance has to be relaxed to about 10<sup>-3</sup>. This means that any result with an absolute value smaller than that might very well be zero so we should look at larger values only. Installing cost-free academic versions of commercial solvers like [IBM CPLEX](https://www.ibm.com/analytics/cplex-optimizer) or [Gurobi](https://www.gurobi.com/) would alow you to lower the tolerance to 10<sup>-6</sup>.\n",
    "\n"
   ]
  },
  {
   "cell_type": "markdown",
   "metadata": {
    "id": "qgBBl4GtuTuX"
   },
   "source": [
    "# 📝 Setup\n",
    "\n",
    "MICOM installation is is usually pretty straight-forward and can be as easy as typing `pip install micom` into your Terminal.\n",
    "\n",
    "First let's start by downloading the materials again and switching to the folder."
   ]
  },
  {
   "cell_type": "code",
   "execution_count": null,
   "metadata": {
    "id": "ckON4xr3_bW5"
   },
   "outputs": [],
   "source": [
    "!git clone https://github.com/gibbons-lab/isb_course_2024 materials\n",
    "%cd materials"
   ]
  },
  {
   "cell_type": "markdown",
   "metadata": {
    "id": "is6fmBUeorwv"
   },
   "source": [
    "## Basic Installation\n",
    "\n",
    "Installing MICOM is straight-forward in Python. OSQP itself will be installed automatically along with it."
   ]
  },
  {
   "cell_type": "markdown",
   "metadata": {
    "id": "6oJrxxz6tV9T"
   },
   "source": [
    "## Enable QIIME 2 interactions\n",
    "\n",
    "Before we start, we also need to install packages to read the \"biom\" file format used by QIIME 2 to save tables. This is only necessary if you want to read QIIME 2 FeatureTable artifacts (like the ones we constructed yesterday)"
   ]
  },
  {
   "cell_type": "code",
   "execution_count": null,
   "metadata": {
    "id": "M_TeC5yrst3h"
   },
   "outputs": [],
   "source": [
    "!pip install -q micom Cython biom-format\n",
    "\n",
    "print(\"Done! 🎉 \")"
   ]
  },
  {
   "cell_type": "markdown",
   "metadata": {
    "id": "oPy1f-WLI0lZ"
   },
   "source": [
    "Okay, all done. So let's get started building some models 🦺🛠d😁.\n",
    "\n",
    "# 💻 MICOM\n",
    "\n",
    "We will use the Python interface to MICOM since it plays nicely with Colaboratory. However, you could run the same steps within the QIIME 2 MICOM plugin ([q2-micom](https://library.qiime2.org/plugins/q2-micom/26/)).\n",
    "\n",
    "Here is an overview of all the steps and functions across both interfaces:\n",
    "![micom overview](https://github.com/micom-dev/q2-micom/raw/706f583a060b91c12c0cec7acea2354fdd0dd320/docs/assets/overview.png)\n",
    "\n",
    "The process of building a metabolic model in MICOM begins with constructing a combined abundance/taxonomy table, referred to hereafter as a taxonomy table. Let's load a sample taxonomy table to see what it looks like:\n",
    "\n"
   ]
  },
  {
   "cell_type": "code",
   "execution_count": 1,
   "metadata": {
    "id": "UV9SObSQkSZh"
   },
   "outputs": [
    {
     "data": {
      "text/html": [
       "<div>\n",
       "<style scoped>\n",
       "    .dataframe tbody tr th:only-of-type {\n",
       "        vertical-align: middle;\n",
       "    }\n",
       "\n",
       "    .dataframe tbody tr th {\n",
       "        vertical-align: top;\n",
       "    }\n",
       "\n",
       "    .dataframe thead th {\n",
       "        text-align: right;\n",
       "    }\n",
       "</style>\n",
       "<table border=\"1\" class=\"dataframe\">\n",
       "  <thead>\n",
       "    <tr style=\"text-align: right;\">\n",
       "      <th></th>\n",
       "      <th>id</th>\n",
       "      <th>genus</th>\n",
       "      <th>species</th>\n",
       "      <th>reactions</th>\n",
       "      <th>metabolites</th>\n",
       "      <th>sample_id</th>\n",
       "      <th>abundance</th>\n",
       "    </tr>\n",
       "  </thead>\n",
       "  <tbody>\n",
       "    <tr>\n",
       "      <th>0</th>\n",
       "      <td>Escherichia_coli_1</td>\n",
       "      <td>Escherichia</td>\n",
       "      <td>Escherichia coli 0</td>\n",
       "      <td>95</td>\n",
       "      <td>72</td>\n",
       "      <td>sample_1</td>\n",
       "      <td>974</td>\n",
       "    </tr>\n",
       "    <tr>\n",
       "      <th>1</th>\n",
       "      <td>Escherichia_coli_2</td>\n",
       "      <td>Escherichia</td>\n",
       "      <td>Escherichia coli 1</td>\n",
       "      <td>95</td>\n",
       "      <td>72</td>\n",
       "      <td>sample_1</td>\n",
       "      <td>909</td>\n",
       "    </tr>\n",
       "    <tr>\n",
       "      <th>2</th>\n",
       "      <td>Escherichia_coli_3</td>\n",
       "      <td>Escherichia</td>\n",
       "      <td>Escherichia coli 2</td>\n",
       "      <td>95</td>\n",
       "      <td>72</td>\n",
       "      <td>sample_1</td>\n",
       "      <td>405</td>\n",
       "    </tr>\n",
       "    <tr>\n",
       "      <th>3</th>\n",
       "      <td>Escherichia_coli_4</td>\n",
       "      <td>Escherichia</td>\n",
       "      <td>Escherichia coli 3</td>\n",
       "      <td>95</td>\n",
       "      <td>72</td>\n",
       "      <td>sample_1</td>\n",
       "      <td>751</td>\n",
       "    </tr>\n",
       "    <tr>\n",
       "      <th>0</th>\n",
       "      <td>Escherichia_coli_1</td>\n",
       "      <td>Escherichia</td>\n",
       "      <td>Escherichia coli 0</td>\n",
       "      <td>95</td>\n",
       "      <td>72</td>\n",
       "      <td>sample_2</td>\n",
       "      <td>765</td>\n",
       "    </tr>\n",
       "  </tbody>\n",
       "</table>\n",
       "</div>"
      ],
      "text/plain": [
       "                   id        genus             species  reactions  \\\n",
       "0  Escherichia_coli_1  Escherichia  Escherichia coli 0         95   \n",
       "1  Escherichia_coli_2  Escherichia  Escherichia coli 1         95   \n",
       "2  Escherichia_coli_3  Escherichia  Escherichia coli 2         95   \n",
       "3  Escherichia_coli_4  Escherichia  Escherichia coli 3         95   \n",
       "0  Escherichia_coli_1  Escherichia  Escherichia coli 0         95   \n",
       "\n",
       "   metabolites sample_id  abundance  \n",
       "0           72  sample_1        974  \n",
       "1           72  sample_1        909  \n",
       "2           72  sample_1        405  \n",
       "3           72  sample_1        751  \n",
       "0           72  sample_2        765  "
      ]
     },
     "execution_count": 1,
     "metadata": {},
     "output_type": "execute_result"
    }
   ],
   "source": [
    "from micom.data import test_data\n",
    "\n",
    "test_data().head()"
   ]
  },
  {
   "cell_type": "markdown",
   "metadata": {
    "id": "AEk7yfd1lbYp"
   },
   "source": [
    "In this taxonomy table, we see four identical strains of _E. coli_ (1 through 4), across two samples (sample_1 and sample_2). We can see that each row represents a single taxon in a single sample, and the `abundance` column identifies the abundance of that taxon in the sample.\n",
    "\n",
    "The `id` column specifies identifiers for the taxa and should be expressive and not include spaces or special characters. Since we are using a taxonomy database to build our models (more on that soon), we don't need a `file` column.\n",
    "\n",
    "You might notice that this dataframe looks very different from what we generated in yesterday's tutorial, where we ended up with separate QIIME 2 artifacts 😱\n",
    "\n",
    "No worries, we can deal with that.\n",
    "\n",
    "## Importing data from QIIME 2\n",
    "\n",
    "MICOM can read QIIME 2 artifacts. You don't even need to have QIIME 2 installed for that! But before we do so, let's resolve one issue. We discussed that MICOM summarizes genome-scale models into pangenome-scale models as a first step, but our data are on the ASV level...so how will we know what to summarize?\n",
    "\n",
    "Basically, a specific model database can be used to quickly summarize pangenome-scale models for use within MICOM. So, before we read our data we have to decide which model database to use. We will go with the [AGORA database](https://pubmed.ncbi.nlm.nih.gov/27893703/), which is a curated database of more than 800 bacterial strains that commonly live in the human gut. In particular, we will use a version of this database summarized on the genus rank which can be downloaded from the [MICOM data repository](https://doi.org/10.5281/zenodo.3755182), which contains a whole lot of prebuilt databases. This database is available from the materials folder that we previously cloned."
   ]
  },
  {
   "cell_type": "markdown",
   "metadata": {
    "id": "_57iya0D3L6-"
   },
   "source": [
    "Now we're all set to start building models! The data we previously collected can be found in the `treasure_chest` folder, so we can use those files to build our taxonomy for MICOM."
   ]
  },
  {
   "cell_type": "code",
   "execution_count": 2,
   "metadata": {
    "id": "o0vBAiiqqPLC"
   },
   "outputs": [
    {
     "data": {
      "text/html": [
       "<div>\n",
       "<style scoped>\n",
       "    .dataframe tbody tr th:only-of-type {\n",
       "        vertical-align: middle;\n",
       "    }\n",
       "\n",
       "    .dataframe tbody tr th {\n",
       "        vertical-align: top;\n",
       "    }\n",
       "\n",
       "    .dataframe thead th {\n",
       "        text-align: right;\n",
       "    }\n",
       "</style>\n",
       "<table border=\"1\" class=\"dataframe\">\n",
       "  <thead>\n",
       "    <tr style=\"text-align: right;\">\n",
       "      <th></th>\n",
       "      <th>sample_id</th>\n",
       "      <th>abundance</th>\n",
       "      <th>genus</th>\n",
       "      <th>id</th>\n",
       "      <th>relative</th>\n",
       "    </tr>\n",
       "  </thead>\n",
       "  <tbody>\n",
       "    <tr>\n",
       "      <th>352</th>\n",
       "      <td>ERR1513640</td>\n",
       "      <td>117.0</td>\n",
       "      <td>g__Paraprevotella</td>\n",
       "      <td>g__Paraprevotella</td>\n",
       "      <td>0.012671</td>\n",
       "    </tr>\n",
       "    <tr>\n",
       "      <th>353</th>\n",
       "      <td>ERR1513660</td>\n",
       "      <td>2.0</td>\n",
       "      <td>g__Paraprevotella</td>\n",
       "      <td>g__Paraprevotella</td>\n",
       "      <td>0.000569</td>\n",
       "    </tr>\n",
       "    <tr>\n",
       "      <th>354</th>\n",
       "      <td>ERR1513664</td>\n",
       "      <td>59.0</td>\n",
       "      <td>g__Paraprevotella</td>\n",
       "      <td>g__Paraprevotella</td>\n",
       "      <td>0.013721</td>\n",
       "    </tr>\n",
       "    <tr>\n",
       "      <th>355</th>\n",
       "      <td>ERR1513669</td>\n",
       "      <td>8.0</td>\n",
       "      <td>g__Paraprevotella</td>\n",
       "      <td>g__Paraprevotella</td>\n",
       "      <td>0.001290</td>\n",
       "    </tr>\n",
       "    <tr>\n",
       "      <th>356</th>\n",
       "      <td>ERR1513670</td>\n",
       "      <td>14.0</td>\n",
       "      <td>g__Paraprevotella</td>\n",
       "      <td>g__Paraprevotella</td>\n",
       "      <td>0.000965</td>\n",
       "    </tr>\n",
       "    <tr>\n",
       "      <th>...</th>\n",
       "      <td>...</td>\n",
       "      <td>...</td>\n",
       "      <td>...</td>\n",
       "      <td>...</td>\n",
       "      <td>...</td>\n",
       "    </tr>\n",
       "    <tr>\n",
       "      <th>19588</th>\n",
       "      <td>ERR1513819</td>\n",
       "      <td>15.0</td>\n",
       "      <td>g__Gabonibacter</td>\n",
       "      <td>g__Gabonibacter</td>\n",
       "      <td>0.001232</td>\n",
       "    </tr>\n",
       "    <tr>\n",
       "      <th>19589</th>\n",
       "      <td>ERR1513859</td>\n",
       "      <td>8.0</td>\n",
       "      <td>g__Gabonibacter</td>\n",
       "      <td>g__Gabonibacter</td>\n",
       "      <td>0.001235</td>\n",
       "    </tr>\n",
       "    <tr>\n",
       "      <th>19590</th>\n",
       "      <td>ERR1513924</td>\n",
       "      <td>3.0</td>\n",
       "      <td>g__Gabonibacter</td>\n",
       "      <td>g__Gabonibacter</td>\n",
       "      <td>0.000325</td>\n",
       "    </tr>\n",
       "    <tr>\n",
       "      <th>19591</th>\n",
       "      <td>ERR1513934</td>\n",
       "      <td>9.0</td>\n",
       "      <td>g__Gabonibacter</td>\n",
       "      <td>g__Gabonibacter</td>\n",
       "      <td>0.001333</td>\n",
       "    </tr>\n",
       "    <tr>\n",
       "      <th>19592</th>\n",
       "      <td>ERR1513955</td>\n",
       "      <td>17.0</td>\n",
       "      <td>g__Gabonibacter</td>\n",
       "      <td>g__Gabonibacter</td>\n",
       "      <td>0.001179</td>\n",
       "    </tr>\n",
       "  </tbody>\n",
       "</table>\n",
       "<p>19241 rows × 5 columns</p>\n",
       "</div>"
      ],
      "text/plain": [
       "        sample_id  abundance              genus                 id  relative\n",
       "352    ERR1513640      117.0  g__Paraprevotella  g__Paraprevotella  0.012671\n",
       "353    ERR1513660        2.0  g__Paraprevotella  g__Paraprevotella  0.000569\n",
       "354    ERR1513664       59.0  g__Paraprevotella  g__Paraprevotella  0.013721\n",
       "355    ERR1513669        8.0  g__Paraprevotella  g__Paraprevotella  0.001290\n",
       "356    ERR1513670       14.0  g__Paraprevotella  g__Paraprevotella  0.000965\n",
       "...           ...        ...                ...                ...       ...\n",
       "19588  ERR1513819       15.0    g__Gabonibacter    g__Gabonibacter  0.001232\n",
       "19589  ERR1513859        8.0    g__Gabonibacter    g__Gabonibacter  0.001235\n",
       "19590  ERR1513924        3.0    g__Gabonibacter    g__Gabonibacter  0.000325\n",
       "19591  ERR1513934        9.0    g__Gabonibacter    g__Gabonibacter  0.001333\n",
       "19592  ERR1513955       17.0    g__Gabonibacter    g__Gabonibacter  0.001179\n",
       "\n",
       "[19241 rows x 5 columns]"
      ]
     },
     "execution_count": 2,
     "metadata": {},
     "output_type": "execute_result"
    }
   ],
   "source": [
    "from micom.taxonomy import qiime_to_micom\n",
    "\n",
    "tax = qiime_to_micom(\n",
    "    \"treasure_chest/dada/table.qza\",\n",
    "    \"treasure_chest/taxa.qza\",\n",
    "    collapse_on=\"genus\"\n",
    ")\n",
    "tax"
   ]
  },
  {
   "cell_type": "markdown",
   "metadata": {
    "id": "-TQ6Zp7wouk4"
   },
   "source": [
    "Notice the `collapse_on` argument. That will specify the rank on which to sumarize and can be a list of several ranks. When matching taxonomy you can either match by the particular rank of interest (for example, just comparing genus names here), or you could compare the entire taxonomy, which will require all taxonomic ranks prior to the target rank to match. For that you cloud specify `collapse_on=[\"kingdom\", \"phylum\", \"class\", \"order\", \"family\", \"genus\"]`.\n",
    "\n",
    "Taxonomic names will often not match 100% between databases. For instance, the genus name \"Prevotella\" in one database may be \"Prevotella_6\" in another. The more ranks you use for matching the more likely you are to run into these issues. However, the more taxonomic ranks you use to match the more confident you can be that your observed taxon really is the same taxon as the one in the model database.\n",
    "\n",
    "The resulting table will contain the same abundances but it will include more ranks if `collapse_on` is a list. All ranks present in the taxonomy will be used when matching to the database. We will stick with the \"lax\" option of only matching on genus ranks.\n",
    "\n",
    "Let's now take a look at the taxonomy table we generated:"
   ]
  },
  {
   "cell_type": "markdown",
   "metadata": {
    "id": "R5zwLVFcNTbq"
   },
   "source": [
    "That looks more like the example! Again, we have a row for each taxon in each sample, so we're good to go.\n",
    "\n",
    "One helpful thing to do is to merge in our metadata, so we'll have it at hand for the following steps. In our case, the metadata will include the sample id, disease state, and demographic information of each of the study participants."
   ]
  },
  {
   "cell_type": "code",
   "execution_count": 867,
   "metadata": {
    "id": "X9hqoO4go0h1"
   },
   "outputs": [
    {
     "data": {
      "text/html": [
       "<div>\n",
       "<style scoped>\n",
       "    .dataframe tbody tr th:only-of-type {\n",
       "        vertical-align: middle;\n",
       "    }\n",
       "\n",
       "    .dataframe tbody tr th {\n",
       "        vertical-align: top;\n",
       "    }\n",
       "\n",
       "    .dataframe thead th {\n",
       "        text-align: right;\n",
       "    }\n",
       "</style>\n",
       "<table border=\"1\" class=\"dataframe\">\n",
       "  <thead>\n",
       "    <tr style=\"text-align: right;\">\n",
       "      <th></th>\n",
       "      <th>sample_id</th>\n",
       "      <th>abundance</th>\n",
       "      <th>genus</th>\n",
       "      <th>id</th>\n",
       "      <th>relative</th>\n",
       "      <th>age_units</th>\n",
       "      <th>anonymous_name</th>\n",
       "      <th>Assay Type</th>\n",
       "      <th>AvgSpotLen</th>\n",
       "      <th>Barcode (exp)</th>\n",
       "      <th>...</th>\n",
       "      <th>sleep_aid</th>\n",
       "      <th>BMI</th>\n",
       "      <th>grains</th>\n",
       "      <th>skin_cancer</th>\n",
       "      <th>weight_lbs</th>\n",
       "      <th>anti_inflammatory_bool</th>\n",
       "      <th>bipolar</th>\n",
       "      <th>shingles</th>\n",
       "      <th>yogurt</th>\n",
       "      <th>malaria</th>\n",
       "    </tr>\n",
       "  </thead>\n",
       "  <tbody>\n",
       "    <tr>\n",
       "      <th>0</th>\n",
       "      <td>ERR1513684</td>\n",
       "      <td>132.0</td>\n",
       "      <td>g__Paraprevotella</td>\n",
       "      <td>g__Paraprevotella</td>\n",
       "      <td>0.025278</td>\n",
       "      <td>years</td>\n",
       "      <td>9212</td>\n",
       "      <td>OTHER</td>\n",
       "      <td>149</td>\n",
       "      <td>GTTTGGCCACAC</td>\n",
       "      <td>...</td>\n",
       "      <td>No</td>\n",
       "      <td>25.33</td>\n",
       "      <td>At least once a day</td>\n",
       "      <td>Yes</td>\n",
       "      <td>200.0</td>\n",
       "      <td>Yes</td>\n",
       "      <td>No</td>\n",
       "      <td>No</td>\n",
       "      <td>Few times a week</td>\n",
       "      <td>Yes</td>\n",
       "    </tr>\n",
       "    <tr>\n",
       "      <th>1</th>\n",
       "      <td>ERR1513684</td>\n",
       "      <td>1011.0</td>\n",
       "      <td>g__Bacteroides</td>\n",
       "      <td>g__Bacteroides</td>\n",
       "      <td>0.193604</td>\n",
       "      <td>years</td>\n",
       "      <td>9212</td>\n",
       "      <td>OTHER</td>\n",
       "      <td>149</td>\n",
       "      <td>GTTTGGCCACAC</td>\n",
       "      <td>...</td>\n",
       "      <td>No</td>\n",
       "      <td>25.33</td>\n",
       "      <td>At least once a day</td>\n",
       "      <td>Yes</td>\n",
       "      <td>200.0</td>\n",
       "      <td>Yes</td>\n",
       "      <td>No</td>\n",
       "      <td>No</td>\n",
       "      <td>Few times a week</td>\n",
       "      <td>Yes</td>\n",
       "    </tr>\n",
       "    <tr>\n",
       "      <th>2</th>\n",
       "      <td>ERR1513684</td>\n",
       "      <td>137.0</td>\n",
       "      <td>g__Parabacteroides</td>\n",
       "      <td>g__Parabacteroides</td>\n",
       "      <td>0.026235</td>\n",
       "      <td>years</td>\n",
       "      <td>9212</td>\n",
       "      <td>OTHER</td>\n",
       "      <td>149</td>\n",
       "      <td>GTTTGGCCACAC</td>\n",
       "      <td>...</td>\n",
       "      <td>No</td>\n",
       "      <td>25.33</td>\n",
       "      <td>At least once a day</td>\n",
       "      <td>Yes</td>\n",
       "      <td>200.0</td>\n",
       "      <td>Yes</td>\n",
       "      <td>No</td>\n",
       "      <td>No</td>\n",
       "      <td>Few times a week</td>\n",
       "      <td>Yes</td>\n",
       "    </tr>\n",
       "    <tr>\n",
       "      <th>3</th>\n",
       "      <td>ERR1513684</td>\n",
       "      <td>31.0</td>\n",
       "      <td>g__Phascolarctobacterium</td>\n",
       "      <td>g__Phascolarctobacterium</td>\n",
       "      <td>0.005936</td>\n",
       "      <td>years</td>\n",
       "      <td>9212</td>\n",
       "      <td>OTHER</td>\n",
       "      <td>149</td>\n",
       "      <td>GTTTGGCCACAC</td>\n",
       "      <td>...</td>\n",
       "      <td>No</td>\n",
       "      <td>25.33</td>\n",
       "      <td>At least once a day</td>\n",
       "      <td>Yes</td>\n",
       "      <td>200.0</td>\n",
       "      <td>Yes</td>\n",
       "      <td>No</td>\n",
       "      <td>No</td>\n",
       "      <td>Few times a week</td>\n",
       "      <td>Yes</td>\n",
       "    </tr>\n",
       "    <tr>\n",
       "      <th>4</th>\n",
       "      <td>ERR1513684</td>\n",
       "      <td>330.0</td>\n",
       "      <td>g__Alistipes</td>\n",
       "      <td>g__Alistipes</td>\n",
       "      <td>0.063194</td>\n",
       "      <td>years</td>\n",
       "      <td>9212</td>\n",
       "      <td>OTHER</td>\n",
       "      <td>149</td>\n",
       "      <td>GTTTGGCCACAC</td>\n",
       "      <td>...</td>\n",
       "      <td>No</td>\n",
       "      <td>25.33</td>\n",
       "      <td>At least once a day</td>\n",
       "      <td>Yes</td>\n",
       "      <td>200.0</td>\n",
       "      <td>Yes</td>\n",
       "      <td>No</td>\n",
       "      <td>No</td>\n",
       "      <td>Few times a week</td>\n",
       "      <td>Yes</td>\n",
       "    </tr>\n",
       "    <tr>\n",
       "      <th>...</th>\n",
       "      <td>...</td>\n",
       "      <td>...</td>\n",
       "      <td>...</td>\n",
       "      <td>...</td>\n",
       "      <td>...</td>\n",
       "      <td>...</td>\n",
       "      <td>...</td>\n",
       "      <td>...</td>\n",
       "      <td>...</td>\n",
       "      <td>...</td>\n",
       "      <td>...</td>\n",
       "      <td>...</td>\n",
       "      <td>...</td>\n",
       "      <td>...</td>\n",
       "      <td>...</td>\n",
       "      <td>...</td>\n",
       "      <td>...</td>\n",
       "      <td>...</td>\n",
       "      <td>...</td>\n",
       "      <td>...</td>\n",
       "      <td>...</td>\n",
       "    </tr>\n",
       "    <tr>\n",
       "      <th>560</th>\n",
       "      <td>ERR1514003</td>\n",
       "      <td>284.0</td>\n",
       "      <td>g__Chryseobacterium</td>\n",
       "      <td>g__Chryseobacterium</td>\n",
       "      <td>0.020686</td>\n",
       "      <td>years</td>\n",
       "      <td>GMWA-2049</td>\n",
       "      <td>OTHER</td>\n",
       "      <td>149</td>\n",
       "      <td>TTCCTTAGTAGT</td>\n",
       "      <td>...</td>\n",
       "      <td>No</td>\n",
       "      <td>31.29</td>\n",
       "      <td>NaN</td>\n",
       "      <td>Yes</td>\n",
       "      <td>215.0</td>\n",
       "      <td>No</td>\n",
       "      <td>No</td>\n",
       "      <td>No</td>\n",
       "      <td>NaN</td>\n",
       "      <td>No</td>\n",
       "    </tr>\n",
       "    <tr>\n",
       "      <th>561</th>\n",
       "      <td>ERR1514003</td>\n",
       "      <td>15.0</td>\n",
       "      <td>g__Leucobacter</td>\n",
       "      <td>g__Leucobacter</td>\n",
       "      <td>0.001093</td>\n",
       "      <td>years</td>\n",
       "      <td>GMWA-2049</td>\n",
       "      <td>OTHER</td>\n",
       "      <td>149</td>\n",
       "      <td>TTCCTTAGTAGT</td>\n",
       "      <td>...</td>\n",
       "      <td>No</td>\n",
       "      <td>31.29</td>\n",
       "      <td>NaN</td>\n",
       "      <td>Yes</td>\n",
       "      <td>215.0</td>\n",
       "      <td>No</td>\n",
       "      <td>No</td>\n",
       "      <td>No</td>\n",
       "      <td>NaN</td>\n",
       "      <td>No</td>\n",
       "    </tr>\n",
       "    <tr>\n",
       "      <th>562</th>\n",
       "      <td>ERR1514003</td>\n",
       "      <td>211.0</td>\n",
       "      <td>g__Delftia</td>\n",
       "      <td>g__Delftia</td>\n",
       "      <td>0.015369</td>\n",
       "      <td>years</td>\n",
       "      <td>GMWA-2049</td>\n",
       "      <td>OTHER</td>\n",
       "      <td>149</td>\n",
       "      <td>TTCCTTAGTAGT</td>\n",
       "      <td>...</td>\n",
       "      <td>No</td>\n",
       "      <td>31.29</td>\n",
       "      <td>NaN</td>\n",
       "      <td>Yes</td>\n",
       "      <td>215.0</td>\n",
       "      <td>No</td>\n",
       "      <td>No</td>\n",
       "      <td>No</td>\n",
       "      <td>NaN</td>\n",
       "      <td>No</td>\n",
       "    </tr>\n",
       "    <tr>\n",
       "      <th>563</th>\n",
       "      <td>ERR1514003</td>\n",
       "      <td>3.0</td>\n",
       "      <td>g__Holdemanella</td>\n",
       "      <td>g__Holdemanella</td>\n",
       "      <td>0.000219</td>\n",
       "      <td>years</td>\n",
       "      <td>GMWA-2049</td>\n",
       "      <td>OTHER</td>\n",
       "      <td>149</td>\n",
       "      <td>TTCCTTAGTAGT</td>\n",
       "      <td>...</td>\n",
       "      <td>No</td>\n",
       "      <td>31.29</td>\n",
       "      <td>NaN</td>\n",
       "      <td>Yes</td>\n",
       "      <td>215.0</td>\n",
       "      <td>No</td>\n",
       "      <td>No</td>\n",
       "      <td>No</td>\n",
       "      <td>NaN</td>\n",
       "      <td>No</td>\n",
       "    </tr>\n",
       "    <tr>\n",
       "      <th>564</th>\n",
       "      <td>ERR1514003</td>\n",
       "      <td>3.0</td>\n",
       "      <td>g__Selenomonas</td>\n",
       "      <td>g__Selenomonas</td>\n",
       "      <td>0.000219</td>\n",
       "      <td>years</td>\n",
       "      <td>GMWA-2049</td>\n",
       "      <td>OTHER</td>\n",
       "      <td>149</td>\n",
       "      <td>TTCCTTAGTAGT</td>\n",
       "      <td>...</td>\n",
       "      <td>No</td>\n",
       "      <td>31.29</td>\n",
       "      <td>NaN</td>\n",
       "      <td>Yes</td>\n",
       "      <td>215.0</td>\n",
       "      <td>No</td>\n",
       "      <td>No</td>\n",
       "      <td>No</td>\n",
       "      <td>NaN</td>\n",
       "      <td>No</td>\n",
       "    </tr>\n",
       "  </tbody>\n",
       "</table>\n",
       "<p>565 rows × 212 columns</p>\n",
       "</div>"
      ],
      "text/plain": [
       "      sample_id  abundance                     genus  \\\n",
       "0    ERR1513684      132.0         g__Paraprevotella   \n",
       "1    ERR1513684     1011.0            g__Bacteroides   \n",
       "2    ERR1513684      137.0        g__Parabacteroides   \n",
       "3    ERR1513684       31.0  g__Phascolarctobacterium   \n",
       "4    ERR1513684      330.0              g__Alistipes   \n",
       "..          ...        ...                       ...   \n",
       "560  ERR1514003      284.0       g__Chryseobacterium   \n",
       "561  ERR1514003       15.0            g__Leucobacter   \n",
       "562  ERR1514003      211.0                g__Delftia   \n",
       "563  ERR1514003        3.0           g__Holdemanella   \n",
       "564  ERR1514003        3.0            g__Selenomonas   \n",
       "\n",
       "                           id  relative age_units anonymous_name Assay Type  \\\n",
       "0           g__Paraprevotella  0.025278     years           9212      OTHER   \n",
       "1              g__Bacteroides  0.193604     years           9212      OTHER   \n",
       "2          g__Parabacteroides  0.026235     years           9212      OTHER   \n",
       "3    g__Phascolarctobacterium  0.005936     years           9212      OTHER   \n",
       "4                g__Alistipes  0.063194     years           9212      OTHER   \n",
       "..                        ...       ...       ...            ...        ...   \n",
       "560       g__Chryseobacterium  0.020686     years      GMWA-2049      OTHER   \n",
       "561            g__Leucobacter  0.001093     years      GMWA-2049      OTHER   \n",
       "562                g__Delftia  0.015369     years      GMWA-2049      OTHER   \n",
       "563           g__Holdemanella  0.000219     years      GMWA-2049      OTHER   \n",
       "564            g__Selenomonas  0.000219     years      GMWA-2049      OTHER   \n",
       "\n",
       "     AvgSpotLen Barcode (exp)  ...  sleep_aid    BMI               grains  \\\n",
       "0           149  GTTTGGCCACAC  ...         No  25.33  At least once a day   \n",
       "1           149  GTTTGGCCACAC  ...         No  25.33  At least once a day   \n",
       "2           149  GTTTGGCCACAC  ...         No  25.33  At least once a day   \n",
       "3           149  GTTTGGCCACAC  ...         No  25.33  At least once a day   \n",
       "4           149  GTTTGGCCACAC  ...         No  25.33  At least once a day   \n",
       "..          ...           ...  ...        ...    ...                  ...   \n",
       "560         149  TTCCTTAGTAGT  ...         No  31.29                  NaN   \n",
       "561         149  TTCCTTAGTAGT  ...         No  31.29                  NaN   \n",
       "562         149  TTCCTTAGTAGT  ...         No  31.29                  NaN   \n",
       "563         149  TTCCTTAGTAGT  ...         No  31.29                  NaN   \n",
       "564         149  TTCCTTAGTAGT  ...         No  31.29                  NaN   \n",
       "\n",
       "     skin_cancer weight_lbs anti_inflammatory_bool bipolar shingles  \\\n",
       "0            Yes      200.0                    Yes      No       No   \n",
       "1            Yes      200.0                    Yes      No       No   \n",
       "2            Yes      200.0                    Yes      No       No   \n",
       "3            Yes      200.0                    Yes      No       No   \n",
       "4            Yes      200.0                    Yes      No       No   \n",
       "..           ...        ...                    ...     ...      ...   \n",
       "560          Yes      215.0                     No      No       No   \n",
       "561          Yes      215.0                     No      No       No   \n",
       "562          Yes      215.0                     No      No       No   \n",
       "563          Yes      215.0                     No      No       No   \n",
       "564          Yes      215.0                     No      No       No   \n",
       "\n",
       "               yogurt malaria  \n",
       "0    Few times a week     Yes  \n",
       "1    Few times a week     Yes  \n",
       "2    Few times a week     Yes  \n",
       "3    Few times a week     Yes  \n",
       "4    Few times a week     Yes  \n",
       "..                ...     ...  \n",
       "560               NaN      No  \n",
       "561               NaN      No  \n",
       "562               NaN      No  \n",
       "563               NaN      No  \n",
       "564               NaN      No  \n",
       "\n",
       "[565 rows x 212 columns]"
      ]
     },
     "execution_count": 867,
     "metadata": {},
     "output_type": "execute_result"
    }
   ],
   "source": [
    "import pandas as pd\n",
    "metadata = pd.read_csv(\"data/metadata.tsv\",sep='\\t').rename(columns={'id':'sample_id'})\n",
    "tax = pd.merge(tax, metadata, on=\"sample_id\")\n",
    "tax"
   ]
  },
  {
   "cell_type": "markdown",
   "metadata": {
    "id": "RTbYBR8cJfup"
   },
   "source": [
    "### With our taxonomy table ready to go, and our metadata merged, its finally time to get to the model building! 🎉\n",
    "\n",
    "## Building community models\n",
    "\n",
    "With the data we have now, building our models is pretty easy. We just pass our taxonomy table and model database to MICOM. We will remove all taxa that make up less than 5% of the community to keep the models small and speed up this tutorial. We will also have to specify where to write the models. For simplicity, we'll run this process in parallel over two threads. It should take around 10 minutes to finish."
   ]
  },
  {
   "cell_type": "code",
   "execution_count": 767,
   "metadata": {
    "id": "kDbSN71SmCZr",
    "scrolled": true
   },
   "outputs": [
    {
     "data": {
      "application/vnd.jupyter.widget-view+json": {
       "model_id": "819767d34c7446afa237b076f3a2947b",
       "version_major": 2,
       "version_minor": 0
      },
      "text/plain": [
       "Output()"
      ]
     },
     "metadata": {},
     "output_type": "display_data"
    },
    {
     "name": "stderr",
     "output_type": "stream",
     "text": [
      "IOPub message rate exceeded.\n",
      "The Jupyter server will temporarily stop sending output\n",
      "to the client in order to avoid crashing it.\n",
      "To change this limit, set the config variable\n",
      "`--ServerApp.iopub_msg_rate_limit`.\n",
      "\n",
      "Current values:\n",
      "ServerApp.iopub_msg_rate_limit=1000.0 (msgs/sec)\n",
      "ServerApp.rate_limit_window=3.0 (secs)\n",
      "\n"
     ]
    },
    {
     "name": "stdout",
     "output_type": "stream",
     "text": [
      "\u001b[2;36m[18:42:41]\u001b[0m\u001b[2;36m \u001b[0m\u001b[31mWARNING \u001b[0m The following sinks or demands were forced in the \u001b]8;id=913955;file:///users/acarr/anaconda3/envs/micom/lib/python3.8/site-packages/micom/util.py\u001b\\\u001b[2mutil.py\u001b[0m\u001b]8;;\u001b\\\u001b[2m:\u001b[0m\u001b]8;id=776155;file:///users/acarr/anaconda3/envs/micom/lib/python3.8/site-packages/micom/util.py#64\u001b\\\u001b[2m64\u001b[0m\u001b]8;;\u001b\\\n",
      "\u001b[2;36m           \u001b[0m         model and have been relaxed since they would      \u001b[2m          \u001b[0m\n",
      "\u001b[2;36m           \u001b[0m         interfere with MICOM's growth rate estimation:    \u001b[2m          \u001b[0m\n",
      "\u001b[2;36m           \u001b[0m         \u001b[1;35mDM_thmpp\u001b[0m\u001b[1m(\u001b[0mc\u001b[1m)\u001b[0m                                       \u001b[2m          \u001b[0m\n",
      "\u001b[2;36m[18:43:01]\u001b[0m\u001b[2;36m \u001b[0m\u001b[31mWARNING \u001b[0m The following sinks or demands were forced in the \u001b]8;id=23390;file:///users/acarr/anaconda3/envs/micom/lib/python3.8/site-packages/micom/util.py\u001b\\\u001b[2mutil.py\u001b[0m\u001b]8;;\u001b\\\u001b[2m:\u001b[0m\u001b]8;id=913572;file:///users/acarr/anaconda3/envs/micom/lib/python3.8/site-packages/micom/util.py#64\u001b\\\u001b[2m64\u001b[0m\u001b]8;;\u001b\\\n",
      "\u001b[2;36m           \u001b[0m         model and have been relaxed since they would      \u001b[2m          \u001b[0m\n",
      "\u001b[2;36m           \u001b[0m         interfere with MICOM's growth rate estimation:    \u001b[2m          \u001b[0m\n",
      "\u001b[2;36m           \u001b[0m         \u001b[1;35mDM_thmpp\u001b[0m\u001b[1m(\u001b[0mc\u001b[1m)\u001b[0m                                       \u001b[2m          \u001b[0m\n"
     ]
    }
   ],
   "source": [
    "from micom.workflows import build\n",
    "from micom import Community\n",
    "import pandas as pd\n",
    "\n",
    "manifest = build(tax, \"agora103_genus.qza\", \"models\", solver=\"osqp\",\n",
    "                 cutoff=0.05, threads=2)"
   ]
  },
  {
   "cell_type": "markdown",
   "metadata": {
    "id": "y4KAJkhIdspQ"
   },
   "source": [
    "This will tell you how many taxa were found in the database and what fraction of the total abundance was represented by the database. For most samples, this looks okay (i.e., >70% of abundance represented).\n",
    "\n",
    "So we now have our community models and can leverage MICOM fully by simulating community growth - let's discuss what we want to look at.\n",
    "\n",
    "### Microbiome Context\n",
    "\n",
    "Now that our models are ready to go, let's think about some of the insights we might gain from these samples. First and foremost, we want to investigate how the activity (e.g., how the metabolic production and consumption patterns) of microbiomes from patients with parkinson's disease might differ from those of healthy controls. Our goal here is to assess whether the microbiome might be playing a role in disease.\n",
    "\n",
    "Alright, lets get to it!"
   ]
  },
  {
   "cell_type": "markdown",
   "metadata": {
    "id": "etrvjwBLkKdR"
   },
   "source": [
    "First we need to import our dietary context. For simplicity we will be using a formulation that represents an average western diet, but if information about host diet is known other formulations can be used (e.g., vegetarian or vegan diet). Additional dietary formulations can be found [here]( https://github.com/micom-dev/media/tree/main/media)"
   ]
  },
  {
   "cell_type": "code",
   "execution_count": 617,
   "metadata": {
    "id": "aJwXAR4PPAkA"
   },
   "outputs": [
    {
     "data": {
      "text/html": [
       "<div>\n",
       "<style scoped>\n",
       "    .dataframe tbody tr th:only-of-type {\n",
       "        vertical-align: middle;\n",
       "    }\n",
       "\n",
       "    .dataframe tbody tr th {\n",
       "        vertical-align: top;\n",
       "    }\n",
       "\n",
       "    .dataframe thead th {\n",
       "        text-align: right;\n",
       "    }\n",
       "</style>\n",
       "<table border=\"1\" class=\"dataframe\">\n",
       "  <thead>\n",
       "    <tr style=\"text-align: right;\">\n",
       "      <th></th>\n",
       "      <th>reaction</th>\n",
       "      <th>metabolite</th>\n",
       "      <th>global_id</th>\n",
       "      <th>flux</th>\n",
       "    </tr>\n",
       "    <tr>\n",
       "      <th>reaction</th>\n",
       "      <th></th>\n",
       "      <th></th>\n",
       "      <th></th>\n",
       "      <th></th>\n",
       "    </tr>\n",
       "  </thead>\n",
       "  <tbody>\n",
       "    <tr>\n",
       "      <th>EX_4abz_m</th>\n",
       "      <td>EX_4abz_m</td>\n",
       "      <td>4abz_m</td>\n",
       "      <td>EX_4abz(e)</td>\n",
       "      <td>0.1</td>\n",
       "    </tr>\n",
       "    <tr>\n",
       "      <th>EX_4hbz_m</th>\n",
       "      <td>EX_4hbz_m</td>\n",
       "      <td>4hbz_m</td>\n",
       "      <td>EX_4hbz(e)</td>\n",
       "      <td>0.1</td>\n",
       "    </tr>\n",
       "    <tr>\n",
       "      <th>EX_ac_m</th>\n",
       "      <td>EX_ac_m</td>\n",
       "      <td>ac_m</td>\n",
       "      <td>EX_ac(e)</td>\n",
       "      <td>0.1</td>\n",
       "    </tr>\n",
       "    <tr>\n",
       "      <th>EX_acgam_m</th>\n",
       "      <td>EX_acgam_m</td>\n",
       "      <td>acgam_m</td>\n",
       "      <td>EX_acgam(e)</td>\n",
       "      <td>0.1</td>\n",
       "    </tr>\n",
       "    <tr>\n",
       "      <th>EX_ala_L_m</th>\n",
       "      <td>EX_ala_L_m</td>\n",
       "      <td>ala_L_m</td>\n",
       "      <td>EX_ala_L(e)</td>\n",
       "      <td>0.1</td>\n",
       "    </tr>\n",
       "    <tr>\n",
       "      <th>...</th>\n",
       "      <td>...</td>\n",
       "      <td>...</td>\n",
       "      <td>...</td>\n",
       "      <td>...</td>\n",
       "    </tr>\n",
       "    <tr>\n",
       "      <th>EX_octa_m</th>\n",
       "      <td>EX_octa_m</td>\n",
       "      <td>octa_m</td>\n",
       "      <td>EX_octa(e)</td>\n",
       "      <td>0.0</td>\n",
       "    </tr>\n",
       "    <tr>\n",
       "      <th>EX_adpcbl_m</th>\n",
       "      <td>EX_adpcbl_m</td>\n",
       "      <td>adpcbl_m</td>\n",
       "      <td>EX_adpcbl(e)</td>\n",
       "      <td>0.0</td>\n",
       "    </tr>\n",
       "    <tr>\n",
       "      <th>EX_fe3dcit_m</th>\n",
       "      <td>EX_fe3dcit_m</td>\n",
       "      <td>fe3dcit_m</td>\n",
       "      <td>EX_fe3dcit(e)</td>\n",
       "      <td>0.0</td>\n",
       "    </tr>\n",
       "    <tr>\n",
       "      <th>EX_pydx5p_m</th>\n",
       "      <td>EX_pydx5p_m</td>\n",
       "      <td>pydx5p_m</td>\n",
       "      <td>EX_pydx5p(e)</td>\n",
       "      <td>0.0</td>\n",
       "    </tr>\n",
       "    <tr>\n",
       "      <th>EX_glu_D_m</th>\n",
       "      <td>EX_glu_D_m</td>\n",
       "      <td>glu_D_m</td>\n",
       "      <td>EX_glu_D(e)</td>\n",
       "      <td>0.0</td>\n",
       "    </tr>\n",
       "  </tbody>\n",
       "</table>\n",
       "<p>171 rows × 4 columns</p>\n",
       "</div>"
      ],
      "text/plain": [
       "                  reaction metabolite      global_id  flux\n",
       "reaction                                                  \n",
       "EX_4abz_m        EX_4abz_m     4abz_m     EX_4abz(e)   0.1\n",
       "EX_4hbz_m        EX_4hbz_m     4hbz_m     EX_4hbz(e)   0.1\n",
       "EX_ac_m            EX_ac_m       ac_m       EX_ac(e)   0.1\n",
       "EX_acgam_m      EX_acgam_m    acgam_m    EX_acgam(e)   0.1\n",
       "EX_ala_L_m      EX_ala_L_m    ala_L_m    EX_ala_L(e)   0.1\n",
       "...                    ...        ...            ...   ...\n",
       "EX_octa_m        EX_octa_m     octa_m     EX_octa(e)   0.0\n",
       "EX_adpcbl_m    EX_adpcbl_m   adpcbl_m   EX_adpcbl(e)   0.0\n",
       "EX_fe3dcit_m  EX_fe3dcit_m  fe3dcit_m  EX_fe3dcit(e)   0.0\n",
       "EX_pydx5p_m    EX_pydx5p_m   pydx5p_m   EX_pydx5p(e)   0.0\n",
       "EX_glu_D_m      EX_glu_D_m    glu_D_m    EX_glu_D(e)   0.0\n",
       "\n",
       "[171 rows x 4 columns]"
      ]
     },
     "execution_count": 617,
     "metadata": {},
     "output_type": "execute_result"
    }
   ],
   "source": [
    "from micom.qiime_formats import load_qiime_medium\n",
    "medium = load_qiime_medium(\"western_diet_gut_agora.qza\")\n",
    "medium"
   ]
  },
  {
   "cell_type": "markdown",
   "metadata": {
    "id": "4s8R4WYUez4g"
   },
   "source": [
    "### Growing the models\n",
    "Great, now we have our media & our models, it's time to get growing. This will take some time, so we'll use that time as an opportunity to discuss more in depth what these processes do, and what to look for in the results. First, let's run the `grow()` command. This will take the models we've built, and find an optimal solution to the fluxes based upon the medium that's been applied. Should take about 10 minutes to complete."
   ]
  },
  {
   "cell_type": "markdown",
   "metadata": {
    "id": "3WH8VVrVS4mv"
   },
   "source": [
    "If that takes too long or was aborted, we can read it in from the treasure chest."
   ]
  },
  {
   "cell_type": "code",
   "execution_count": 768,
   "metadata": {
    "id": "IjDguZEcWGjG",
    "scrolled": true
   },
   "outputs": [
    {
     "data": {
      "application/vnd.jupyter.widget-view+json": {
       "model_id": "0d401340afd047ffb60b3e10a4dd8ca6",
       "version_major": 2,
       "version_minor": 0
      },
      "text/plain": [
       "Output()"
      ]
     },
     "metadata": {},
     "output_type": "display_data"
    },
    {
     "name": "stderr",
     "output_type": "stream",
     "text": [
      "/users/acarr/anaconda3/envs/micom/lib/python3.8/site-packages/micom/util.py:269: FutureWarning: Calling float on a single element Series is deprecated and will raise a TypeError in the future. Use float(ser.iloc[0]) instead\n",
      "  min_growth = float(min_growth)\n"
     ]
    }
   ],
   "source": [
    "from micom.workflows import grow, save_results\n",
    "\n",
    "growth = grow(manifest, \"models\",medium, tradeoff=0.8, threads=2)\n",
    "\n",
    "# We'll save the results to a file\n",
    "save_results(growth, \"growth.zip\")"
   ]
  },
  {
   "cell_type": "markdown",
   "metadata": {
    "id": "rHedHJxHWkjy"
   },
   "source": [
    "Again, if that takes too long or was aborted, we can read it in from the treasure chest."
   ]
  },
  {
   "cell_type": "code",
   "execution_count": null,
   "metadata": {
    "id": "rcPNBkDpWGrQ"
   },
   "outputs": [],
   "source": [
    "from micom.workflows import load_results\n",
    "\n",
    "try:               # Will only run if the previous step failed\n",
    "  growth\n",
    "except NameError:\n",
    "  growth = load_results(\"treasure_chest/growth.zip\")"
   ]
  },
  {
   "cell_type": "markdown",
   "metadata": {
    "id": "69gq9QfAzqxq"
   },
   "source": [
    "What kind of results did we get? Well, `grow` returns a tuple of 3 data sets:\n",
    "\n",
    "1. The predicted growth rate for all taxa in all samples\n",
    "2. The import and export fluxes for each taxon and the external environment\n",
    "3. Annotations for the fluxes mapping to other databases\n",
    "\n",
    "### 📈 Growth Rates\n",
    "\n",
    "The growth rates are pretty straightforward."
   ]
  },
  {
   "cell_type": "code",
   "execution_count": 871,
   "metadata": {
    "id": "2r_XUm7U-HSm"
   },
   "outputs": [
    {
     "data": {
      "text/html": [
       "<div>\n",
       "<style scoped>\n",
       "    .dataframe tbody tr th:only-of-type {\n",
       "        vertical-align: middle;\n",
       "    }\n",
       "\n",
       "    .dataframe tbody tr th {\n",
       "        vertical-align: top;\n",
       "    }\n",
       "\n",
       "    .dataframe thead th {\n",
       "        text-align: right;\n",
       "    }\n",
       "</style>\n",
       "<table border=\"1\" class=\"dataframe\">\n",
       "  <thead>\n",
       "    <tr style=\"text-align: right;\">\n",
       "      <th></th>\n",
       "      <th>abundance</th>\n",
       "      <th>growth_rate</th>\n",
       "      <th>reactions</th>\n",
       "      <th>metabolites</th>\n",
       "      <th>taxon</th>\n",
       "      <th>tradeoff</th>\n",
       "      <th>sample_id</th>\n",
       "      <th>id_num</th>\n",
       "      <th>age</th>\n",
       "      <th>case_control</th>\n",
       "      <th>...</th>\n",
       "      <th>sleep_aid</th>\n",
       "      <th>BMI</th>\n",
       "      <th>grains</th>\n",
       "      <th>skin_cancer</th>\n",
       "      <th>weight_lbs</th>\n",
       "      <th>anti_inflammatory_bool</th>\n",
       "      <th>bipolar</th>\n",
       "      <th>shingles</th>\n",
       "      <th>yogurt</th>\n",
       "      <th>malaria</th>\n",
       "    </tr>\n",
       "  </thead>\n",
       "  <tbody>\n",
       "    <tr>\n",
       "      <th>0</th>\n",
       "      <td>0.082999</td>\n",
       "      <td>0.190431</td>\n",
       "      <td>1278</td>\n",
       "      <td>1090</td>\n",
       "      <td>g__Acidaminococcus</td>\n",
       "      <td>0.8</td>\n",
       "      <td>ERR1513701</td>\n",
       "      <td>33</td>\n",
       "      <td>78</td>\n",
       "      <td>Case</td>\n",
       "      <td>...</td>\n",
       "      <td>No</td>\n",
       "      <td>18.99</td>\n",
       "      <td>At least once a day</td>\n",
       "      <td>Yes</td>\n",
       "      <td>140.0</td>\n",
       "      <td>No</td>\n",
       "      <td>No</td>\n",
       "      <td>No</td>\n",
       "      <td>Less than once a month or never</td>\n",
       "      <td>No</td>\n",
       "    </tr>\n",
       "    <tr>\n",
       "      <th>1</th>\n",
       "      <td>0.189121</td>\n",
       "      <td>0.226573</td>\n",
       "      <td>2274</td>\n",
       "      <td>1386</td>\n",
       "      <td>g__Akkermansia</td>\n",
       "      <td>0.8</td>\n",
       "      <td>ERR1513701</td>\n",
       "      <td>33</td>\n",
       "      <td>78</td>\n",
       "      <td>Case</td>\n",
       "      <td>...</td>\n",
       "      <td>No</td>\n",
       "      <td>18.99</td>\n",
       "      <td>At least once a day</td>\n",
       "      <td>Yes</td>\n",
       "      <td>140.0</td>\n",
       "      <td>No</td>\n",
       "      <td>No</td>\n",
       "      <td>No</td>\n",
       "      <td>Less than once a month or never</td>\n",
       "      <td>No</td>\n",
       "    </tr>\n",
       "    <tr>\n",
       "      <th>2</th>\n",
       "      <td>0.020449</td>\n",
       "      <td>0.047051</td>\n",
       "      <td>2650</td>\n",
       "      <td>1613</td>\n",
       "      <td>g__Alistipes</td>\n",
       "      <td>0.8</td>\n",
       "      <td>ERR1513701</td>\n",
       "      <td>33</td>\n",
       "      <td>78</td>\n",
       "      <td>Case</td>\n",
       "      <td>...</td>\n",
       "      <td>No</td>\n",
       "      <td>18.99</td>\n",
       "      <td>At least once a day</td>\n",
       "      <td>Yes</td>\n",
       "      <td>140.0</td>\n",
       "      <td>No</td>\n",
       "      <td>No</td>\n",
       "      <td>No</td>\n",
       "      <td>Less than once a month or never</td>\n",
       "      <td>No</td>\n",
       "    </tr>\n",
       "    <tr>\n",
       "      <th>3</th>\n",
       "      <td>0.280540</td>\n",
       "      <td>0.615431</td>\n",
       "      <td>3293</td>\n",
       "      <td>1883</td>\n",
       "      <td>g__Bacteroides</td>\n",
       "      <td>0.8</td>\n",
       "      <td>ERR1513701</td>\n",
       "      <td>33</td>\n",
       "      <td>78</td>\n",
       "      <td>Case</td>\n",
       "      <td>...</td>\n",
       "      <td>No</td>\n",
       "      <td>18.99</td>\n",
       "      <td>At least once a day</td>\n",
       "      <td>Yes</td>\n",
       "      <td>140.0</td>\n",
       "      <td>No</td>\n",
       "      <td>No</td>\n",
       "      <td>No</td>\n",
       "      <td>Less than once a month or never</td>\n",
       "      <td>No</td>\n",
       "    </tr>\n",
       "    <tr>\n",
       "      <th>4</th>\n",
       "      <td>0.082465</td>\n",
       "      <td>0.188470</td>\n",
       "      <td>3108</td>\n",
       "      <td>1734</td>\n",
       "      <td>g__Bifidobacterium</td>\n",
       "      <td>0.8</td>\n",
       "      <td>ERR1513701</td>\n",
       "      <td>33</td>\n",
       "      <td>78</td>\n",
       "      <td>Case</td>\n",
       "      <td>...</td>\n",
       "      <td>No</td>\n",
       "      <td>18.99</td>\n",
       "      <td>At least once a day</td>\n",
       "      <td>Yes</td>\n",
       "      <td>140.0</td>\n",
       "      <td>No</td>\n",
       "      <td>No</td>\n",
       "      <td>No</td>\n",
       "      <td>Less than once a month or never</td>\n",
       "      <td>No</td>\n",
       "    </tr>\n",
       "    <tr>\n",
       "      <th>...</th>\n",
       "      <td>...</td>\n",
       "      <td>...</td>\n",
       "      <td>...</td>\n",
       "      <td>...</td>\n",
       "      <td>...</td>\n",
       "      <td>...</td>\n",
       "      <td>...</td>\n",
       "      <td>...</td>\n",
       "      <td>...</td>\n",
       "      <td>...</td>\n",
       "      <td>...</td>\n",
       "      <td>...</td>\n",
       "      <td>...</td>\n",
       "      <td>...</td>\n",
       "      <td>...</td>\n",
       "      <td>...</td>\n",
       "      <td>...</td>\n",
       "      <td>...</td>\n",
       "      <td>...</td>\n",
       "      <td>...</td>\n",
       "      <td>...</td>\n",
       "    </tr>\n",
       "    <tr>\n",
       "      <th>110</th>\n",
       "      <td>0.023226</td>\n",
       "      <td>0.077804</td>\n",
       "      <td>2879</td>\n",
       "      <td>1747</td>\n",
       "      <td>g__Parabacteroides</td>\n",
       "      <td>0.8</td>\n",
       "      <td>ERR1513870</td>\n",
       "      <td>202</td>\n",
       "      <td>70</td>\n",
       "      <td>Case</td>\n",
       "      <td>...</td>\n",
       "      <td>NaN</td>\n",
       "      <td>25.68</td>\n",
       "      <td>At least once a day</td>\n",
       "      <td>NaN</td>\n",
       "      <td>200.0</td>\n",
       "      <td>NaN</td>\n",
       "      <td>NaN</td>\n",
       "      <td>NaN</td>\n",
       "      <td>NaN</td>\n",
       "      <td>NaN</td>\n",
       "    </tr>\n",
       "    <tr>\n",
       "      <th>111</th>\n",
       "      <td>0.164500</td>\n",
       "      <td>0.563866</td>\n",
       "      <td>2712</td>\n",
       "      <td>1656</td>\n",
       "      <td>g__Phocaeicola</td>\n",
       "      <td>0.8</td>\n",
       "      <td>ERR1513870</td>\n",
       "      <td>202</td>\n",
       "      <td>70</td>\n",
       "      <td>Case</td>\n",
       "      <td>...</td>\n",
       "      <td>NaN</td>\n",
       "      <td>25.68</td>\n",
       "      <td>At least once a day</td>\n",
       "      <td>NaN</td>\n",
       "      <td>200.0</td>\n",
       "      <td>NaN</td>\n",
       "      <td>NaN</td>\n",
       "      <td>NaN</td>\n",
       "      <td>NaN</td>\n",
       "      <td>NaN</td>\n",
       "    </tr>\n",
       "    <tr>\n",
       "      <th>112</th>\n",
       "      <td>0.063659</td>\n",
       "      <td>0.214426</td>\n",
       "      <td>2357</td>\n",
       "      <td>1567</td>\n",
       "      <td>g__Roseburia</td>\n",
       "      <td>0.8</td>\n",
       "      <td>ERR1513870</td>\n",
       "      <td>202</td>\n",
       "      <td>70</td>\n",
       "      <td>Case</td>\n",
       "      <td>...</td>\n",
       "      <td>NaN</td>\n",
       "      <td>25.68</td>\n",
       "      <td>At least once a day</td>\n",
       "      <td>NaN</td>\n",
       "      <td>200.0</td>\n",
       "      <td>NaN</td>\n",
       "      <td>NaN</td>\n",
       "      <td>NaN</td>\n",
       "      <td>NaN</td>\n",
       "      <td>NaN</td>\n",
       "    </tr>\n",
       "    <tr>\n",
       "      <th>113</th>\n",
       "      <td>0.105370</td>\n",
       "      <td>0.058135</td>\n",
       "      <td>2779</td>\n",
       "      <td>1788</td>\n",
       "      <td>g__Ruminococcus</td>\n",
       "      <td>0.8</td>\n",
       "      <td>ERR1513870</td>\n",
       "      <td>202</td>\n",
       "      <td>70</td>\n",
       "      <td>Case</td>\n",
       "      <td>...</td>\n",
       "      <td>NaN</td>\n",
       "      <td>25.68</td>\n",
       "      <td>At least once a day</td>\n",
       "      <td>NaN</td>\n",
       "      <td>200.0</td>\n",
       "      <td>NaN</td>\n",
       "      <td>NaN</td>\n",
       "      <td>NaN</td>\n",
       "      <td>NaN</td>\n",
       "      <td>NaN</td>\n",
       "    </tr>\n",
       "    <tr>\n",
       "      <th>114</th>\n",
       "      <td>0.016461</td>\n",
       "      <td>0.055495</td>\n",
       "      <td>1233</td>\n",
       "      <td>1081</td>\n",
       "      <td>g__Sutterella</td>\n",
       "      <td>0.8</td>\n",
       "      <td>ERR1513870</td>\n",
       "      <td>202</td>\n",
       "      <td>70</td>\n",
       "      <td>Case</td>\n",
       "      <td>...</td>\n",
       "      <td>NaN</td>\n",
       "      <td>25.68</td>\n",
       "      <td>At least once a day</td>\n",
       "      <td>NaN</td>\n",
       "      <td>200.0</td>\n",
       "      <td>NaN</td>\n",
       "      <td>NaN</td>\n",
       "      <td>NaN</td>\n",
       "      <td>NaN</td>\n",
       "      <td>NaN</td>\n",
       "    </tr>\n",
       "  </tbody>\n",
       "</table>\n",
       "<p>115 rows × 36 columns</p>\n",
       "</div>"
      ],
      "text/plain": [
       "     abundance  growth_rate  reactions  metabolites               taxon  \\\n",
       "0     0.082999     0.190431       1278         1090  g__Acidaminococcus   \n",
       "1     0.189121     0.226573       2274         1386      g__Akkermansia   \n",
       "2     0.020449     0.047051       2650         1613        g__Alistipes   \n",
       "3     0.280540     0.615431       3293         1883      g__Bacteroides   \n",
       "4     0.082465     0.188470       3108         1734  g__Bifidobacterium   \n",
       "..         ...          ...        ...          ...                 ...   \n",
       "110   0.023226     0.077804       2879         1747  g__Parabacteroides   \n",
       "111   0.164500     0.563866       2712         1656      g__Phocaeicola   \n",
       "112   0.063659     0.214426       2357         1567        g__Roseburia   \n",
       "113   0.105370     0.058135       2779         1788     g__Ruminococcus   \n",
       "114   0.016461     0.055495       1233         1081       g__Sutterella   \n",
       "\n",
       "     tradeoff   sample_id  id_num  age case_control  ... sleep_aid    BMI  \\\n",
       "0         0.8  ERR1513701      33   78         Case  ...        No  18.99   \n",
       "1         0.8  ERR1513701      33   78         Case  ...        No  18.99   \n",
       "2         0.8  ERR1513701      33   78         Case  ...        No  18.99   \n",
       "3         0.8  ERR1513701      33   78         Case  ...        No  18.99   \n",
       "4         0.8  ERR1513701      33   78         Case  ...        No  18.99   \n",
       "..        ...         ...     ...  ...          ...  ...       ...    ...   \n",
       "110       0.8  ERR1513870     202   70         Case  ...       NaN  25.68   \n",
       "111       0.8  ERR1513870     202   70         Case  ...       NaN  25.68   \n",
       "112       0.8  ERR1513870     202   70         Case  ...       NaN  25.68   \n",
       "113       0.8  ERR1513870     202   70         Case  ...       NaN  25.68   \n",
       "114       0.8  ERR1513870     202   70         Case  ...       NaN  25.68   \n",
       "\n",
       "                  grains  skin_cancer weight_lbs  anti_inflammatory_bool  \\\n",
       "0    At least once a day          Yes      140.0                      No   \n",
       "1    At least once a day          Yes      140.0                      No   \n",
       "2    At least once a day          Yes      140.0                      No   \n",
       "3    At least once a day          Yes      140.0                      No   \n",
       "4    At least once a day          Yes      140.0                      No   \n",
       "..                   ...          ...        ...                     ...   \n",
       "110  At least once a day          NaN      200.0                     NaN   \n",
       "111  At least once a day          NaN      200.0                     NaN   \n",
       "112  At least once a day          NaN      200.0                     NaN   \n",
       "113  At least once a day          NaN      200.0                     NaN   \n",
       "114  At least once a day          NaN      200.0                     NaN   \n",
       "\n",
       "     bipolar shingles                           yogurt malaria  \n",
       "0         No       No  Less than once a month or never      No  \n",
       "1         No       No  Less than once a month or never      No  \n",
       "2         No       No  Less than once a month or never      No  \n",
       "3         No       No  Less than once a month or never      No  \n",
       "4         No       No  Less than once a month or never      No  \n",
       "..       ...      ...                              ...     ...  \n",
       "110      NaN      NaN                              NaN     NaN  \n",
       "111      NaN      NaN                              NaN     NaN  \n",
       "112      NaN      NaN                              NaN     NaN  \n",
       "113      NaN      NaN                              NaN     NaN  \n",
       "114      NaN      NaN                              NaN     NaN  \n",
       "\n",
       "[115 rows x 36 columns]"
      ]
     },
     "execution_count": 871,
     "metadata": {},
     "output_type": "execute_result"
    }
   ],
   "source": [
    "growth_rates=pd.merge(growth.growth_rates,metadata,on='sample_id')\n",
    "growth_rates"
   ]
  },
  {
   "cell_type": "markdown",
   "metadata": {
    "id": "F5BK7DDv0UfA"
   },
   "source": [
    "### ↔️ Exchange Fluxes\n",
    "\n",
    "More interesting are the exchange fluxes. These reactions represent the import and export of metabolites from the system Let's look at those now:"
   ]
  },
  {
   "cell_type": "markdown",
   "metadata": {
    "id": "Pu5XtkUl1YG1"
   },
   "source": [
    "So we see how much of each metabolite is either consumed or produced by each taxon in each sample. `tolerance` denotes the accuracy of the solver and tells you the smallest absolute flux that is likely different form zero (i.e., substantial flux). *All of the fluxes are normalized to 1g dry weight of bacteria*. So, you can directly compare fluxes between taxa, even if they are present at very different abundances.\n",
    "\n",
    "If you're curious what the abbreviation for each of these metabolites represents, that can be found in the annotations dataframe. For instance, let's find out what `\"but[e]\"` represents."
   ]
  },
  {
   "cell_type": "code",
   "execution_count": 873,
   "metadata": {
    "id": "DphXa9hw1yxM"
   },
   "outputs": [
    {
     "data": {
      "text/html": [
       "<div>\n",
       "<style scoped>\n",
       "    .dataframe tbody tr th:only-of-type {\n",
       "        vertical-align: middle;\n",
       "    }\n",
       "\n",
       "    .dataframe tbody tr th {\n",
       "        vertical-align: top;\n",
       "    }\n",
       "\n",
       "    .dataframe thead th {\n",
       "        text-align: right;\n",
       "    }\n",
       "</style>\n",
       "<table border=\"1\" class=\"dataframe\">\n",
       "  <thead>\n",
       "    <tr style=\"text-align: right;\">\n",
       "      <th></th>\n",
       "      <th>metabolite</th>\n",
       "      <th>name</th>\n",
       "      <th>molecular_weight</th>\n",
       "      <th>C_number</th>\n",
       "      <th>N_number</th>\n",
       "      <th>hmdb</th>\n",
       "      <th>inchi</th>\n",
       "      <th>kegg.compound</th>\n",
       "      <th>pubchem.compound</th>\n",
       "      <th>reaction</th>\n",
       "    </tr>\n",
       "  </thead>\n",
       "  <tbody>\n",
       "    <tr>\n",
       "      <th>692</th>\n",
       "      <td>but[e]</td>\n",
       "      <td>butyrate</td>\n",
       "      <td>87.09718</td>\n",
       "      <td>4</td>\n",
       "      <td>0</td>\n",
       "      <td>HMDB00039</td>\n",
       "      <td>InChI=1S/C4H8O2/c1-2-3-4(5)6/h2-3H2,1H3,(H,5,6...</td>\n",
       "      <td>C00246</td>\n",
       "      <td>264.0</td>\n",
       "      <td>EX_but(e)</td>\n",
       "    </tr>\n",
       "  </tbody>\n",
       "</table>\n",
       "</div>"
      ],
      "text/plain": [
       "    metabolite      name  molecular_weight  C_number  N_number       hmdb  \\\n",
       "692     but[e]  butyrate          87.09718         4         0  HMDB00039   \n",
       "\n",
       "                                                 inchi kegg.compound  \\\n",
       "692  InChI=1S/C4H8O2/c1-2-3-4(5)6/h2-3H2,1H3,(H,5,6...        C00246   \n",
       "\n",
       "     pubchem.compound   reaction  \n",
       "692             264.0  EX_but(e)  "
      ]
     },
     "execution_count": 873,
     "metadata": {},
     "output_type": "execute_result"
    }
   ],
   "source": [
    "anns = growth.annotations\n",
    "anns[anns.metabolite == \"but[e]\"]"
   ]
  },
  {
   "cell_type": "markdown",
   "metadata": {
    "id": "GVHLD2dm4a6B"
   },
   "source": [
    "Butyrate! Interesting, [that's an important metabolite](https://www.nature.com/articles/s41392-024-01743-1) in the context of the gut brain axis! All of these annotations and more information at are also available at https://vmh.life, maintained by Drs. Ronan Fleming's and Ines Thiele's labs."
   ]
  },
  {
   "cell_type": "markdown",
   "metadata": {
    "id": "CImtzqRJbbGj"
   },
   "source": [
    "\n",
    "# 📊 Visualizations\n",
    "\n",
    "Let's visualize our results. Because of the rich output of these models, it can be overwhelming to represent it all, but don't worry! There are tools in place for this already.\n",
    "\n",
    "We will use the standard visualizations included in MICOM. These tools take in the growth results we obtained before and create visualizations in standalone HTML files that bundle the plots and raw data and can be viewed directly in your browser.\n",
    "\n",
    "First, let's look at the growth rates of each taxon across samples."
   ]
  },
  {
   "cell_type": "code",
   "execution_count": 874,
   "metadata": {
    "id": "EaplMHFLcMT7"
   },
   "outputs": [],
   "source": [
    "from micom.viz import *\n",
    "\n",
    "viz = plot_growth(growth, filename=\"growthrates.html\")"
   ]
  },
  {
   "cell_type": "markdown",
   "metadata": {
    "id": "_sjNIuCSXkyb"
   },
   "source": [
    "Normally, we could call `viz.view()` afterwards and it would open it in our web browser. However, this will not work in Colab. However, the plot function creates the file `growth_rates_[DATE].html` in your `materials` folder. To open it, simply download that file and view it in your web browser. We can see that there are many things going on, but it's not super clear. Let's continue."
   ]
  },
  {
   "cell_type": "markdown",
   "metadata": {
    "id": "qPTCyw-7RqFm"
   },
   "source": [
    "We're interested in understanding the role of microbiome activity in parkinson's disease. Prior work has suggested short-chain fatty acids (SCFAs) and genera the produce them, like  Faecalibacterium, Roseburia and Blautia may play a role in mitigate the onset and severity of disease. Let's take a look at the growth rates of these genera and how they vary across cases and controls.\n",
    "\n"
   ]
  },
  {
   "cell_type": "code",
   "execution_count": 889,
   "metadata": {
    "id": "9YlWytSp-yKI"
   },
   "outputs": [
    {
     "data": {
      "text/html": [
       "<div>\n",
       "<style scoped>\n",
       "    .dataframe tbody tr th:only-of-type {\n",
       "        vertical-align: middle;\n",
       "    }\n",
       "\n",
       "    .dataframe tbody tr th {\n",
       "        vertical-align: top;\n",
       "    }\n",
       "\n",
       "    .dataframe thead th {\n",
       "        text-align: right;\n",
       "    }\n",
       "</style>\n",
       "<table border=\"1\" class=\"dataframe\">\n",
       "  <thead>\n",
       "    <tr style=\"text-align: right;\">\n",
       "      <th></th>\n",
       "      <th>abundance</th>\n",
       "      <th>growth_rate</th>\n",
       "      <th>reactions</th>\n",
       "      <th>metabolites</th>\n",
       "      <th>taxon</th>\n",
       "      <th>tradeoff</th>\n",
       "      <th>sample_id</th>\n",
       "      <th>id_num</th>\n",
       "      <th>age</th>\n",
       "      <th>case_control</th>\n",
       "      <th>...</th>\n",
       "      <th>sleep_aid</th>\n",
       "      <th>BMI</th>\n",
       "      <th>grains</th>\n",
       "      <th>skin_cancer</th>\n",
       "      <th>weight_lbs</th>\n",
       "      <th>anti_inflammatory_bool</th>\n",
       "      <th>bipolar</th>\n",
       "      <th>shingles</th>\n",
       "      <th>yogurt</th>\n",
       "      <th>malaria</th>\n",
       "    </tr>\n",
       "  </thead>\n",
       "  <tbody>\n",
       "    <tr>\n",
       "      <th>12</th>\n",
       "      <td>0.065429</td>\n",
       "      <td>0.104987</td>\n",
       "      <td>1986</td>\n",
       "      <td>1472</td>\n",
       "      <td>g__Faecalibacterium</td>\n",
       "      <td>0.8</td>\n",
       "      <td>ERR1514003</td>\n",
       "      <td>335</td>\n",
       "      <td>63</td>\n",
       "      <td>Control</td>\n",
       "      <td>...</td>\n",
       "      <td>No</td>\n",
       "      <td>31.29</td>\n",
       "      <td>NaN</td>\n",
       "      <td>Yes</td>\n",
       "      <td>215.0</td>\n",
       "      <td>No</td>\n",
       "      <td>No</td>\n",
       "      <td>No</td>\n",
       "      <td>NaN</td>\n",
       "      <td>No</td>\n",
       "    </tr>\n",
       "    <tr>\n",
       "      <th>25</th>\n",
       "      <td>0.031691</td>\n",
       "      <td>0.057050</td>\n",
       "      <td>1986</td>\n",
       "      <td>1472</td>\n",
       "      <td>g__Faecalibacterium</td>\n",
       "      <td>0.8</td>\n",
       "      <td>ERR1513703</td>\n",
       "      <td>35</td>\n",
       "      <td>53</td>\n",
       "      <td>Case</td>\n",
       "      <td>...</td>\n",
       "      <td>No</td>\n",
       "      <td>27.92</td>\n",
       "      <td>At least once a day</td>\n",
       "      <td>No</td>\n",
       "      <td>173.0</td>\n",
       "      <td>No</td>\n",
       "      <td>No</td>\n",
       "      <td>No</td>\n",
       "      <td>Less than once a month or never</td>\n",
       "      <td>No</td>\n",
       "    </tr>\n",
       "    <tr>\n",
       "      <th>31</th>\n",
       "      <td>0.190848</td>\n",
       "      <td>0.280860</td>\n",
       "      <td>1986</td>\n",
       "      <td>1472</td>\n",
       "      <td>g__Faecalibacterium</td>\n",
       "      <td>0.8</td>\n",
       "      <td>ERR1513684</td>\n",
       "      <td>16</td>\n",
       "      <td>58</td>\n",
       "      <td>Case</td>\n",
       "      <td>...</td>\n",
       "      <td>No</td>\n",
       "      <td>25.33</td>\n",
       "      <td>At least once a day</td>\n",
       "      <td>Yes</td>\n",
       "      <td>200.0</td>\n",
       "      <td>Yes</td>\n",
       "      <td>No</td>\n",
       "      <td>No</td>\n",
       "      <td>Few times a week</td>\n",
       "      <td>Yes</td>\n",
       "    </tr>\n",
       "    <tr>\n",
       "      <th>43</th>\n",
       "      <td>0.117974</td>\n",
       "      <td>0.332004</td>\n",
       "      <td>1986</td>\n",
       "      <td>1472</td>\n",
       "      <td>g__Faecalibacterium</td>\n",
       "      <td>0.8</td>\n",
       "      <td>ERR1513964</td>\n",
       "      <td>296</td>\n",
       "      <td>69</td>\n",
       "      <td>Control</td>\n",
       "      <td>...</td>\n",
       "      <td>No</td>\n",
       "      <td>33.47</td>\n",
       "      <td>Few times a week</td>\n",
       "      <td>No</td>\n",
       "      <td>195.0</td>\n",
       "      <td>Yes</td>\n",
       "      <td>No</td>\n",
       "      <td>No</td>\n",
       "      <td>Less than once a month or never</td>\n",
       "      <td>No</td>\n",
       "    </tr>\n",
       "    <tr>\n",
       "      <th>54</th>\n",
       "      <td>0.177160</td>\n",
       "      <td>0.436417</td>\n",
       "      <td>1986</td>\n",
       "      <td>1472</td>\n",
       "      <td>g__Faecalibacterium</td>\n",
       "      <td>0.8</td>\n",
       "      <td>ERR1513777</td>\n",
       "      <td>109</td>\n",
       "      <td>62</td>\n",
       "      <td>Control</td>\n",
       "      <td>...</td>\n",
       "      <td>No</td>\n",
       "      <td>22.96</td>\n",
       "      <td>At least once a day</td>\n",
       "      <td>No</td>\n",
       "      <td>138.0</td>\n",
       "      <td>No</td>\n",
       "      <td>No</td>\n",
       "      <td>Yes</td>\n",
       "      <td>Less than once a month or never</td>\n",
       "      <td>No</td>\n",
       "    </tr>\n",
       "    <tr>\n",
       "      <th>66</th>\n",
       "      <td>0.075605</td>\n",
       "      <td>0.093228</td>\n",
       "      <td>1986</td>\n",
       "      <td>1472</td>\n",
       "      <td>g__Faecalibacterium</td>\n",
       "      <td>0.8</td>\n",
       "      <td>ERR1513983</td>\n",
       "      <td>315</td>\n",
       "      <td>72</td>\n",
       "      <td>Control</td>\n",
       "      <td>...</td>\n",
       "      <td>No</td>\n",
       "      <td>25.84</td>\n",
       "      <td>At least once a day</td>\n",
       "      <td>Yes</td>\n",
       "      <td>165.0</td>\n",
       "      <td>No</td>\n",
       "      <td>No</td>\n",
       "      <td>No</td>\n",
       "      <td>Few times a week</td>\n",
       "      <td>No</td>\n",
       "    </tr>\n",
       "    <tr>\n",
       "      <th>79</th>\n",
       "      <td>0.152840</td>\n",
       "      <td>0.327056</td>\n",
       "      <td>1986</td>\n",
       "      <td>1472</td>\n",
       "      <td>g__Faecalibacterium</td>\n",
       "      <td>0.8</td>\n",
       "      <td>ERR1513961</td>\n",
       "      <td>293</td>\n",
       "      <td>67</td>\n",
       "      <td>Control</td>\n",
       "      <td>...</td>\n",
       "      <td>Regularly</td>\n",
       "      <td>24.48</td>\n",
       "      <td>At least once a day</td>\n",
       "      <td>No</td>\n",
       "      <td>136.0</td>\n",
       "      <td>No</td>\n",
       "      <td>Yes</td>\n",
       "      <td>Yes</td>\n",
       "      <td>Few times a month</td>\n",
       "      <td>No</td>\n",
       "    </tr>\n",
       "    <tr>\n",
       "      <th>91</th>\n",
       "      <td>0.090240</td>\n",
       "      <td>0.287353</td>\n",
       "      <td>1986</td>\n",
       "      <td>1472</td>\n",
       "      <td>g__Faecalibacterium</td>\n",
       "      <td>0.8</td>\n",
       "      <td>ERR1513889</td>\n",
       "      <td>221</td>\n",
       "      <td>78</td>\n",
       "      <td>Case</td>\n",
       "      <td>...</td>\n",
       "      <td>Regularly</td>\n",
       "      <td>30.51</td>\n",
       "      <td>Few times a week</td>\n",
       "      <td>No</td>\n",
       "      <td>225.0</td>\n",
       "      <td>Yes</td>\n",
       "      <td>No</td>\n",
       "      <td>No</td>\n",
       "      <td>Less than once a month or never</td>\n",
       "      <td>No</td>\n",
       "    </tr>\n",
       "    <tr>\n",
       "      <th>106</th>\n",
       "      <td>0.215374</td>\n",
       "      <td>0.703097</td>\n",
       "      <td>1986</td>\n",
       "      <td>1472</td>\n",
       "      <td>g__Faecalibacterium</td>\n",
       "      <td>0.8</td>\n",
       "      <td>ERR1513870</td>\n",
       "      <td>202</td>\n",
       "      <td>70</td>\n",
       "      <td>Case</td>\n",
       "      <td>...</td>\n",
       "      <td>NaN</td>\n",
       "      <td>25.68</td>\n",
       "      <td>At least once a day</td>\n",
       "      <td>NaN</td>\n",
       "      <td>200.0</td>\n",
       "      <td>NaN</td>\n",
       "      <td>NaN</td>\n",
       "      <td>NaN</td>\n",
       "      <td>NaN</td>\n",
       "      <td>NaN</td>\n",
       "    </tr>\n",
       "  </tbody>\n",
       "</table>\n",
       "<p>9 rows × 36 columns</p>\n",
       "</div>"
      ],
      "text/plain": [
       "     abundance  growth_rate  reactions  metabolites                taxon  \\\n",
       "12    0.065429     0.104987       1986         1472  g__Faecalibacterium   \n",
       "25    0.031691     0.057050       1986         1472  g__Faecalibacterium   \n",
       "31    0.190848     0.280860       1986         1472  g__Faecalibacterium   \n",
       "43    0.117974     0.332004       1986         1472  g__Faecalibacterium   \n",
       "54    0.177160     0.436417       1986         1472  g__Faecalibacterium   \n",
       "66    0.075605     0.093228       1986         1472  g__Faecalibacterium   \n",
       "79    0.152840     0.327056       1986         1472  g__Faecalibacterium   \n",
       "91    0.090240     0.287353       1986         1472  g__Faecalibacterium   \n",
       "106   0.215374     0.703097       1986         1472  g__Faecalibacterium   \n",
       "\n",
       "     tradeoff   sample_id  id_num  age case_control  ...  sleep_aid    BMI  \\\n",
       "12        0.8  ERR1514003     335   63      Control  ...         No  31.29   \n",
       "25        0.8  ERR1513703      35   53         Case  ...         No  27.92   \n",
       "31        0.8  ERR1513684      16   58         Case  ...         No  25.33   \n",
       "43        0.8  ERR1513964     296   69      Control  ...         No  33.47   \n",
       "54        0.8  ERR1513777     109   62      Control  ...         No  22.96   \n",
       "66        0.8  ERR1513983     315   72      Control  ...         No  25.84   \n",
       "79        0.8  ERR1513961     293   67      Control  ...  Regularly  24.48   \n",
       "91        0.8  ERR1513889     221   78         Case  ...  Regularly  30.51   \n",
       "106       0.8  ERR1513870     202   70         Case  ...        NaN  25.68   \n",
       "\n",
       "                  grains  skin_cancer weight_lbs  anti_inflammatory_bool  \\\n",
       "12                   NaN          Yes      215.0                      No   \n",
       "25   At least once a day           No      173.0                      No   \n",
       "31   At least once a day          Yes      200.0                     Yes   \n",
       "43      Few times a week           No      195.0                     Yes   \n",
       "54   At least once a day           No      138.0                      No   \n",
       "66   At least once a day          Yes      165.0                      No   \n",
       "79   At least once a day           No      136.0                      No   \n",
       "91      Few times a week           No      225.0                     Yes   \n",
       "106  At least once a day          NaN      200.0                     NaN   \n",
       "\n",
       "     bipolar shingles                           yogurt malaria  \n",
       "12        No       No                              NaN      No  \n",
       "25        No       No  Less than once a month or never      No  \n",
       "31        No       No                 Few times a week     Yes  \n",
       "43        No       No  Less than once a month or never      No  \n",
       "54        No      Yes  Less than once a month or never      No  \n",
       "66        No       No                 Few times a week      No  \n",
       "79       Yes      Yes                Few times a month      No  \n",
       "91        No       No  Less than once a month or never      No  \n",
       "106      NaN      NaN                              NaN     NaN  \n",
       "\n",
       "[9 rows x 36 columns]"
      ]
     },
     "execution_count": 889,
     "metadata": {},
     "output_type": "execute_result"
    }
   ],
   "source": [
    "fcali = growth_rates[growth_rates.taxon=='g__Faecalibacterium'].copy()\n",
    "fcali"
   ]
  },
  {
   "cell_type": "markdown",
   "metadata": {
    "id": "bQKYxSZTSPk1"
   },
   "source": [
    "Now that we've extracted the Faecalibacterium specific growth rates lets take a look at how they compare between patients with and without parkinson's disease."
   ]
  },
  {
   "cell_type": "code",
   "execution_count": 890,
   "metadata": {
    "id": "AWG3U094-_OI"
   },
   "outputs": [
    {
     "data": {
      "text/plain": [
       "<Axes: xlabel='parkinson_disease', ylabel='growth_rate'>"
      ]
     },
     "execution_count": 890,
     "metadata": {},
     "output_type": "execute_result"
    },
    {
     "data": {
      "image/png": "[encoded data removed]",
      "text/plain": [
       "<Figure size 640x480 with 1 Axes>"
      ]
     },
     "metadata": {},
     "output_type": "display_data"
    }
   ],
   "source": [
    "import seaborn as sns\n",
    "sns.boxplot(x='parkinson_disease',y='growth_rate',data=fcali)"
   ]
  },
  {
   "cell_type": "markdown",
   "metadata": {},
   "source": [
    "Looks like Faecalibacterium is predicted to grow in all samples. While its median predicted growth rate is slighty higher in the healthy control samples, you can see the difference is not significant and there is a decent amount of variation."
   ]
  },
  {
   "cell_type": "markdown",
   "metadata": {},
   "source": [
    "We can also at other genera to see if there are any significant differences in predicted growth rates between those with and without parkinson's disease"
   ]
  },
  {
   "cell_type": "code",
   "execution_count": 900,
   "metadata": {},
   "outputs": [
    {
     "data": {
      "text/plain": [
       "<Axes: xlabel='growth_rate', ylabel='taxon'>"
      ]
     },
     "execution_count": 900,
     "metadata": {},
     "output_type": "execute_result"
    },
    {
     "data": {
      "image/png": "[encoded data removed]",
      "text/plain": [
       "<Figure size 640x480 with 1 Axes>"
      ]
     },
     "metadata": {},
     "output_type": "display_data"
    }
   ],
   "source": [
    "genera=growth_rates.groupby(by=['taxon']).count()['abundance'].nlargest(10).index\n",
    "sns.boxplot(x='growth_rate',y='taxon',hue='parkinson_disease',data=growth_rates[growth_rates.taxon.isin(genera)])"
   ]
  },
  {
   "cell_type": "markdown",
   "metadata": {},
   "source": [
    "Looks like there are indeed some differences that are more substational among some of the most prevolant genera. However, the differences we see are possibly not what we would have expected"
   ]
  },
  {
   "cell_type": "markdown",
   "metadata": {
    "id": "G1JbbKrLcVye"
   },
   "source": [
    "## Growth niches\n",
    "\n",
    "Another thing we can look at is whether individual taxa inhabit different growth niches across different disease contexts. Here we can use the `plot_exchanges_per_taxon` function to see how exchanges differ within and between taxa, within and across human populations."
   ]
  },
  {
   "cell_type": "code",
   "execution_count": 902,
   "metadata": {
    "id": "NlZrfv38esj8"
   },
   "outputs": [
    {
     "data": {
      "text/plain": [
       "<micom.viz.core.Visualization at 0x7f9e09c77970>"
      ]
     },
     "execution_count": 902,
     "metadata": {},
     "output_type": "execute_result"
    }
   ],
   "source": [
    "plot_exchanges_per_taxon(growth, perplexity=4, direction=\"import\", filename=\"niche.html\")"
   ]
  },
  {
   "cell_type": "markdown",
   "metadata": {
    "id": "qXnbUCCs2yVG"
   },
   "source": [
    "\n",
    "This function projects the full set of import or export fluxes onto a two dimensional plane, and arranges taxa so that more similar flux patterns lie nearer together. Taxa closer to one another compete for a more similar set of resources (and/or produce a more similar set of metabolites). The center of the plot signifies a more competitive nutrient space, whereas clusters on the outskirts denote more isolated niches.\n",
    "\n",
    "You can tune [TSNE parameters](https://distill.pub/2016/misread-tsne/), such as perplexity, to get a more meaningful grouping. We will lower the perplexity here since we don't have a lot of data points.\n"
   ]
  },
  {
   "cell_type": "markdown",
   "metadata": {
    "id": "weoSaLDPZYAK"
   },
   "source": [
    "We see that most genera don't show much separation among our samples suggesting that the growth niches occupied across our sample may not be very different. However, this doesn't seem to be true for all genera! We do see some separation for Bacteroides!"
   ]
  },
  {
   "cell_type": "markdown",
   "metadata": {
    "id": "4Y_XfHkB4sO8"
   },
   "source": [
    "## Comparative flux analysis\n",
    "\n",
    "Now let's compare the metabolite imports between the two disease contexts. We're interested to see how the production profile of the microbiome changes when the disease state changes. To look into this deeper, we'll transform the microbiome import data and then plot the metabolite exports on a heatmap."
   ]
  },
  {
   "cell_type": "markdown",
   "metadata": {
    "id": "pAtec3I78DJJ"
   },
   "source": [
    "We can use the `production_rates` function in MICOM to calculate production rates from the growth results. This will tell us what the patient microbiomes are producing and provide additional insight into the role microbial metabolites might play in disease. To visualize the results we'll  run a centered log ratio transformation on the data, to account for the compositional nature of these data and compare all the fluxes against each other."
   ]
  },
  {
   "cell_type": "markdown",
   "metadata": {},
   "source": [
    "First, let's take a quick at the SFCA butyrate and which genera produce it!"
   ]
  },
  {
   "cell_type": "code",
   "execution_count": 918,
   "metadata": {},
   "outputs": [
    {
     "name": "stderr",
     "output_type": "stream",
     "text": [
      "/tmp/ipykernel_1983852/2560272036.py:4: SettingWithCopyWarning: \n",
      "A value is trying to be set on a copy of a slice from a DataFrame.\n",
      "Try using .loc[row_indexer,col_indexer] = value instead\n",
      "\n",
      "See the caveats in the documentation: https://pandas.pydata.org/pandas-docs/stable/user_guide/indexing.html#returning-a-view-versus-a-copy\n",
      "  but['logflux']=np.log(but['flux']+0.001) #Log transform flux and account for possibility of zeros\n"
     ]
    },
    {
     "data": {
      "text/plain": [
       "Text(0.5, 1.0, 'Butyrate')"
      ]
     },
     "execution_count": 918,
     "metadata": {},
     "output_type": "execute_result"
    },
    {
     "data": {
      "image/png": "[encoded data removed]",
      "text/plain": [
       "<Figure size 500x300 with 1 Axes>"
      ]
     },
     "metadata": {},
     "output_type": "display_data"
    }
   ],
   "source": [
    "import numpy as np\n",
    "import matplotlib.pyplot as plt\n",
    "\n",
    "exports=growth.exchanges #Get samples exchanges \n",
    "exports=exports[exports.direction=='export'] #Filter for  exports\n",
    "but=exports[exports.reaction=='EX_but(e)'] #Get butyrate specific exports\n",
    "but['logflux']=np.log(but['flux']+0.001) #Log transform flux and account for possibility of zeros\n",
    "#Lets looks at top 3 genera with most non-zero butyrate fluxes\n",
    "genera=but[but.logflux>-6].groupby(by='taxon').count()['sample_id'].sort_values(ascending=False).index[:3]\n",
    "plt.figure(figsize=(5,3)) #Optional function call to specify figure size\n",
    "sns.boxplot(y='taxon',x='logflux',data=but,order=genera)\n",
    "plt.title('Butyrate') #Add title"
   ]
  },
  {
   "cell_type": "markdown",
   "metadata": {},
   "source": [
    "Looks like coprococus, has highest average butyrate flux across samples\n",
    "\n",
    "Now lets see how the genera specific fluxes vary with disease context!"
   ]
  },
  {
   "cell_type": "code",
   "execution_count": 923,
   "metadata": {},
   "outputs": [
    {
     "data": {
      "text/plain": [
       "<matplotlib.legend.Legend at 0x7f9dfa492070>"
      ]
     },
     "execution_count": 923,
     "metadata": {},
     "output_type": "execute_result"
    },
    {
     "data": {
      "image/png": "[encoded data removed]",
      "text/plain": [
       "<Figure size 500x300 with 1 Axes>"
      ]
     },
     "metadata": {},
     "output_type": "display_data"
    }
   ],
   "source": [
    "but_meta=pd.merge(but,metadata,on='sample_id')\n",
    "plt.figure(figsize=(5,3))\n",
    "sns.boxplot(y='taxon',x='logflux',data=but_meta,hue='parkinson_disease',order=genera)\n",
    "plt.title('Butyrate')\n",
    "plt.legend(bbox_to_anchor=(1,1),title=\"Parkison's disease\")"
   ]
  },
  {
   "cell_type": "markdown",
   "metadata": {},
   "source": [
    "Very interesting! While the average butyrate flux increase for Faecalibacterium is decreases pretty significantly for the other two genera\n",
    "\n",
    "Lets try visualizing this result as a heatmap so we can get a better idea of the variability in individual samples"
   ]
  },
  {
   "cell_type": "code",
   "execution_count": 939,
   "metadata": {},
   "outputs": [
    {
     "data": {
      "text/plain": [
       "Text(607.0277777777777, 0.5, '')"
      ]
     },
     "execution_count": 939,
     "metadata": {},
     "output_type": "execute_result"
    },
    {
     "data": {
      "image/png": "[encoded data removed]",
      "text/plain": [
       "<Figure size 500x250 with 5 Axes>"
      ]
     },
     "metadata": {},
     "output_type": "display_data"
    }
   ],
   "source": [
    "logbut=but_meta.pivot_table(columns='taxon',index=['parkinson_disease','sample_id'],values='flux').fillna(0).apply(                           # and we log-transform the fluxes\n",
    "    lambda xs: np.log(xs + 0.001),\n",
    "    axis=0) #Convert data table from long to wide format and log transform\n",
    "\n",
    "#Create palette to color heatmap columns based on disease status\n",
    "df=logbut.reset_index().copy()\n",
    "i=0\n",
    "cmap={}\n",
    "colors=sns.color_palette('colorblind')\n",
    "for group in sorted(df['parkinson_disease'].unique()):\n",
    "    cmap[group] = colors[i]\n",
    "    i+=3\n",
    "#Use color dictionary to map color to speces column (provides color of each data point)\n",
    "col_colors=df['parkinson_disease'].copy()\n",
    "col_colors=col_colors.map(cmap)\n",
    "col_colors.index=logbut.index\n",
    "\n",
    "#Create clustered heatmap \n",
    "fig=sns.clustermap(logbut[genera].T,figsize=(5,2.5),cmap='viridis',xticklabels='',col_colors=col_colors)\n",
    "fig.ax_heatmap.set_xlabel('')\n",
    "fig.ax_heatmap.set_ylabel('')"
   ]
  },
  {
   "cell_type": "markdown",
   "metadata": {},
   "source": [
    "From this visualization we can see how butyrate flux varies with both genera and disease context\n",
    "\n",
    "Now lets take a look at the global metabolite fluxes!"
   ]
  },
  {
   "cell_type": "markdown",
   "metadata": {},
   "source": [
    "Once again we can see how burytate production varies across disease contexts!"
   ]
  },
  {
   "cell_type": "code",
   "execution_count": 945,
   "metadata": {},
   "outputs": [
    {
     "data": {
      "text/plain": [
       "Text(0.5, 1.0, 'Butyrate')"
      ]
     },
     "execution_count": 945,
     "metadata": {},
     "output_type": "execute_result"
    },
    {
     "data": {
      "image/png": "[encoded data removed]",
      "text/plain": [
       "<Figure size 640x480 with 1 Axes>"
      ]
     },
     "metadata": {},
     "output_type": "display_data"
    }
   ],
   "source": [
    "from micom.measures import consumption_rates, production_rates\n",
    "\n",
    "#Extract production rates\n",
    "exchanges = consumption_rates(growth)    \n",
    "#Add metadata\n",
    "exchanges=pd.merge(exchanges,metadata,on='sample_id') \n",
    "#Log transform\n",
    "exchanges['logflux']=np.log(exchanges.flux+0.001)\n",
    "#Visualize\n",
    "sns.boxplot(x='parkinson_disease',y='logflux',data=exchanges[exchanges.metabolite=='but[e]'])\n",
    "plt.title('Butyrate')"
   ]
  },
  {
   "cell_type": "markdown",
   "metadata": {},
   "source": [
    "Looks like globally, butyrate flux is predicted to be a bit higher on average for those without parkinson's disease"
   ]
  },
  {
   "cell_type": "markdown",
   "metadata": {},
   "source": [
    "Great! Now lets see how things look across all exports!"
   ]
  },
  {
   "cell_type": "code",
   "execution_count": 952,
   "metadata": {},
   "outputs": [
    {
     "data": {
      "text/html": [
       "<div>\n",
       "<style scoped>\n",
       "    .dataframe tbody tr th:only-of-type {\n",
       "        vertical-align: middle;\n",
       "    }\n",
       "\n",
       "    .dataframe tbody tr th {\n",
       "        vertical-align: top;\n",
       "    }\n",
       "\n",
       "    .dataframe thead tr th {\n",
       "        text-align: left;\n",
       "    }\n",
       "\n",
       "    .dataframe thead tr:last-of-type th {\n",
       "        text-align: right;\n",
       "    }\n",
       "</style>\n",
       "<table border=\"1\" class=\"dataframe\">\n",
       "  <thead>\n",
       "    <tr>\n",
       "      <th>parkinson_disease</th>\n",
       "      <th colspan=\"5\" halign=\"left\">No</th>\n",
       "      <th colspan=\"5\" halign=\"left\">Yes</th>\n",
       "    </tr>\n",
       "    <tr>\n",
       "      <th>sample_id</th>\n",
       "      <th>ERR1513777</th>\n",
       "      <th>ERR1513961</th>\n",
       "      <th>ERR1513964</th>\n",
       "      <th>ERR1513983</th>\n",
       "      <th>ERR1514003</th>\n",
       "      <th>ERR1513684</th>\n",
       "      <th>ERR1513701</th>\n",
       "      <th>ERR1513703</th>\n",
       "      <th>ERR1513870</th>\n",
       "      <th>ERR1513889</th>\n",
       "    </tr>\n",
       "    <tr>\n",
       "      <th>name</th>\n",
       "      <th></th>\n",
       "      <th></th>\n",
       "      <th></th>\n",
       "      <th></th>\n",
       "      <th></th>\n",
       "      <th></th>\n",
       "      <th></th>\n",
       "      <th></th>\n",
       "      <th></th>\n",
       "      <th></th>\n",
       "    </tr>\n",
       "  </thead>\n",
       "  <tbody>\n",
       "    <tr>\n",
       "      <th>Nitrite</th>\n",
       "      <td>-6.907755</td>\n",
       "      <td>-6.907755</td>\n",
       "      <td>3.221429</td>\n",
       "      <td>2.580024</td>\n",
       "      <td>-6.907755</td>\n",
       "      <td>-6.907755</td>\n",
       "      <td>-6.907755</td>\n",
       "      <td>3.648699</td>\n",
       "      <td>2.963574</td>\n",
       "      <td>-6.907755</td>\n",
       "    </tr>\n",
       "    <tr>\n",
       "      <th>Menaquinone 8</th>\n",
       "      <td>-6.538428</td>\n",
       "      <td>-6.582896</td>\n",
       "      <td>-6.907755</td>\n",
       "      <td>-5.754902</td>\n",
       "      <td>-5.880891</td>\n",
       "      <td>-6.416924</td>\n",
       "      <td>4.412380</td>\n",
       "      <td>-6.436100</td>\n",
       "      <td>3.604352</td>\n",
       "      <td>4.273256</td>\n",
       "    </tr>\n",
       "    <tr>\n",
       "      <th>propionate</th>\n",
       "      <td>-6.907755</td>\n",
       "      <td>-6.907755</td>\n",
       "      <td>1.666622</td>\n",
       "      <td>1.284659</td>\n",
       "      <td>3.925842</td>\n",
       "      <td>1.652334</td>\n",
       "      <td>-6.907755</td>\n",
       "      <td>-6.907755</td>\n",
       "      <td>-6.907755</td>\n",
       "      <td>-6.907755</td>\n",
       "    </tr>\n",
       "    <tr>\n",
       "      <th>acetoacetate</th>\n",
       "      <td>-6.907755</td>\n",
       "      <td>-6.907755</td>\n",
       "      <td>1.426363</td>\n",
       "      <td>2.759026</td>\n",
       "      <td>2.191389</td>\n",
       "      <td>-6.907755</td>\n",
       "      <td>-6.907755</td>\n",
       "      <td>1.879881</td>\n",
       "      <td>-6.907755</td>\n",
       "      <td>-6.907755</td>\n",
       "    </tr>\n",
       "    <tr>\n",
       "      <th>Xanthine</th>\n",
       "      <td>-6.907755</td>\n",
       "      <td>-6.907755</td>\n",
       "      <td>1.300475</td>\n",
       "      <td>2.231163</td>\n",
       "      <td>-6.907755</td>\n",
       "      <td>-6.907755</td>\n",
       "      <td>-0.983716</td>\n",
       "      <td>-6.907755</td>\n",
       "      <td>0.903842</td>\n",
       "      <td>2.780234</td>\n",
       "    </tr>\n",
       "    <tr>\n",
       "      <th>...</th>\n",
       "      <td>...</td>\n",
       "      <td>...</td>\n",
       "      <td>...</td>\n",
       "      <td>...</td>\n",
       "      <td>...</td>\n",
       "      <td>...</td>\n",
       "      <td>...</td>\n",
       "      <td>...</td>\n",
       "      <td>...</td>\n",
       "      <td>...</td>\n",
       "    </tr>\n",
       "    <tr>\n",
       "      <th>acetate</th>\n",
       "      <td>3.952283</td>\n",
       "      <td>4.089189</td>\n",
       "      <td>4.109801</td>\n",
       "      <td>4.421672</td>\n",
       "      <td>4.237243</td>\n",
       "      <td>4.002202</td>\n",
       "      <td>4.158016</td>\n",
       "      <td>4.367984</td>\n",
       "      <td>3.898159</td>\n",
       "      <td>4.197835</td>\n",
       "    </tr>\n",
       "    <tr>\n",
       "      <th>L-glutamate(1-)</th>\n",
       "      <td>3.813663</td>\n",
       "      <td>3.997133</td>\n",
       "      <td>4.003338</td>\n",
       "      <td>3.704092</td>\n",
       "      <td>3.928701</td>\n",
       "      <td>4.030130</td>\n",
       "      <td>3.625402</td>\n",
       "      <td>3.595155</td>\n",
       "      <td>3.968912</td>\n",
       "      <td>3.843040</td>\n",
       "    </tr>\n",
       "    <tr>\n",
       "      <th>L-aspartate(1-)</th>\n",
       "      <td>4.105707</td>\n",
       "      <td>4.063671</td>\n",
       "      <td>4.054978</td>\n",
       "      <td>3.997535</td>\n",
       "      <td>4.159818</td>\n",
       "      <td>3.969427</td>\n",
       "      <td>3.697065</td>\n",
       "      <td>3.865476</td>\n",
       "      <td>4.034706</td>\n",
       "      <td>4.162106</td>\n",
       "    </tr>\n",
       "    <tr>\n",
       "      <th>Aceric acid (3-C-carboxy-5-deoxy-l-xylose) (rare sugar in rhamnogalacturonan II)</th>\n",
       "      <td>-6.907755</td>\n",
       "      <td>-6.907755</td>\n",
       "      <td>-6.671114</td>\n",
       "      <td>-6.671114</td>\n",
       "      <td>-6.671114</td>\n",
       "      <td>-6.671114</td>\n",
       "      <td>-6.671114</td>\n",
       "      <td>-6.671114</td>\n",
       "      <td>-6.907755</td>\n",
       "      <td>-6.907755</td>\n",
       "    </tr>\n",
       "    <tr>\n",
       "      <th>5-Methylthioadenosine</th>\n",
       "      <td>-6.907755</td>\n",
       "      <td>-6.907755</td>\n",
       "      <td>-6.907755</td>\n",
       "      <td>-6.907755</td>\n",
       "      <td>-6.905685</td>\n",
       "      <td>-6.907755</td>\n",
       "      <td>-6.907755</td>\n",
       "      <td>-6.907755</td>\n",
       "      <td>-6.907755</td>\n",
       "      <td>-6.907755</td>\n",
       "    </tr>\n",
       "  </tbody>\n",
       "</table>\n",
       "<p>146 rows × 10 columns</p>\n",
       "</div>"
      ],
      "text/plain": [
       "parkinson_disease                                          No             \\\n",
       "sample_id                                          ERR1513777 ERR1513961   \n",
       "name                                                                       \n",
       "Nitrite                                             -6.907755  -6.907755   \n",
       "Menaquinone 8                                       -6.538428  -6.582896   \n",
       "propionate                                          -6.907755  -6.907755   \n",
       "acetoacetate                                        -6.907755  -6.907755   \n",
       "Xanthine                                            -6.907755  -6.907755   \n",
       "...                                                       ...        ...   \n",
       "acetate                                              3.952283   4.089189   \n",
       "L-glutamate(1-)                                      3.813663   3.997133   \n",
       "L-aspartate(1-)                                      4.105707   4.063671   \n",
       "Aceric acid (3-C-carboxy-5-deoxy-l-xylose) (rar...  -6.907755  -6.907755   \n",
       "5-Methylthioadenosine                               -6.907755  -6.907755   \n",
       "\n",
       "parkinson_disease                                                         \\\n",
       "sample_id                                          ERR1513964 ERR1513983   \n",
       "name                                                                       \n",
       "Nitrite                                              3.221429   2.580024   \n",
       "Menaquinone 8                                       -6.907755  -5.754902   \n",
       "propionate                                           1.666622   1.284659   \n",
       "acetoacetate                                         1.426363   2.759026   \n",
       "Xanthine                                             1.300475   2.231163   \n",
       "...                                                       ...        ...   \n",
       "acetate                                              4.109801   4.421672   \n",
       "L-glutamate(1-)                                      4.003338   3.704092   \n",
       "L-aspartate(1-)                                      4.054978   3.997535   \n",
       "Aceric acid (3-C-carboxy-5-deoxy-l-xylose) (rar...  -6.671114  -6.671114   \n",
       "5-Methylthioadenosine                               -6.907755  -6.907755   \n",
       "\n",
       "parkinson_disease                                                    Yes  \\\n",
       "sample_id                                          ERR1514003 ERR1513684   \n",
       "name                                                                       \n",
       "Nitrite                                             -6.907755  -6.907755   \n",
       "Menaquinone 8                                       -5.880891  -6.416924   \n",
       "propionate                                           3.925842   1.652334   \n",
       "acetoacetate                                         2.191389  -6.907755   \n",
       "Xanthine                                            -6.907755  -6.907755   \n",
       "...                                                       ...        ...   \n",
       "acetate                                              4.237243   4.002202   \n",
       "L-glutamate(1-)                                      3.928701   4.030130   \n",
       "L-aspartate(1-)                                      4.159818   3.969427   \n",
       "Aceric acid (3-C-carboxy-5-deoxy-l-xylose) (rar...  -6.671114  -6.671114   \n",
       "5-Methylthioadenosine                               -6.905685  -6.907755   \n",
       "\n",
       "parkinson_disease                                                         \\\n",
       "sample_id                                          ERR1513701 ERR1513703   \n",
       "name                                                                       \n",
       "Nitrite                                             -6.907755   3.648699   \n",
       "Menaquinone 8                                        4.412380  -6.436100   \n",
       "propionate                                          -6.907755  -6.907755   \n",
       "acetoacetate                                        -6.907755   1.879881   \n",
       "Xanthine                                            -0.983716  -6.907755   \n",
       "...                                                       ...        ...   \n",
       "acetate                                              4.158016   4.367984   \n",
       "L-glutamate(1-)                                      3.625402   3.595155   \n",
       "L-aspartate(1-)                                      3.697065   3.865476   \n",
       "Aceric acid (3-C-carboxy-5-deoxy-l-xylose) (rar...  -6.671114  -6.671114   \n",
       "5-Methylthioadenosine                               -6.907755  -6.907755   \n",
       "\n",
       "parkinson_disease                                                         \n",
       "sample_id                                          ERR1513870 ERR1513889  \n",
       "name                                                                      \n",
       "Nitrite                                              2.963574  -6.907755  \n",
       "Menaquinone 8                                        3.604352   4.273256  \n",
       "propionate                                          -6.907755  -6.907755  \n",
       "acetoacetate                                        -6.907755  -6.907755  \n",
       "Xanthine                                             0.903842   2.780234  \n",
       "...                                                       ...        ...  \n",
       "acetate                                              3.898159   4.197835  \n",
       "L-glutamate(1-)                                      3.968912   3.843040  \n",
       "L-aspartate(1-)                                      4.034706   4.162106  \n",
       "Aceric acid (3-C-carboxy-5-deoxy-l-xylose) (rar...  -6.907755  -6.907755  \n",
       "5-Methylthioadenosine                               -6.907755  -6.907755  \n",
       "\n",
       "[146 rows x 10 columns]"
      ]
     },
     "execution_count": 952,
     "metadata": {},
     "output_type": "execute_result"
    }
   ],
   "source": [
    "exchanges = production_rates(growth)                   # extract production rates\n",
    "exchanges=pd.merge(exchanges,metadata,on='sample_id')  # add metadata\n",
    "exchanges = pd.pivot_table(                            # convert to a matrix of samples vs. metabolites\n",
    "    exchanges,                                         # that contains the production rates\n",
    "    index = ['parkinson_disease', 'sample_id'],\n",
    "    columns = 'name',\n",
    "    values = 'flux'\n",
    ")\n",
    "exchanges = exchanges.T.fillna(0.0)                    # if a metabolite is not produced its flux is zero\n",
    "exchanges = exchanges.apply(                           # and we log-transform the fluxes\n",
    "    lambda xs: np.log(xs + 0.001),\n",
    "    axis=0)\n",
    "exchanges = exchanges.reindex(                         # sort by variance, highest variance fluxes first\n",
    "    exchanges.var(axis=1).sort_values(ascending=False).index\n",
    ")\n",
    "exchanges"
   ]
  },
  {
   "cell_type": "code",
   "execution_count": 953,
   "metadata": {},
   "outputs": [
    {
     "data": {
      "text/plain": [
       "Text(1441.5277777777778, 0.5, '')"
      ]
     },
     "execution_count": 953,
     "metadata": {},
     "output_type": "execute_result"
    },
    {
     "data": {
      "image/png": "[encoded data removed]",
      "text/plain": [
       "<Figure size 1200x1000 with 5 Axes>"
      ]
     },
     "metadata": {},
     "output_type": "display_data"
    }
   ],
   "source": [
    "#Exports\n",
    "\n",
    "#Create palette to color heatmap columns based on disease status\n",
    "df=exchanges.T.reset_index().copy()\n",
    "i=0\n",
    "cmap={}\n",
    "colors=sns.color_palette('colorblind')\n",
    "for group in sorted(df['parkinson_disease'].unique()):\n",
    "    cmap[group] = colors[i]\n",
    "    i+=3\n",
    "#Use color dictionary to map color to speces column (provides color of each data point)\n",
    "col_colors=df['parkinson_disease'].copy()\n",
    "col_colors=col_colors.map(cmap)\n",
    "col_colors.index=exchanges.columns\n",
    "\n",
    "fig=sns.clustermap(\n",
    "    exchanges.head(25),  # take 50 highest fluxes\n",
    "    cmap='viridis',\n",
    "    yticklabels=True,    # show all metabolite names\n",
    "    figsize=(12, 10),\n",
    "    col_colors=col_colors,# size of the heatmap\n",
    "    xticklabels=''\n",
    ")\n",
    "fig.ax_heatmap.set_xlabel('')\n",
    "fig.ax_heatmap.set_ylabel('')"
   ]
  },
  {
   "cell_type": "markdown",
   "metadata": {},
   "source": [
    "Globally, it appears there is some indication that the metabolic activity of the microbiome varies with disease context, however, given the limited sample size and the approximations that had to be made to generate these results it is hard to say with certainty if the differences in predictions we see are plausible or significant "
   ]
  },
  {
   "cell_type": "markdown",
   "metadata": {
    "id": "l8maOr3w2bOo"
   },
   "source": [
    "# 🏫 Exercises"
   ]
  },
  {
   "cell_type": "markdown",
   "metadata": {
    "id": "XZt3ojssnCzz"
   },
   "source": [
    "Time for you to try your hand at some analysis, lets take a closer looks at the metabolic strategies used by genera in the community"
   ]
  },
  {
   "cell_type": "markdown",
   "metadata": {
    "id": "VjUustQG2_bX"
   },
   "source": [
    "## Metabolic strategies used by a genus of your choice!\n",
    "We've alread looked at the community wide production fluxes and found that they differ slightly between disease contexts. What about the import fluxes of the most prevolant genera? Can you develop a visualization to look at those?"
   ]
  },
  {
   "cell_type": "markdown",
   "metadata": {},
   "source": [
    "First, let's ensure you don't pick a genus that is only present in 1 sample. We want to see how imports vary across disease context. Use the code below to pick a genera that is present in at least 7 samples."
   ]
  },
  {
   "cell_type": "code",
   "execution_count": 964,
   "metadata": {},
   "outputs": [
    {
     "data": {
      "text/plain": [
       "taxon\n",
       "g__Bacteroides         10\n",
       "g__Faecalibacterium     9\n",
       "g__Phocaeicola          9\n",
       "g__Blautia              8\n",
       "g__Alistipes            7\n",
       "g__Parabacteroides      7\n",
       "g__Akkermansia          4\n",
       "g__Clostridium          4\n",
       "g__Dialister            4\n",
       "g__Pseudomonas          4\n",
       "Name: abundance, dtype: int64"
      ]
     },
     "execution_count": 964,
     "metadata": {},
     "output_type": "execute_result"
    }
   ],
   "source": [
    "#Count how many samples each genera is present in\n",
    "growth.growth_rates.groupby(by='taxon').count()['abundance'].nlargest(10)"
   ]
  },
  {
   "cell_type": "code",
   "execution_count": 977,
   "metadata": {
    "id": "zrUZSSp62uUt"
   },
   "outputs": [
    {
     "data": {
      "text/html": [
       "<div>\n",
       "<style scoped>\n",
       "    .dataframe tbody tr th:only-of-type {\n",
       "        vertical-align: middle;\n",
       "    }\n",
       "\n",
       "    .dataframe tbody tr th {\n",
       "        vertical-align: top;\n",
       "    }\n",
       "\n",
       "    .dataframe thead tr th {\n",
       "        text-align: left;\n",
       "    }\n",
       "\n",
       "    .dataframe thead tr:last-of-type th {\n",
       "        text-align: right;\n",
       "    }\n",
       "</style>\n",
       "<table border=\"1\" class=\"dataframe\">\n",
       "  <thead>\n",
       "    <tr>\n",
       "      <th>parkinson_disease</th>\n",
       "      <th colspan=\"5\" halign=\"left\">No</th>\n",
       "      <th colspan=\"4\" halign=\"left\">Yes</th>\n",
       "    </tr>\n",
       "    <tr>\n",
       "      <th>sample_id</th>\n",
       "      <th>ERR1513777</th>\n",
       "      <th>ERR1513961</th>\n",
       "      <th>ERR1513964</th>\n",
       "      <th>ERR1513983</th>\n",
       "      <th>ERR1514003</th>\n",
       "      <th>ERR1513684</th>\n",
       "      <th>ERR1513703</th>\n",
       "      <th>ERR1513870</th>\n",
       "      <th>ERR1513889</th>\n",
       "    </tr>\n",
       "    <tr>\n",
       "      <th>reaction</th>\n",
       "      <th></th>\n",
       "      <th></th>\n",
       "      <th></th>\n",
       "      <th></th>\n",
       "      <th></th>\n",
       "      <th></th>\n",
       "      <th></th>\n",
       "      <th></th>\n",
       "      <th></th>\n",
       "    </tr>\n",
       "  </thead>\n",
       "  <tbody>\n",
       "    <tr>\n",
       "      <th>Ammonium</th>\n",
       "      <td>-6.907755</td>\n",
       "      <td>4.605180</td>\n",
       "      <td>-6.907755</td>\n",
       "      <td>4.605180</td>\n",
       "      <td>4.605180</td>\n",
       "      <td>4.605180</td>\n",
       "      <td>-6.907755</td>\n",
       "      <td>4.605180</td>\n",
       "      <td>4.605180</td>\n",
       "    </tr>\n",
       "    <tr>\n",
       "      <th>D-Glucosamine</th>\n",
       "      <td>4.605180</td>\n",
       "      <td>-6.907755</td>\n",
       "      <td>4.525278</td>\n",
       "      <td>-6.907755</td>\n",
       "      <td>4.605180</td>\n",
       "      <td>-6.907755</td>\n",
       "      <td>-6.907755</td>\n",
       "      <td>-6.907755</td>\n",
       "      <td>-6.907755</td>\n",
       "    </tr>\n",
       "    <tr>\n",
       "      <th>Cholate</th>\n",
       "      <td>-6.907755</td>\n",
       "      <td>4.605180</td>\n",
       "      <td>1.738691</td>\n",
       "      <td>0.882907</td>\n",
       "      <td>-6.907755</td>\n",
       "      <td>-6.907755</td>\n",
       "      <td>3.285830</td>\n",
       "      <td>-6.907755</td>\n",
       "      <td>4.505558</td>\n",
       "    </tr>\n",
       "    <tr>\n",
       "      <th>carbon dioxide</th>\n",
       "      <td>4.605180</td>\n",
       "      <td>4.605180</td>\n",
       "      <td>4.605180</td>\n",
       "      <td>4.605180</td>\n",
       "      <td>4.605180</td>\n",
       "      <td>4.605180</td>\n",
       "      <td>-6.907755</td>\n",
       "      <td>-6.907755</td>\n",
       "      <td>4.605180</td>\n",
       "    </tr>\n",
       "    <tr>\n",
       "      <th>L-aspartate(1-)</th>\n",
       "      <td>-6.907755</td>\n",
       "      <td>-6.907755</td>\n",
       "      <td>-6.907755</td>\n",
       "      <td>-6.907755</td>\n",
       "      <td>-6.907755</td>\n",
       "      <td>-6.907755</td>\n",
       "      <td>4.605180</td>\n",
       "      <td>4.605180</td>\n",
       "      <td>-6.907755</td>\n",
       "    </tr>\n",
       "    <tr>\n",
       "      <th>...</th>\n",
       "      <td>...</td>\n",
       "      <td>...</td>\n",
       "      <td>...</td>\n",
       "      <td>...</td>\n",
       "      <td>...</td>\n",
       "      <td>...</td>\n",
       "      <td>...</td>\n",
       "      <td>...</td>\n",
       "      <td>...</td>\n",
       "    </tr>\n",
       "    <tr>\n",
       "      <th>Thiamin</th>\n",
       "      <td>-5.783149</td>\n",
       "      <td>-5.968519</td>\n",
       "      <td>-5.959346</td>\n",
       "      <td>-6.540259</td>\n",
       "      <td>-6.502202</td>\n",
       "      <td>-6.058477</td>\n",
       "      <td>-6.667343</td>\n",
       "      <td>-5.437713</td>\n",
       "      <td>-6.045333</td>\n",
       "    </tr>\n",
       "    <tr>\n",
       "      <th>L-glutamate(1-)</th>\n",
       "      <td>4.605180</td>\n",
       "      <td>4.605180</td>\n",
       "      <td>3.612242</td>\n",
       "      <td>4.605180</td>\n",
       "      <td>4.605180</td>\n",
       "      <td>4.605180</td>\n",
       "      <td>4.605180</td>\n",
       "      <td>4.605180</td>\n",
       "      <td>4.605180</td>\n",
       "    </tr>\n",
       "    <tr>\n",
       "      <th>pectins</th>\n",
       "      <td>-6.735038</td>\n",
       "      <td>-6.710110</td>\n",
       "      <td>-6.658466</td>\n",
       "      <td>-6.907755</td>\n",
       "      <td>-6.495331</td>\n",
       "      <td>-6.746480</td>\n",
       "      <td>-6.907755</td>\n",
       "      <td>-6.763586</td>\n",
       "      <td>-6.592854</td>\n",
       "    </tr>\n",
       "    <tr>\n",
       "      <th>ethanol</th>\n",
       "      <td>4.605180</td>\n",
       "      <td>4.475092</td>\n",
       "      <td>4.605180</td>\n",
       "      <td>4.605180</td>\n",
       "      <td>4.605180</td>\n",
       "      <td>4.525336</td>\n",
       "      <td>4.605180</td>\n",
       "      <td>4.605180</td>\n",
       "      <td>4.605180</td>\n",
       "    </tr>\n",
       "    <tr>\n",
       "      <th>Water</th>\n",
       "      <td>4.605180</td>\n",
       "      <td>4.605180</td>\n",
       "      <td>4.605180</td>\n",
       "      <td>4.605180</td>\n",
       "      <td>4.605180</td>\n",
       "      <td>4.605180</td>\n",
       "      <td>4.605180</td>\n",
       "      <td>4.605180</td>\n",
       "      <td>4.605180</td>\n",
       "    </tr>\n",
       "  </tbody>\n",
       "</table>\n",
       "<p>83 rows × 9 columns</p>\n",
       "</div>"
      ],
      "text/plain": [
       "parkinson_disease         No                                              \\\n",
       "sample_id         ERR1513777 ERR1513961 ERR1513964 ERR1513983 ERR1514003   \n",
       "reaction                                                                   \n",
       "Ammonium           -6.907755   4.605180  -6.907755   4.605180   4.605180   \n",
       "D-Glucosamine       4.605180  -6.907755   4.525278  -6.907755   4.605180   \n",
       "Cholate            -6.907755   4.605180   1.738691   0.882907  -6.907755   \n",
       "carbon dioxide      4.605180   4.605180   4.605180   4.605180   4.605180   \n",
       "L-aspartate(1-)    -6.907755  -6.907755  -6.907755  -6.907755  -6.907755   \n",
       "...                      ...        ...        ...        ...        ...   \n",
       "Thiamin            -5.783149  -5.968519  -5.959346  -6.540259  -6.502202   \n",
       "L-glutamate(1-)     4.605180   4.605180   3.612242   4.605180   4.605180   \n",
       "pectins            -6.735038  -6.710110  -6.658466  -6.907755  -6.495331   \n",
       "ethanol             4.605180   4.475092   4.605180   4.605180   4.605180   \n",
       "Water               4.605180   4.605180   4.605180   4.605180   4.605180   \n",
       "\n",
       "parkinson_disease        Yes                                   \n",
       "sample_id         ERR1513684 ERR1513703 ERR1513870 ERR1513889  \n",
       "reaction                                                       \n",
       "Ammonium            4.605180  -6.907755   4.605180   4.605180  \n",
       "D-Glucosamine      -6.907755  -6.907755  -6.907755  -6.907755  \n",
       "Cholate            -6.907755   3.285830  -6.907755   4.505558  \n",
       "carbon dioxide      4.605180  -6.907755  -6.907755   4.605180  \n",
       "L-aspartate(1-)    -6.907755   4.605180   4.605180  -6.907755  \n",
       "...                      ...        ...        ...        ...  \n",
       "Thiamin            -6.058477  -6.667343  -5.437713  -6.045333  \n",
       "L-glutamate(1-)     4.605180   4.605180   4.605180   4.605180  \n",
       "pectins            -6.746480  -6.907755  -6.763586  -6.592854  \n",
       "ethanol             4.525336   4.605180   4.605180   4.605180  \n",
       "Water               4.605180   4.605180   4.605180   4.605180  \n",
       "\n",
       "[83 rows x 9 columns]"
      ]
     },
     "execution_count": 977,
     "metadata": {},
     "output_type": "execute_result"
    }
   ],
   "source": [
    "exchanges = growth.exchanges                                            # extract exchanges from growth data\n",
    "genus_exchanges = exchanges[exchanges.taxon=='g__Faecalibacterium']     # get genus specific exchanges\n",
    "genus_imports = genus_exchanges[genus_exchanges.direction=='import']    # specifically look at imports\n",
    "genus_imports = pd.merge(genus_imports,metadata,on='sample_id')         # add metadata\n",
    "genus_imports = genus_imports.pivot_table(index=['parkinson_disease','sample_id'],columns='reaction',values='flux')  # convert to a matrix of samples vs. metabolites\n",
    "                                                                        # that contains the production rates\n",
    "genus_imports = abs(genus_imports.T.fillna(0.0))                        # fill nans with 0s\n",
    "\n",
    "annot = growth.annotations                                              # optionally map reactions to metabolite names\n",
    "annot.index = annot.reaction\n",
    "genus_imports.index = genus_imports.index.map(annot.name.to_dict())     # not necessary but makes results more human readible\n",
    "\n",
    "genus_imports = np.log(genus_imports+0.001)                             # and a log-transform\n",
    "idx=genus_imports.var(axis=1).sort_values(ascending=False).index\n",
    "genus_imports=genus_imports.loc[idx]                                    # sort by variance, highest variance fluxes first\n",
    "\n",
    "genus_imports"
   ]
  },
  {
   "cell_type": "code",
   "execution_count": 979,
   "metadata": {
    "id": "1gB6X3DJanii"
   },
   "outputs": [
    {
     "data": {
      "text/plain": [
       "Text(1324.2777777777778, 0.5, '')"
      ]
     },
     "execution_count": 979,
     "metadata": {},
     "output_type": "execute_result"
    },
    {
     "data": {
      "image/png": "[encoded data removed]",
      "text/plain": [
       "<Figure size 1200x1000 with 5 Axes>"
      ]
     },
     "metadata": {},
     "output_type": "display_data"
    }
   ],
   "source": [
    "#Make a heatmap with top 50 fluxes with highest variance\n",
    "\n",
    "import seaborn as sns\n",
    "import numpy as np\n",
    "\n",
    "df=genus_imports.T.reset_index().copy()\n",
    "i=0\n",
    "cmap={}\n",
    "colors=sns.color_palette('colorblind')\n",
    "for group in sorted(df['parkinson_disease'].unique()):\n",
    "    cmap[group] = colors[i]\n",
    "    i+=3\n",
    "#Use color dictionary to map color to speces column (provides color of each data point)\n",
    "col_colors=df['parkinson_disease'].copy()\n",
    "col_colors=col_colors.map(cmap)\n",
    "col_colors.index=genus_imports.columns\n",
    "\n",
    "fig=sns.clustermap(\n",
    "    genus_imports.head(50),  # take 50 highest fluxes\n",
    "    cmap='viridis',\n",
    "    yticklabels=True,    # show all metabolite names\n",
    "    figsize=(12, 10),\n",
    "    col_colors=col_colors,# size of the heatmap\n",
    "    xticklabels=''\n",
    ")\n",
    "fig.ax_heatmap.set_xlabel('')\n",
    "fig.ax_heatmap.set_ylabel('')"
   ]
  },
  {
   "cell_type": "markdown",
   "metadata": {
    "id": "CsqIRTbC7doD"
   },
   "source": [
    "# 🔵 Addendum\n"
   ]
  },
  {
   "cell_type": "markdown",
   "metadata": {
    "id": "hycoXNTi5xsH"
   },
   "source": [
    "## Choosing a tradeoff value\n",
    "\n",
    "Even if you don't have growth rates available you can still use your data to choose a decent tradeoff value. This can be done by choosing the largest tradeoff value that still allows growth for the majority of the taxa that you observed in the sample (if they are present at an appreciable abundance, they should be able to grow). This can be done with the `tradeoff` workflow in MICOM that will run cooperative tradeoff with varying tradeoff values, which can be visualized with the `plot_tradeoff` function."
   ]
  },
  {
   "cell_type": "code",
   "execution_count": null,
   "metadata": {
    "id": "8_1jesZTHYra"
   },
   "outputs": [
    {
     "data": {
      "application/vnd.jupyter.widget-view+json": {
       "model_id": "61422f51b9144a639cacd754947d0843",
       "version_major": 2,
       "version_minor": 0
      },
      "text/plain": [
       "Output()"
      ]
     },
     "metadata": {},
     "output_type": "display_data"
    }
   ],
   "source": [
    "from micom.workflows import tradeoff\n",
    "import micom\n",
    "\n",
    "tradeoff_results = tradeoff(manifest, \"models\", medium, threads=2)\n",
    "tradeoff_results.to_csv(\"tradeoff.csv\", index=False)\n",
    "\n",
    "plot_tradeoff(tradeoff_results, tolerance=1e-4)"
   ]
  },
  {
   "cell_type": "code",
   "execution_count": 593,
   "metadata": {},
   "outputs": [
    {
     "data": {
      "text/plain": [
       "<micom.viz.core.Visualization at 0x7f9e245f7f70>"
      ]
     },
     "execution_count": 593,
     "metadata": {},
     "output_type": "execute_result"
    }
   ],
   "source": [
    "from micom.viz.tradeoff import plot_tradeoff\n",
    "plot_tradeoff(tradeoff_results, tolerance=1e-4)"
   ]
  },
  {
   "cell_type": "markdown",
   "metadata": {
    "id": "y9703vhK6d6c"
   },
   "source": [
    "After opeing `tradeoff_[DATE].html` you will see that, for our example here, all tradeoff values work great. This is because we modeled very few taxa, which keeps the compettion down. If you would allow for fewer abundant taxa in the models, this would change drastically. For instance, here is an example from a colorectal cancer data set:\n",
    "\n",
    "[![tradeoff example](https://micom-dev.github.io/micom/_images/tradeoff.png)](https://micom-dev.github.io/micom/_static/tradeoff.html)\n",
    "\n",
    "You can see how not using the cooperative tradeoff would give you nonsense results where only 10% of all observed taxa grew. A tradeoff value of 0.6-0.8 would probably be a good choice for this particular data set."
   ]
  }
 ],
 "metadata": {
  "colab": {
   "provenance": []
  },
  "kernelspec": {
   "display_name": "Python 3 (ipykernel)",
   "language": "python",
   "name": "python3"
  },
  "language_info": {
   "codemirror_mode": {
    "name": "ipython",
    "version": 3
   },
   "file_extension": ".py",
   "mimetype": "text/x-python",
   "name": "python",
   "nbconvert_exporter": "python",
   "pygments_lexer": "ipython3",
   "version": "3.8.19"
  },
  "vscode": {
   "interpreter": {
    "hash": "c991a7ed881363492957ff225bb30af9d5174cd8515a21cbef71fcaa303e4050"
   }
  }
 },
 "nbformat": 4,
 "nbformat_minor": 4
}
