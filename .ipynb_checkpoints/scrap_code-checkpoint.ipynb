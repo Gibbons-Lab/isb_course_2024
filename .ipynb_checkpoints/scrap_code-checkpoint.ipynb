{
 "cells": [
  {
   "cell_type": "markdown",
   "id": "3ec1e60f-ba5a-4118-bc8e-fec7df406881",
   "metadata": {},
   "source": [
    "# Scrap Code - Alyssa 9/26"
   ]
  },
  {
   "cell_type": "code",
   "execution_count": 1,
   "id": "22495d04-dfc8-4f2b-be3b-5e01e7a4252b",
   "metadata": {},
   "outputs": [],
   "source": [
    "import pandas as pd"
   ]
  },
  {
   "cell_type": "code",
   "execution_count": 3,
   "id": "fe19a0f7-c19f-4235-9461-0624522a3cfe",
   "metadata": {},
   "outputs": [
    {
     "data": {
      "text/html": [
       "<div>\n",
       "<style scoped>\n",
       "    .dataframe tbody tr th:only-of-type {\n",
       "        vertical-align: middle;\n",
       "    }\n",
       "\n",
       "    .dataframe tbody tr th {\n",
       "        vertical-align: top;\n",
       "    }\n",
       "\n",
       "    .dataframe thead th {\n",
       "        text-align: right;\n",
       "    }\n",
       "</style>\n",
       "<table border=\"1\" class=\"dataframe\">\n",
       "  <thead>\n",
       "    <tr style=\"text-align: right;\">\n",
       "      <th></th>\n",
       "      <th>Unnamed: 0</th>\n",
       "      <th>sample_id</th>\n",
       "      <th>age</th>\n",
       "      <th>body_habitat</th>\n",
       "      <th>body_product</th>\n",
       "      <th>body_site</th>\n",
       "      <th>case_control</th>\n",
       "      <th>ethnicity</th>\n",
       "      <th>life_stage</th>\n",
       "      <th>parkinson_disease</th>\n",
       "      <th>...</th>\n",
       "      <th>lyme_disease</th>\n",
       "      <th>shingles</th>\n",
       "      <th>yogurt</th>\n",
       "      <th>anorexia</th>\n",
       "      <th>malaria</th>\n",
       "      <th>meningitis</th>\n",
       "      <th>obsessive</th>\n",
       "      <th>phobia</th>\n",
       "      <th>breast_cancer</th>\n",
       "      <th>bulimia</th>\n",
       "    </tr>\n",
       "  </thead>\n",
       "  <tbody>\n",
       "    <tr>\n",
       "      <th>0</th>\n",
       "      <td>16</td>\n",
       "      <td>ERR1513684</td>\n",
       "      <td>58</td>\n",
       "      <td>UBERON:feces</td>\n",
       "      <td>UBERON:feces</td>\n",
       "      <td>UBERON:feces</td>\n",
       "      <td>Case</td>\n",
       "      <td>Not Hispanic or Latino</td>\n",
       "      <td>adult</td>\n",
       "      <td>Yes</td>\n",
       "      <td>...</td>\n",
       "      <td>No</td>\n",
       "      <td>No</td>\n",
       "      <td>Few times a week</td>\n",
       "      <td>No</td>\n",
       "      <td>Yes</td>\n",
       "      <td>No</td>\n",
       "      <td>No</td>\n",
       "      <td>No</td>\n",
       "      <td>No</td>\n",
       "      <td>No</td>\n",
       "    </tr>\n",
       "    <tr>\n",
       "      <th>1</th>\n",
       "      <td>33</td>\n",
       "      <td>ERR1513701</td>\n",
       "      <td>78</td>\n",
       "      <td>UBERON:feces</td>\n",
       "      <td>UBERON:feces</td>\n",
       "      <td>UBERON:feces</td>\n",
       "      <td>Case</td>\n",
       "      <td>Not Hispanic or Latino</td>\n",
       "      <td>adult</td>\n",
       "      <td>Yes</td>\n",
       "      <td>...</td>\n",
       "      <td>No</td>\n",
       "      <td>No</td>\n",
       "      <td>Less than once a month or never</td>\n",
       "      <td>No</td>\n",
       "      <td>No</td>\n",
       "      <td>No</td>\n",
       "      <td>No</td>\n",
       "      <td>No</td>\n",
       "      <td>No</td>\n",
       "      <td>No</td>\n",
       "    </tr>\n",
       "    <tr>\n",
       "      <th>2</th>\n",
       "      <td>35</td>\n",
       "      <td>ERR1513703</td>\n",
       "      <td>53</td>\n",
       "      <td>UBERON:feces</td>\n",
       "      <td>UBERON:feces</td>\n",
       "      <td>UBERON:feces</td>\n",
       "      <td>Case</td>\n",
       "      <td>Not Hispanic or Latino</td>\n",
       "      <td>adult</td>\n",
       "      <td>Yes</td>\n",
       "      <td>...</td>\n",
       "      <td>No</td>\n",
       "      <td>No</td>\n",
       "      <td>Less than once a month or never</td>\n",
       "      <td>No</td>\n",
       "      <td>No</td>\n",
       "      <td>No</td>\n",
       "      <td>No</td>\n",
       "      <td>No</td>\n",
       "      <td>No</td>\n",
       "      <td>No</td>\n",
       "    </tr>\n",
       "    <tr>\n",
       "      <th>3</th>\n",
       "      <td>109</td>\n",
       "      <td>ERR1513777</td>\n",
       "      <td>62</td>\n",
       "      <td>UBERON:feces</td>\n",
       "      <td>UBERON:feces</td>\n",
       "      <td>UBERON:feces</td>\n",
       "      <td>Control</td>\n",
       "      <td>Not Hispanic or Latino</td>\n",
       "      <td>adult</td>\n",
       "      <td>No</td>\n",
       "      <td>...</td>\n",
       "      <td>No</td>\n",
       "      <td>Yes</td>\n",
       "      <td>Less than once a month or never</td>\n",
       "      <td>No</td>\n",
       "      <td>No</td>\n",
       "      <td>Yes</td>\n",
       "      <td>No</td>\n",
       "      <td>No</td>\n",
       "      <td>No</td>\n",
       "      <td>No</td>\n",
       "    </tr>\n",
       "    <tr>\n",
       "      <th>4</th>\n",
       "      <td>202</td>\n",
       "      <td>ERR1513870</td>\n",
       "      <td>70</td>\n",
       "      <td>UBERON:feces</td>\n",
       "      <td>UBERON:feces</td>\n",
       "      <td>UBERON:feces</td>\n",
       "      <td>Case</td>\n",
       "      <td>Not Hispanic or Latino</td>\n",
       "      <td>adult</td>\n",
       "      <td>Yes</td>\n",
       "      <td>...</td>\n",
       "      <td>NaN</td>\n",
       "      <td>NaN</td>\n",
       "      <td>NaN</td>\n",
       "      <td>NaN</td>\n",
       "      <td>NaN</td>\n",
       "      <td>NaN</td>\n",
       "      <td>NaN</td>\n",
       "      <td>NaN</td>\n",
       "      <td>NaN</td>\n",
       "      <td>NaN</td>\n",
       "    </tr>\n",
       "  </tbody>\n",
       "</table>\n",
       "<p>5 rows × 58 columns</p>\n",
       "</div>"
      ],
      "text/plain": [
       "   Unnamed: 0   sample_id  age  body_habitat  body_product     body_site  \\\n",
       "0          16  ERR1513684   58  UBERON:feces  UBERON:feces  UBERON:feces   \n",
       "1          33  ERR1513701   78  UBERON:feces  UBERON:feces  UBERON:feces   \n",
       "2          35  ERR1513703   53  UBERON:feces  UBERON:feces  UBERON:feces   \n",
       "3         109  ERR1513777   62  UBERON:feces  UBERON:feces  UBERON:feces   \n",
       "4         202  ERR1513870   70  UBERON:feces  UBERON:feces  UBERON:feces   \n",
       "\n",
       "  case_control               ethnicity life_stage parkinson_disease  ...  \\\n",
       "0         Case  Not Hispanic or Latino      adult               Yes  ...   \n",
       "1         Case  Not Hispanic or Latino      adult               Yes  ...   \n",
       "2         Case  Not Hispanic or Latino      adult               Yes  ...   \n",
       "3      Control  Not Hispanic or Latino      adult                No  ...   \n",
       "4         Case  Not Hispanic or Latino      adult               Yes  ...   \n",
       "\n",
       "  lyme_disease shingles                           yogurt anorexia malaria  \\\n",
       "0           No       No                 Few times a week       No     Yes   \n",
       "1           No       No  Less than once a month or never       No      No   \n",
       "2           No       No  Less than once a month or never       No      No   \n",
       "3           No      Yes  Less than once a month or never       No      No   \n",
       "4          NaN      NaN                              NaN      NaN     NaN   \n",
       "\n",
       "  meningitis  obsessive phobia breast_cancer  bulimia  \n",
       "0         No         No     No            No       No  \n",
       "1         No         No     No            No       No  \n",
       "2         No         No     No            No       No  \n",
       "3        Yes         No     No            No       No  \n",
       "4        NaN        NaN    NaN           NaN      NaN  \n",
       "\n",
       "[5 rows x 58 columns]"
      ]
     },
     "execution_count": 3,
     "metadata": {},
     "output_type": "execute_result"
    }
   ],
   "source": [
    "metadata = pd.read_csv('data/metadata_filtered.csv')\n",
    "metadata.head()"
   ]
  },
  {
   "cell_type": "code",
   "execution_count": 12,
   "id": "788a4a3d-bf1e-4ee4-a4a8-f5167790e922",
   "metadata": {},
   "outputs": [
    {
     "data": {
      "text/plain": [
       "Index(['Unnamed: 0', 'sample_id', 'age', 'case_control', 'parkinson_disease',\n",
       "       'sex', 'ss_bloating', 'height_in', 'probiotics', 'alcohol_amount',\n",
       "       'chemotherapy', 'coffee_amount', 'fruits_or_vegetables',\n",
       "       'p3m_antibiotics_bool', 'ss_constipation', 'ss_diarrhea',\n",
       "       'antibiotics_bool', 'crohns_disease', 'intest_disease', 'meats',\n",
       "       'medication_digestive_problems_bool', 'nuts', 'p3m_constipation',\n",
       "       'inflam_bowel_disease', 'p3m_diarrhea', 'anxiety', 'colitis',\n",
       "       'loss_10lbs', 'sleep_aid', 'ulcers', 'BMI', 'grains',\n",
       "       'irrit_bowel_syndrome', 'skin_cancer', 'weight_lbs',\n",
       "       'anti_inflammatory_bool', 'bipolar', 'shingles', 'yogurt', 'malaria',\n",
       "       'obsessive', 'phobia', 'breast_cancer', 'bulimia'],\n",
       "      dtype='object')"
      ]
     },
     "execution_count": 12,
     "metadata": {},
     "output_type": "execute_result"
    }
   ],
   "source": [
    "metadata.columns"
   ]
  },
  {
   "cell_type": "code",
   "execution_count": 32,
   "id": "f10df9fe-2976-427a-bff3-c30e04b33e7e",
   "metadata": {},
   "outputs": [
    {
     "data": {
      "text/plain": [
       "Index(['Unnamed: 0', 'sample_id', 'age', 'case_control', 'parkinson_disease',\n",
       "       'sex', 'ss_bloating', 'height_in', 'probiotics', 'alcohol_amount',\n",
       "       'coffee_amount', 'fruits_or_vegetables', 'p3m_antibiotics_bool',\n",
       "       'ss_diarrhea', 'antibiotics_bool', 'meats',\n",
       "       'medication_digestive_problems_bool', 'nuts', 'p3m_constipation',\n",
       "       'anxiety', 'sleep_aid', 'BMI', 'grains', 'skin_cancer', 'weight_lbs',\n",
       "       'anti_inflammatory_bool', 'bipolar', 'shingles', 'yogurt', 'malaria'],\n",
       "      dtype='object')"
      ]
     },
     "execution_count": 32,
     "metadata": {},
     "output_type": "execute_result"
    }
   ],
   "source": [
    "metadata.drop(['p3m_diarrhea'], axis = 1, inplace = True)\n",
    "metadata.columns"
   ]
  },
  {
   "cell_type": "code",
   "execution_count": 33,
   "id": "5e5135d2-b4d2-47ac-b0be-3101470c31d6",
   "metadata": {},
   "outputs": [],
   "source": [
    "metadata = metadata.rename(columns={'Unnamed: 0': 'id_num'})"
   ]
  },
  {
   "cell_type": "code",
   "execution_count": 35,
   "id": "c93abb03-ebf6-43ab-9ff9-6f42a0c692bd",
   "metadata": {},
   "outputs": [],
   "source": [
    "metadata.to_csv('data/metadata_filtered.csv')"
   ]
  },
  {
   "cell_type": "code",
   "execution_count": null,
   "id": "f32c7d1c-a4d6-4f58-bed6-685ed1927833",
   "metadata": {},
   "outputs": [],
   "source": [
    "ids_to_select = manifest['sample-id']\n",
    "filtered_metadata = metadata[metadata['sample_id'].isin(ids_to_select)]\n",
    "filtered_metadata.to_csv('data/metadata_filtered.csv')"
   ]
  }
 ],
 "metadata": {
  "kernelspec": {
   "display_name": "Python 3 (ipykernel)",
   "language": "python",
   "name": "python3"
  },
  "language_info": {
   "codemirror_mode": {
    "name": "ipython",
    "version": 3
   },
   "file_extension": ".py",
   "mimetype": "text/x-python",
   "name": "python",
   "nbconvert_exporter": "python",
   "pygments_lexer": "ipython3",
   "version": "3.11.0"
  }
 },
 "nbformat": 4,
 "nbformat_minor": 5
}
