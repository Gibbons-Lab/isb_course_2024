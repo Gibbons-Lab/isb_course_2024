{
  "cells": [
    {
      "cell_type": "markdown",
      "metadata": {
        "id": "view-in-github"
      },
      "source": [
        "<a href=\"https://colab.research.google.com/github/Gibbons-Lab/isb_course_2023/blob/main/16S_2024.ipynb\" target=\"_parent\"><img src=\"https://colab.research.google.com/assets/colab-badge.svg\" alt=\"Open In Colab\"/></a>"
      ]
    },
    {
      "cell_type": "markdown",
      "metadata": {
        "id": "2inlS7SNn0-o",
        "tags": []
      },
      "source": [
        "# 🦠 Amplicon Sequencing Data Analysis with QIIME 2"
      ]
    },
    {
      "cell_type": "markdown",
      "metadata": {
        "id": "lcJVyVD80fAG"
      },
      "source": [
        "This notebook will accompany the first session of the 2024 ISB Virtual Microbiome Series. The presentation slides can be [found here](https://gibbons-lab.github.io/isb_course_2024/16S).\n",
        "\n",
        "Save your own local copy of this notebook by using `File > Save a copy in Drive`. At some point you may be prompted to trust the notebook. We promise that it is safe 🤞\n",
        "\n",
        "**Disclaimer:**\n",
        "\n",
        "The Google Colab notebook environment will interpret any command as Python code by default. If we want to run bash commands we will have to prefix them by `!`. So any command you see with a leading `!` is a bash command and if you wanted to run it in your terminal you would omit the `!`. For example, if in the Colab notebook you ran `!wget` you would just run `wget` in your terminal."
      ]
    },
    {
      "cell_type": "markdown",
      "metadata": {
        "tags": [],
        "id": "UVawr3gG0fAG"
      },
      "source": [
        "## Setup"
      ]
    },
    {
      "cell_type": "markdown",
      "metadata": {
        "id": "CuWOn36b0fAH"
      },
      "source": [
        "QIIME 2 is usually installed by following the [official installation instructions](https://docs.qiime2.org/2024.5/install/). However, because we are using Google Colab and there are some caveats to using conda here, we will have to hack around the installation a little bit. But no worries, we provide a setup script below which does all this work for us. 😌\n",
        "\n",
        "So...let's start by pulling a local copy of the project repository down from GitHub."
      ]
    },
    {
      "cell_type": "code",
      "execution_count": 14,
      "metadata": {
        "id": "9Cyg41Tcn1Ua",
        "colab": {
          "base_uri": "https://localhost:8080/"
        },
        "outputId": "a207fd86-51e3-4e07-8ae9-a6cbafc4ef18"
      },
      "outputs": [
        {
          "output_type": "stream",
          "name": "stdout",
          "text": [
            "Cloning into 'materials'...\n",
            "remote: Enumerating objects: 545, done.\u001b[K\n",
            "remote: Counting objects: 100% (121/121), done.\u001b[K\n",
            "remote: Compressing objects: 100% (116/116), done.\u001b[K\n",
            "^C\n"
          ]
        }
      ],
      "source": [
        "!git clone https://github.com/gibbons-lab/isb_course_2024 materials"
      ]
    },
    {
      "cell_type": "markdown",
      "metadata": {
        "id": "MQ9XVvOToEBR"
      },
      "source": [
        "This repository, called __materials__, contains all the relevant data and other resources we'll need for this course. To view the directory, click on the folder icon on the left. Let's navigate to that directory via command line now:"
      ]
    },
    {
      "cell_type": "code",
      "execution_count": 17,
      "metadata": {
        "id": "GvNHs-EroFNM",
        "colab": {
          "base_uri": "https://localhost:8080/"
        },
        "outputId": "ce246af8-4475-47c8-d71f-7eb3b431c914"
      },
      "outputs": [
        {
          "output_type": "stream",
          "name": "stdout",
          "text": [
            "[Errno 2] No such file or directory: 'materials'\n",
            "/content/materials\n"
          ]
        }
      ],
      "source": [
        "%cd materials"
      ]
    },
    {
      "cell_type": "markdown",
      "metadata": {
        "id": "IHvKnTbdypyp"
      },
      "source": [
        "Notice here we use ```%``` instead of ```!``` to run out command line function. This makes the path change to our directory permanent: using the ```!``` operator only switches the interpreter to expect command line prompts temporarily.\n",
        "\n",
        "\n"
      ]
    },
    {
      "cell_type": "markdown",
      "metadata": {
        "id": "rIOk9J0AoYXX",
        "tags": []
      },
      "source": [
        "## Install QIIME2"
      ]
    },
    {
      "cell_type": "markdown",
      "metadata": {
        "id": "nJ56MqA50fAJ"
      },
      "source": [
        "Now that we have all our materials, we're _almost_ ready to get started - but not quite. Remember QIIME2? We'll need to install that before getting into the actual analysis. Don't worry - this will only set up in the Colab notebook, not on your local machine.\n",
        "\n",
        "Let's run the following cell, to install and setup QIIME2."
      ]
    },
    {
      "cell_type": "code",
      "execution_count": 3,
      "metadata": {
        "id": "Inkvkt_DoSQT",
        "colab": {
          "base_uri": "https://localhost:8080/",
          "height": 298
        },
        "outputId": "278c4207-ca12-4ecf-d562-2335990d6170"
      },
      "outputs": [
        {
          "output_type": "display_data",
          "data": {
            "text/plain": [
              "\u001b[2;36m[06:47:35]\u001b[0m\u001b[2;36m \u001b[0m🐍 Downloading miniforge\u001b[33m...\u001b[0m                                                              \u001b]8;id=226070;file:///content/materials/setup_qiime2\u001b\\\u001b[2msetup_qiime2\u001b[0m\u001b]8;;\u001b\\\u001b[2m:\u001b[0m\u001b]8;id=70117;file:///content/materials/setup_qiime2#67\u001b\\\u001b[2m67\u001b[0m\u001b]8;;\u001b\\\n"
            ],
            "text/html": [
              "<pre style=\"white-space:pre;overflow-x:auto;line-height:normal;font-family:Menlo,'DejaVu Sans Mono',consolas,'Courier New',monospace\"><span style=\"color: #7fbfbf; text-decoration-color: #7fbfbf\">[06:47:35] </span>🐍 Downloading miniforge<span style=\"color: #808000; text-decoration-color: #808000\">...</span>                                                              <a href=\"file:///content/materials/setup_qiime2\" target=\"_blank\"><span style=\"color: #7f7f7f; text-decoration-color: #7f7f7f\">setup_qiime2</span></a><span style=\"color: #7f7f7f; text-decoration-color: #7f7f7f\">:</span><a href=\"file:///content/materials/setup_qiime2#67\" target=\"_blank\"><span style=\"color: #7f7f7f; text-decoration-color: #7f7f7f\">67</span></a>\n",
              "</pre>\n"
            ]
          },
          "metadata": {}
        },
        {
          "output_type": "display_data",
          "data": {
            "text/plain": [
              "\u001b[2;36m[06:47:36]\u001b[0m\u001b[2;36m \u001b[0m\u001b[34m🐍 Done.\u001b[0m                                                                                 \u001b]8;id=86631;file:///content/materials/setup_qiime2\u001b\\\u001b[2msetup_qiime2\u001b[0m\u001b]8;;\u001b\\\u001b[2m:\u001b[0m\u001b]8;id=463233;file:///content/materials/setup_qiime2#73\u001b\\\u001b[2m73\u001b[0m\u001b]8;;\u001b\\\n"
            ],
            "text/html": [
              "<pre style=\"white-space:pre;overflow-x:auto;line-height:normal;font-family:Menlo,'DejaVu Sans Mono',consolas,'Courier New',monospace\"><span style=\"color: #7fbfbf; text-decoration-color: #7fbfbf\">[06:47:36] </span><span style=\"color: #000080; text-decoration-color: #000080\">🐍 Done.</span>                                                                                 <a href=\"file:///content/materials/setup_qiime2\" target=\"_blank\"><span style=\"color: #7f7f7f; text-decoration-color: #7f7f7f\">setup_qiime2</span></a><span style=\"color: #7f7f7f; text-decoration-color: #7f7f7f\">:</span><a href=\"file:///content/materials/setup_qiime2#73\" target=\"_blank\"><span style=\"color: #7f7f7f; text-decoration-color: #7f7f7f\">73</span></a>\n",
              "</pre>\n"
            ]
          },
          "metadata": {}
        },
        {
          "output_type": "display_data",
          "data": {
            "text/plain": [
              "\u001b[2;36m          \u001b[0m\u001b[2;36m \u001b[0m🐍 Installing miniforge\u001b[33m...\u001b[0m                                                               \u001b]8;id=868215;file:///content/materials/setup_qiime2\u001b\\\u001b[2msetup_qiime2\u001b[0m\u001b]8;;\u001b\\\u001b[2m:\u001b[0m\u001b]8;id=661304;file:///content/materials/setup_qiime2#67\u001b\\\u001b[2m67\u001b[0m\u001b]8;;\u001b\\\n"
            ],
            "text/html": [
              "<pre style=\"white-space:pre;overflow-x:auto;line-height:normal;font-family:Menlo,'DejaVu Sans Mono',consolas,'Courier New',monospace\"><span style=\"color: #7fbfbf; text-decoration-color: #7fbfbf\">           </span>🐍 Installing miniforge<span style=\"color: #808000; text-decoration-color: #808000\">...</span>                                                               <a href=\"file:///content/materials/setup_qiime2\" target=\"_blank\"><span style=\"color: #7f7f7f; text-decoration-color: #7f7f7f\">setup_qiime2</span></a><span style=\"color: #7f7f7f; text-decoration-color: #7f7f7f\">:</span><a href=\"file:///content/materials/setup_qiime2#67\" target=\"_blank\"><span style=\"color: #7f7f7f; text-decoration-color: #7f7f7f\">67</span></a>\n",
              "</pre>\n"
            ]
          },
          "metadata": {}
        },
        {
          "output_type": "display_data",
          "data": {
            "text/plain": [
              "\u001b[2;36m[06:47:49]\u001b[0m\u001b[2;36m \u001b[0m\u001b[34m🐍 Installed miniforge to `\u001b[0m\u001b[34m/usr/\u001b[0m\u001b[34mlocal\u001b[0m\u001b[34m`.\u001b[0m                                                  \u001b]8;id=677582;file:///content/materials/setup_qiime2\u001b\\\u001b[2msetup_qiime2\u001b[0m\u001b]8;;\u001b\\\u001b[2m:\u001b[0m\u001b]8;id=422470;file:///content/materials/setup_qiime2#73\u001b\\\u001b[2m73\u001b[0m\u001b]8;;\u001b\\\n"
            ],
            "text/html": [
              "<pre style=\"white-space:pre;overflow-x:auto;line-height:normal;font-family:Menlo,'DejaVu Sans Mono',consolas,'Courier New',monospace\"><span style=\"color: #7fbfbf; text-decoration-color: #7fbfbf\">[06:47:49] </span><span style=\"color: #000080; text-decoration-color: #000080\">🐍 Installed miniforge to `/usr/local`.</span>                                                  <a href=\"file:///content/materials/setup_qiime2\" target=\"_blank\"><span style=\"color: #7f7f7f; text-decoration-color: #7f7f7f\">setup_qiime2</span></a><span style=\"color: #7f7f7f; text-decoration-color: #7f7f7f\">:</span><a href=\"file:///content/materials/setup_qiime2#73\" target=\"_blank\"><span style=\"color: #7f7f7f; text-decoration-color: #7f7f7f\">73</span></a>\n",
              "</pre>\n"
            ]
          },
          "metadata": {}
        },
        {
          "output_type": "display_data",
          "data": {
            "text/plain": [
              "\u001b[2;36m          \u001b[0m\u001b[2;36m \u001b[0m🔍 Downloading Qiime \u001b[1;36m2\u001b[0m package list\u001b[33m...\u001b[0m                                                   \u001b]8;id=448899;file:///content/materials/setup_qiime2\u001b\\\u001b[2msetup_qiime2\u001b[0m\u001b]8;;\u001b\\\u001b[2m:\u001b[0m\u001b]8;id=564336;file:///content/materials/setup_qiime2#67\u001b\\\u001b[2m67\u001b[0m\u001b]8;;\u001b\\\n"
            ],
            "text/html": [
              "<pre style=\"white-space:pre;overflow-x:auto;line-height:normal;font-family:Menlo,'DejaVu Sans Mono',consolas,'Courier New',monospace\"><span style=\"color: #7fbfbf; text-decoration-color: #7fbfbf\">           </span>🔍 Downloading Qiime <span style=\"color: #008080; text-decoration-color: #008080; font-weight: bold\">2</span> package list<span style=\"color: #808000; text-decoration-color: #808000\">...</span>                                                   <a href=\"file:///content/materials/setup_qiime2\" target=\"_blank\"><span style=\"color: #7f7f7f; text-decoration-color: #7f7f7f\">setup_qiime2</span></a><span style=\"color: #7f7f7f; text-decoration-color: #7f7f7f\">:</span><a href=\"file:///content/materials/setup_qiime2#67\" target=\"_blank\"><span style=\"color: #7f7f7f; text-decoration-color: #7f7f7f\">67</span></a>\n",
              "</pre>\n"
            ]
          },
          "metadata": {}
        },
        {
          "output_type": "display_data",
          "data": {
            "text/plain": [
              "\u001b[2;36m[06:47:50]\u001b[0m\u001b[2;36m \u001b[0m\u001b[34m🔍 Done.\u001b[0m                                                                                 \u001b]8;id=342050;file:///content/materials/setup_qiime2\u001b\\\u001b[2msetup_qiime2\u001b[0m\u001b]8;;\u001b\\\u001b[2m:\u001b[0m\u001b]8;id=926781;file:///content/materials/setup_qiime2#73\u001b\\\u001b[2m73\u001b[0m\u001b]8;;\u001b\\\n"
            ],
            "text/html": [
              "<pre style=\"white-space:pre;overflow-x:auto;line-height:normal;font-family:Menlo,'DejaVu Sans Mono',consolas,'Courier New',monospace\"><span style=\"color: #7fbfbf; text-decoration-color: #7fbfbf\">[06:47:50] </span><span style=\"color: #000080; text-decoration-color: #000080\">🔍 Done.</span>                                                                                 <a href=\"file:///content/materials/setup_qiime2\" target=\"_blank\"><span style=\"color: #7f7f7f; text-decoration-color: #7f7f7f\">setup_qiime2</span></a><span style=\"color: #7f7f7f; text-decoration-color: #7f7f7f\">:</span><a href=\"file:///content/materials/setup_qiime2#73\" target=\"_blank\"><span style=\"color: #7f7f7f; text-decoration-color: #7f7f7f\">73</span></a>\n",
              "</pre>\n"
            ]
          },
          "metadata": {}
        },
        {
          "output_type": "display_data",
          "data": {
            "text/plain": [
              "\u001b[2;36m          \u001b[0m\u001b[2;36m \u001b[0m🔍 Installing Qiime \u001b[1;36m2\u001b[0m. This may take a little bit.                                       \u001b]8;id=249824;file:///content/materials/setup_qiime2\u001b\\\u001b[2msetup_qiime2\u001b[0m\u001b]8;;\u001b\\\u001b[2m:\u001b[0m\u001b]8;id=761050;file:///content/materials/setup_qiime2#67\u001b\\\u001b[2m67\u001b[0m\u001b]8;;\u001b\\\n",
              "\u001b[2;36m           \u001b[0m 🕐                                                                                      \u001b[2m               \u001b[0m\n"
            ],
            "text/html": [
              "<pre style=\"white-space:pre;overflow-x:auto;line-height:normal;font-family:Menlo,'DejaVu Sans Mono',consolas,'Courier New',monospace\"><span style=\"color: #7fbfbf; text-decoration-color: #7fbfbf\">           </span>🔍 Installing Qiime <span style=\"color: #008080; text-decoration-color: #008080; font-weight: bold\">2</span>. This may take a little bit.                                       <a href=\"file:///content/materials/setup_qiime2\" target=\"_blank\"><span style=\"color: #7f7f7f; text-decoration-color: #7f7f7f\">setup_qiime2</span></a><span style=\"color: #7f7f7f; text-decoration-color: #7f7f7f\">:</span><a href=\"file:///content/materials/setup_qiime2#67\" target=\"_blank\"><span style=\"color: #7f7f7f; text-decoration-color: #7f7f7f\">67</span></a>\n",
              "<span style=\"color: #7fbfbf; text-decoration-color: #7fbfbf\">           </span> 🕐                                                                                      <span style=\"color: #7f7f7f; text-decoration-color: #7f7f7f\">               </span>\n",
              "</pre>\n"
            ]
          },
          "metadata": {}
        },
        {
          "output_type": "display_data",
          "data": {
            "text/plain": [
              "\u001b[2;36m[06:52:31]\u001b[0m\u001b[2;36m \u001b[0m\u001b[34m🔍 Done.\u001b[0m                                                                                 \u001b]8;id=433346;file:///content/materials/setup_qiime2\u001b\\\u001b[2msetup_qiime2\u001b[0m\u001b]8;;\u001b\\\u001b[2m:\u001b[0m\u001b]8;id=446451;file:///content/materials/setup_qiime2#73\u001b\\\u001b[2m73\u001b[0m\u001b]8;;\u001b\\\n"
            ],
            "text/html": [
              "<pre style=\"white-space:pre;overflow-x:auto;line-height:normal;font-family:Menlo,'DejaVu Sans Mono',consolas,'Courier New',monospace\"><span style=\"color: #7fbfbf; text-decoration-color: #7fbfbf\">[06:52:31] </span><span style=\"color: #000080; text-decoration-color: #000080\">🔍 Done.</span>                                                                                 <a href=\"file:///content/materials/setup_qiime2\" target=\"_blank\"><span style=\"color: #7f7f7f; text-decoration-color: #7f7f7f\">setup_qiime2</span></a><span style=\"color: #7f7f7f; text-decoration-color: #7f7f7f\">:</span><a href=\"file:///content/materials/setup_qiime2#73\" target=\"_blank\"><span style=\"color: #7f7f7f; text-decoration-color: #7f7f7f\">73</span></a>\n",
              "</pre>\n"
            ]
          },
          "metadata": {}
        },
        {
          "output_type": "display_data",
          "data": {
            "text/plain": [
              "\u001b[2;36m          \u001b[0m\u001b[2;36m \u001b[0m🌲 Installing Empress\u001b[33m...\u001b[0m                                                                 \u001b]8;id=865037;file:///content/materials/setup_qiime2\u001b\\\u001b[2msetup_qiime2\u001b[0m\u001b]8;;\u001b\\\u001b[2m:\u001b[0m\u001b]8;id=644948;file:///content/materials/setup_qiime2#67\u001b\\\u001b[2m67\u001b[0m\u001b]8;;\u001b\\\n"
            ],
            "text/html": [
              "<pre style=\"white-space:pre;overflow-x:auto;line-height:normal;font-family:Menlo,'DejaVu Sans Mono',consolas,'Courier New',monospace\"><span style=\"color: #7fbfbf; text-decoration-color: #7fbfbf\">           </span>🌲 Installing Empress<span style=\"color: #808000; text-decoration-color: #808000\">...</span>                                                                 <a href=\"file:///content/materials/setup_qiime2\" target=\"_blank\"><span style=\"color: #7f7f7f; text-decoration-color: #7f7f7f\">setup_qiime2</span></a><span style=\"color: #7f7f7f; text-decoration-color: #7f7f7f\">:</span><a href=\"file:///content/materials/setup_qiime2#67\" target=\"_blank\"><span style=\"color: #7f7f7f; text-decoration-color: #7f7f7f\">67</span></a>\n",
              "</pre>\n"
            ]
          },
          "metadata": {}
        },
        {
          "output_type": "display_data",
          "data": {
            "text/plain": [
              "\u001b[2;36m[06:52:35]\u001b[0m\u001b[2;36m \u001b[0m\u001b[34m🌲 Done.\u001b[0m                                                                                 \u001b]8;id=890120;file:///content/materials/setup_qiime2\u001b\\\u001b[2msetup_qiime2\u001b[0m\u001b]8;;\u001b\\\u001b[2m:\u001b[0m\u001b]8;id=112239;file:///content/materials/setup_qiime2#73\u001b\\\u001b[2m73\u001b[0m\u001b]8;;\u001b\\\n"
            ],
            "text/html": [
              "<pre style=\"white-space:pre;overflow-x:auto;line-height:normal;font-family:Menlo,'DejaVu Sans Mono',consolas,'Courier New',monospace\"><span style=\"color: #7fbfbf; text-decoration-color: #7fbfbf\">[06:52:35] </span><span style=\"color: #000080; text-decoration-color: #000080\">🌲 Done.</span>                                                                                 <a href=\"file:///content/materials/setup_qiime2\" target=\"_blank\"><span style=\"color: #7f7f7f; text-decoration-color: #7f7f7f\">setup_qiime2</span></a><span style=\"color: #7f7f7f; text-decoration-color: #7f7f7f\">:</span><a href=\"file:///content/materials/setup_qiime2#73\" target=\"_blank\"><span style=\"color: #7f7f7f; text-decoration-color: #7f7f7f\">73</span></a>\n",
              "</pre>\n"
            ]
          },
          "metadata": {}
        },
        {
          "output_type": "display_data",
          "data": {
            "text/plain": [
              "\u001b[2;36m          \u001b[0m\u001b[2;36m \u001b[0m📊 Checking that Qiime \u001b[1;36m2\u001b[0m command line works\u001b[33m...\u001b[0m                                           \u001b]8;id=987481;file:///content/materials/setup_qiime2\u001b\\\u001b[2msetup_qiime2\u001b[0m\u001b]8;;\u001b\\\u001b[2m:\u001b[0m\u001b]8;id=773870;file:///content/materials/setup_qiime2#67\u001b\\\u001b[2m67\u001b[0m\u001b]8;;\u001b\\\n"
            ],
            "text/html": [
              "<pre style=\"white-space:pre;overflow-x:auto;line-height:normal;font-family:Menlo,'DejaVu Sans Mono',consolas,'Courier New',monospace\"><span style=\"color: #7fbfbf; text-decoration-color: #7fbfbf\">           </span>📊 Checking that Qiime <span style=\"color: #008080; text-decoration-color: #008080; font-weight: bold\">2</span> command line works<span style=\"color: #808000; text-decoration-color: #808000\">...</span>                                           <a href=\"file:///content/materials/setup_qiime2\" target=\"_blank\"><span style=\"color: #7f7f7f; text-decoration-color: #7f7f7f\">setup_qiime2</span></a><span style=\"color: #7f7f7f; text-decoration-color: #7f7f7f\">:</span><a href=\"file:///content/materials/setup_qiime2#67\" target=\"_blank\"><span style=\"color: #7f7f7f; text-decoration-color: #7f7f7f\">67</span></a>\n",
              "</pre>\n"
            ]
          },
          "metadata": {}
        },
        {
          "output_type": "display_data",
          "data": {
            "text/plain": [
              "\u001b[2;36m[06:52:46]\u001b[0m\u001b[2;36m \u001b[0m\u001b[34m📊 Qiime \u001b[0m\u001b[1;34m2\u001b[0m\u001b[34m command line looks good 🎉\u001b[0m                                                    \u001b]8;id=618646;file:///content/materials/setup_qiime2\u001b\\\u001b[2msetup_qiime2\u001b[0m\u001b]8;;\u001b\\\u001b[2m:\u001b[0m\u001b]8;id=841762;file:///content/materials/setup_qiime2#73\u001b\\\u001b[2m73\u001b[0m\u001b]8;;\u001b\\\n"
            ],
            "text/html": [
              "<pre style=\"white-space:pre;overflow-x:auto;line-height:normal;font-family:Menlo,'DejaVu Sans Mono',consolas,'Courier New',monospace\"><span style=\"color: #7fbfbf; text-decoration-color: #7fbfbf\">[06:52:46] </span><span style=\"color: #000080; text-decoration-color: #000080\">📊 Qiime </span><span style=\"color: #000080; text-decoration-color: #000080; font-weight: bold\">2</span><span style=\"color: #000080; text-decoration-color: #000080\"> command line looks good 🎉</span>                                                    <a href=\"file:///content/materials/setup_qiime2\" target=\"_blank\"><span style=\"color: #7f7f7f; text-decoration-color: #7f7f7f\">setup_qiime2</span></a><span style=\"color: #7f7f7f; text-decoration-color: #7f7f7f\">:</span><a href=\"file:///content/materials/setup_qiime2#73\" target=\"_blank\"><span style=\"color: #7f7f7f; text-decoration-color: #7f7f7f\">73</span></a>\n",
              "</pre>\n"
            ]
          },
          "metadata": {}
        },
        {
          "output_type": "display_data",
          "data": {
            "text/plain": [
              "\u001b[2;36m          \u001b[0m\u001b[2;36m \u001b[0m🧹 Cleaned up unneeded files.                                                            \u001b]8;id=572194;file:///content/materials/setup_qiime2\u001b\\\u001b[2msetup_qiime2\u001b[0m\u001b]8;;\u001b\\\u001b[2m:\u001b[0m\u001b]8;id=494159;file:///content/materials/setup_qiime2#62\u001b\\\u001b[2m62\u001b[0m\u001b]8;;\u001b\\\n"
            ],
            "text/html": [
              "<pre style=\"white-space:pre;overflow-x:auto;line-height:normal;font-family:Menlo,'DejaVu Sans Mono',consolas,'Courier New',monospace\"><span style=\"color: #7fbfbf; text-decoration-color: #7fbfbf\">           </span>🧹 Cleaned up unneeded files.                                                            <a href=\"file:///content/materials/setup_qiime2\" target=\"_blank\"><span style=\"color: #7f7f7f; text-decoration-color: #7f7f7f\">setup_qiime2</span></a><span style=\"color: #7f7f7f; text-decoration-color: #7f7f7f\">:</span><a href=\"file:///content/materials/setup_qiime2#62\" target=\"_blank\"><span style=\"color: #7f7f7f; text-decoration-color: #7f7f7f\">62</span></a>\n",
              "</pre>\n"
            ]
          },
          "metadata": {}
        },
        {
          "output_type": "display_data",
          "data": {
            "text/plain": [
              "\u001b[2;36m          \u001b[0m\u001b[2;36m \u001b[0m\u001b[32mEverything is A-OK. You can start using Qiime \u001b[0m\u001b[1;32m2\u001b[0m\u001b[32m now 👍\u001b[0m                                  \u001b]8;id=606947;file:///content/materials/setup_qiime2\u001b\\\u001b[2msetup_qiime2\u001b[0m\u001b]8;;\u001b\\\u001b[2m:\u001b[0m\u001b]8;id=527467;file:///content/materials/setup_qiime2#149\u001b\\\u001b[2m149\u001b[0m\u001b]8;;\u001b\\\n"
            ],
            "text/html": [
              "<pre style=\"white-space:pre;overflow-x:auto;line-height:normal;font-family:Menlo,'DejaVu Sans Mono',consolas,'Courier New',monospace\"><span style=\"color: #7fbfbf; text-decoration-color: #7fbfbf\">           </span><span style=\"color: #008000; text-decoration-color: #008000\">Everything is A-OK. You can start using Qiime </span><span style=\"color: #008000; text-decoration-color: #008000; font-weight: bold\">2</span><span style=\"color: #008000; text-decoration-color: #008000\"> now 👍</span>                                  <a href=\"file:///content/materials/setup_qiime2\" target=\"_blank\"><span style=\"color: #7f7f7f; text-decoration-color: #7f7f7f\">setup_qiime2</span></a><span style=\"color: #7f7f7f; text-decoration-color: #7f7f7f\">:</span><a href=\"file:///content/materials/setup_qiime2#149\" target=\"_blank\"><span style=\"color: #7f7f7f; text-decoration-color: #7f7f7f\">149</span></a>\n",
              "</pre>\n"
            ]
          },
          "metadata": {}
        }
      ],
      "source": [
        "%run setup_qiime2"
      ]
    },
    {
      "cell_type": "markdown",
      "metadata": {
        "id": "Pajd6O0OpE_f"
      },
      "source": [
        "⬆️ This will take some time (usually 10 to 15 minutes), so we'll switch back over to the [presentation](https://gibbons-lab.github.io/isb_course_2024/16S) while we wait.\n",
        "\n",
        "If you want to learn more about QIIME2, we recommend you check out the [documentation](https://docs.qiime2.org/). This will also explain how to install QIIME2 on your local machine 🖥"
      ]
    },
    {
      "cell_type": "markdown",
      "metadata": {
        "id": "RccdNYBeqQVn",
        "tags": []
      },
      "source": [
        "## Let's Get Started!"
      ]
    },
    {
      "cell_type": "markdown",
      "metadata": {
        "id": "bPExCVcl0fAK"
      },
      "source": [
        "Now we're on to the fun part. Let's begin by taking a look at our data. In the __data__ folder, you'll find 10 FASTQ files, a file manifest, and a metadata file. Let's take a look at the manifest, first. This is a file that contains the name, and filepath of all our samples, and we'll need it later on when we use QIIME2 📝."
      ]
    },
    {
      "cell_type": "code",
      "execution_count": 20,
      "metadata": {
        "id": "_pFaCnO6iqqW",
        "colab": {
          "base_uri": "https://localhost:8080/",
          "height": 362
        },
        "outputId": "160bf3f3-5f7c-4460-ef75-9599327044f8"
      },
      "outputs": [
        {
          "output_type": "execute_result",
          "data": {
            "text/plain": [
              "    sample-id              absolute-filepath\n",
              "0  ERR1513701  $PWD/data/ERR1513701.fastq.gz\n",
              "1  ERR1513870  $PWD/data/ERR1513870.fastq.gz\n",
              "2  ERR1513889  $PWD/data/ERR1513889.fastq.gz\n",
              "3  ERR1513684  $PWD/data/ERR1513684.fastq.gz\n",
              "4  ERR1513703  $PWD/data/ERR1513703.fastq.gz\n",
              "5  ERR1514003  $PWD/data/ERR1514003.fastq.gz\n",
              "6  ERR1513961  $PWD/data/ERR1513961.fastq.gz\n",
              "7  ERR1513983  $PWD/data/ERR1513983.fastq.gz\n",
              "8  ERR1513964  $PWD/data/ERR1513964.fastq.gz\n",
              "9  ERR1513777  $PWD/data/ERR1513777.fastq.gz"
            ],
            "text/html": [
              "\n",
              "  <div id=\"df-04fa7440-8038-4e50-a1b1-8b2cd3801a28\" class=\"colab-df-container\">\n",
              "    <div>\n",
              "<style scoped>\n",
              "    .dataframe tbody tr th:only-of-type {\n",
              "        vertical-align: middle;\n",
              "    }\n",
              "\n",
              "    .dataframe tbody tr th {\n",
              "        vertical-align: top;\n",
              "    }\n",
              "\n",
              "    .dataframe thead th {\n",
              "        text-align: right;\n",
              "    }\n",
              "</style>\n",
              "<table border=\"1\" class=\"dataframe\">\n",
              "  <thead>\n",
              "    <tr style=\"text-align: right;\">\n",
              "      <th></th>\n",
              "      <th>sample-id</th>\n",
              "      <th>absolute-filepath</th>\n",
              "    </tr>\n",
              "  </thead>\n",
              "  <tbody>\n",
              "    <tr>\n",
              "      <th>0</th>\n",
              "      <td>ERR1513701</td>\n",
              "      <td>$PWD/data/ERR1513701.fastq.gz</td>\n",
              "    </tr>\n",
              "    <tr>\n",
              "      <th>1</th>\n",
              "      <td>ERR1513870</td>\n",
              "      <td>$PWD/data/ERR1513870.fastq.gz</td>\n",
              "    </tr>\n",
              "    <tr>\n",
              "      <th>2</th>\n",
              "      <td>ERR1513889</td>\n",
              "      <td>$PWD/data/ERR1513889.fastq.gz</td>\n",
              "    </tr>\n",
              "    <tr>\n",
              "      <th>3</th>\n",
              "      <td>ERR1513684</td>\n",
              "      <td>$PWD/data/ERR1513684.fastq.gz</td>\n",
              "    </tr>\n",
              "    <tr>\n",
              "      <th>4</th>\n",
              "      <td>ERR1513703</td>\n",
              "      <td>$PWD/data/ERR1513703.fastq.gz</td>\n",
              "    </tr>\n",
              "    <tr>\n",
              "      <th>5</th>\n",
              "      <td>ERR1514003</td>\n",
              "      <td>$PWD/data/ERR1514003.fastq.gz</td>\n",
              "    </tr>\n",
              "    <tr>\n",
              "      <th>6</th>\n",
              "      <td>ERR1513961</td>\n",
              "      <td>$PWD/data/ERR1513961.fastq.gz</td>\n",
              "    </tr>\n",
              "    <tr>\n",
              "      <th>7</th>\n",
              "      <td>ERR1513983</td>\n",
              "      <td>$PWD/data/ERR1513983.fastq.gz</td>\n",
              "    </tr>\n",
              "    <tr>\n",
              "      <th>8</th>\n",
              "      <td>ERR1513964</td>\n",
              "      <td>$PWD/data/ERR1513964.fastq.gz</td>\n",
              "    </tr>\n",
              "    <tr>\n",
              "      <th>9</th>\n",
              "      <td>ERR1513777</td>\n",
              "      <td>$PWD/data/ERR1513777.fastq.gz</td>\n",
              "    </tr>\n",
              "  </tbody>\n",
              "</table>\n",
              "</div>\n",
              "    <div class=\"colab-df-buttons\">\n",
              "\n",
              "  <div class=\"colab-df-container\">\n",
              "    <button class=\"colab-df-convert\" onclick=\"convertToInteractive('df-04fa7440-8038-4e50-a1b1-8b2cd3801a28')\"\n",
              "            title=\"Convert this dataframe to an interactive table.\"\n",
              "            style=\"display:none;\">\n",
              "\n",
              "  <svg xmlns=\"http://www.w3.org/2000/svg\" height=\"24px\" viewBox=\"0 -960 960 960\">\n",
              "    <path d=\"M120-120v-720h720v720H120Zm60-500h600v-160H180v160Zm220 220h160v-160H400v160Zm0 220h160v-160H400v160ZM180-400h160v-160H180v160Zm440 0h160v-160H620v160ZM180-180h160v-160H180v160Zm440 0h160v-160H620v160Z\"/>\n",
              "  </svg>\n",
              "    </button>\n",
              "\n",
              "  <style>\n",
              "    .colab-df-container {\n",
              "      display:flex;\n",
              "      gap: 12px;\n",
              "    }\n",
              "\n",
              "    .colab-df-convert {\n",
              "      background-color: #E8F0FE;\n",
              "      border: none;\n",
              "      border-radius: 50%;\n",
              "      cursor: pointer;\n",
              "      display: none;\n",
              "      fill: #1967D2;\n",
              "      height: 32px;\n",
              "      padding: 0 0 0 0;\n",
              "      width: 32px;\n",
              "    }\n",
              "\n",
              "    .colab-df-convert:hover {\n",
              "      background-color: #E2EBFA;\n",
              "      box-shadow: 0px 1px 2px rgba(60, 64, 67, 0.3), 0px 1px 3px 1px rgba(60, 64, 67, 0.15);\n",
              "      fill: #174EA6;\n",
              "    }\n",
              "\n",
              "    .colab-df-buttons div {\n",
              "      margin-bottom: 4px;\n",
              "    }\n",
              "\n",
              "    [theme=dark] .colab-df-convert {\n",
              "      background-color: #3B4455;\n",
              "      fill: #D2E3FC;\n",
              "    }\n",
              "\n",
              "    [theme=dark] .colab-df-convert:hover {\n",
              "      background-color: #434B5C;\n",
              "      box-shadow: 0px 1px 3px 1px rgba(0, 0, 0, 0.15);\n",
              "      filter: drop-shadow(0px 1px 2px rgba(0, 0, 0, 0.3));\n",
              "      fill: #FFFFFF;\n",
              "    }\n",
              "  </style>\n",
              "\n",
              "    <script>\n",
              "      const buttonEl =\n",
              "        document.querySelector('#df-04fa7440-8038-4e50-a1b1-8b2cd3801a28 button.colab-df-convert');\n",
              "      buttonEl.style.display =\n",
              "        google.colab.kernel.accessAllowed ? 'block' : 'none';\n",
              "\n",
              "      async function convertToInteractive(key) {\n",
              "        const element = document.querySelector('#df-04fa7440-8038-4e50-a1b1-8b2cd3801a28');\n",
              "        const dataTable =\n",
              "          await google.colab.kernel.invokeFunction('convertToInteractive',\n",
              "                                                    [key], {});\n",
              "        if (!dataTable) return;\n",
              "\n",
              "        const docLinkHtml = 'Like what you see? Visit the ' +\n",
              "          '<a target=\"_blank\" href=https://colab.research.google.com/notebooks/data_table.ipynb>data table notebook</a>'\n",
              "          + ' to learn more about interactive tables.';\n",
              "        element.innerHTML = '';\n",
              "        dataTable['output_type'] = 'display_data';\n",
              "        await google.colab.output.renderOutput(dataTable, element);\n",
              "        const docLink = document.createElement('div');\n",
              "        docLink.innerHTML = docLinkHtml;\n",
              "        element.appendChild(docLink);\n",
              "      }\n",
              "    </script>\n",
              "  </div>\n",
              "\n",
              "\n",
              "<div id=\"df-73083c5d-80cd-43e5-b967-a373f2783016\">\n",
              "  <button class=\"colab-df-quickchart\" onclick=\"quickchart('df-73083c5d-80cd-43e5-b967-a373f2783016')\"\n",
              "            title=\"Suggest charts\"\n",
              "            style=\"display:none;\">\n",
              "\n",
              "<svg xmlns=\"http://www.w3.org/2000/svg\" height=\"24px\"viewBox=\"0 0 24 24\"\n",
              "     width=\"24px\">\n",
              "    <g>\n",
              "        <path d=\"M19 3H5c-1.1 0-2 .9-2 2v14c0 1.1.9 2 2 2h14c1.1 0 2-.9 2-2V5c0-1.1-.9-2-2-2zM9 17H7v-7h2v7zm4 0h-2V7h2v10zm4 0h-2v-4h2v4z\"/>\n",
              "    </g>\n",
              "</svg>\n",
              "  </button>\n",
              "\n",
              "<style>\n",
              "  .colab-df-quickchart {\n",
              "      --bg-color: #E8F0FE;\n",
              "      --fill-color: #1967D2;\n",
              "      --hover-bg-color: #E2EBFA;\n",
              "      --hover-fill-color: #174EA6;\n",
              "      --disabled-fill-color: #AAA;\n",
              "      --disabled-bg-color: #DDD;\n",
              "  }\n",
              "\n",
              "  [theme=dark] .colab-df-quickchart {\n",
              "      --bg-color: #3B4455;\n",
              "      --fill-color: #D2E3FC;\n",
              "      --hover-bg-color: #434B5C;\n",
              "      --hover-fill-color: #FFFFFF;\n",
              "      --disabled-bg-color: #3B4455;\n",
              "      --disabled-fill-color: #666;\n",
              "  }\n",
              "\n",
              "  .colab-df-quickchart {\n",
              "    background-color: var(--bg-color);\n",
              "    border: none;\n",
              "    border-radius: 50%;\n",
              "    cursor: pointer;\n",
              "    display: none;\n",
              "    fill: var(--fill-color);\n",
              "    height: 32px;\n",
              "    padding: 0;\n",
              "    width: 32px;\n",
              "  }\n",
              "\n",
              "  .colab-df-quickchart:hover {\n",
              "    background-color: var(--hover-bg-color);\n",
              "    box-shadow: 0 1px 2px rgba(60, 64, 67, 0.3), 0 1px 3px 1px rgba(60, 64, 67, 0.15);\n",
              "    fill: var(--button-hover-fill-color);\n",
              "  }\n",
              "\n",
              "  .colab-df-quickchart-complete:disabled,\n",
              "  .colab-df-quickchart-complete:disabled:hover {\n",
              "    background-color: var(--disabled-bg-color);\n",
              "    fill: var(--disabled-fill-color);\n",
              "    box-shadow: none;\n",
              "  }\n",
              "\n",
              "  .colab-df-spinner {\n",
              "    border: 2px solid var(--fill-color);\n",
              "    border-color: transparent;\n",
              "    border-bottom-color: var(--fill-color);\n",
              "    animation:\n",
              "      spin 1s steps(1) infinite;\n",
              "  }\n",
              "\n",
              "  @keyframes spin {\n",
              "    0% {\n",
              "      border-color: transparent;\n",
              "      border-bottom-color: var(--fill-color);\n",
              "      border-left-color: var(--fill-color);\n",
              "    }\n",
              "    20% {\n",
              "      border-color: transparent;\n",
              "      border-left-color: var(--fill-color);\n",
              "      border-top-color: var(--fill-color);\n",
              "    }\n",
              "    30% {\n",
              "      border-color: transparent;\n",
              "      border-left-color: var(--fill-color);\n",
              "      border-top-color: var(--fill-color);\n",
              "      border-right-color: var(--fill-color);\n",
              "    }\n",
              "    40% {\n",
              "      border-color: transparent;\n",
              "      border-right-color: var(--fill-color);\n",
              "      border-top-color: var(--fill-color);\n",
              "    }\n",
              "    60% {\n",
              "      border-color: transparent;\n",
              "      border-right-color: var(--fill-color);\n",
              "    }\n",
              "    80% {\n",
              "      border-color: transparent;\n",
              "      border-right-color: var(--fill-color);\n",
              "      border-bottom-color: var(--fill-color);\n",
              "    }\n",
              "    90% {\n",
              "      border-color: transparent;\n",
              "      border-bottom-color: var(--fill-color);\n",
              "    }\n",
              "  }\n",
              "</style>\n",
              "\n",
              "  <script>\n",
              "    async function quickchart(key) {\n",
              "      const quickchartButtonEl =\n",
              "        document.querySelector('#' + key + ' button');\n",
              "      quickchartButtonEl.disabled = true;  // To prevent multiple clicks.\n",
              "      quickchartButtonEl.classList.add('colab-df-spinner');\n",
              "      try {\n",
              "        const charts = await google.colab.kernel.invokeFunction(\n",
              "            'suggestCharts', [key], {});\n",
              "      } catch (error) {\n",
              "        console.error('Error during call to suggestCharts:', error);\n",
              "      }\n",
              "      quickchartButtonEl.classList.remove('colab-df-spinner');\n",
              "      quickchartButtonEl.classList.add('colab-df-quickchart-complete');\n",
              "    }\n",
              "    (() => {\n",
              "      let quickchartButtonEl =\n",
              "        document.querySelector('#df-73083c5d-80cd-43e5-b967-a373f2783016 button');\n",
              "      quickchartButtonEl.style.display =\n",
              "        google.colab.kernel.accessAllowed ? 'block' : 'none';\n",
              "    })();\n",
              "  </script>\n",
              "</div>\n",
              "\n",
              "  <div id=\"id_61c7171c-0f8e-4ad1-af37-3e6a9eb276ef\">\n",
              "    <style>\n",
              "      .colab-df-generate {\n",
              "        background-color: #E8F0FE;\n",
              "        border: none;\n",
              "        border-radius: 50%;\n",
              "        cursor: pointer;\n",
              "        display: none;\n",
              "        fill: #1967D2;\n",
              "        height: 32px;\n",
              "        padding: 0 0 0 0;\n",
              "        width: 32px;\n",
              "      }\n",
              "\n",
              "      .colab-df-generate:hover {\n",
              "        background-color: #E2EBFA;\n",
              "        box-shadow: 0px 1px 2px rgba(60, 64, 67, 0.3), 0px 1px 3px 1px rgba(60, 64, 67, 0.15);\n",
              "        fill: #174EA6;\n",
              "      }\n",
              "\n",
              "      [theme=dark] .colab-df-generate {\n",
              "        background-color: #3B4455;\n",
              "        fill: #D2E3FC;\n",
              "      }\n",
              "\n",
              "      [theme=dark] .colab-df-generate:hover {\n",
              "        background-color: #434B5C;\n",
              "        box-shadow: 0px 1px 3px 1px rgba(0, 0, 0, 0.15);\n",
              "        filter: drop-shadow(0px 1px 2px rgba(0, 0, 0, 0.3));\n",
              "        fill: #FFFFFF;\n",
              "      }\n",
              "    </style>\n",
              "    <button class=\"colab-df-generate\" onclick=\"generateWithVariable('manifest')\"\n",
              "            title=\"Generate code using this dataframe.\"\n",
              "            style=\"display:none;\">\n",
              "\n",
              "  <svg xmlns=\"http://www.w3.org/2000/svg\" height=\"24px\"viewBox=\"0 0 24 24\"\n",
              "       width=\"24px\">\n",
              "    <path d=\"M7,19H8.4L18.45,9,17,7.55,7,17.6ZM5,21V16.75L18.45,3.32a2,2,0,0,1,2.83,0l1.4,1.43a1.91,1.91,0,0,1,.58,1.4,1.91,1.91,0,0,1-.58,1.4L9.25,21ZM18.45,9,17,7.55Zm-12,3A5.31,5.31,0,0,0,4.9,8.1,5.31,5.31,0,0,0,1,6.5,5.31,5.31,0,0,0,4.9,4.9,5.31,5.31,0,0,0,6.5,1,5.31,5.31,0,0,0,8.1,4.9,5.31,5.31,0,0,0,12,6.5,5.46,5.46,0,0,0,6.5,12Z\"/>\n",
              "  </svg>\n",
              "    </button>\n",
              "    <script>\n",
              "      (() => {\n",
              "      const buttonEl =\n",
              "        document.querySelector('#id_61c7171c-0f8e-4ad1-af37-3e6a9eb276ef button.colab-df-generate');\n",
              "      buttonEl.style.display =\n",
              "        google.colab.kernel.accessAllowed ? 'block' : 'none';\n",
              "\n",
              "      buttonEl.onclick = () => {\n",
              "        google.colab.notebook.generateWithVariable('manifest');\n",
              "      }\n",
              "      })();\n",
              "    </script>\n",
              "  </div>\n",
              "\n",
              "    </div>\n",
              "  </div>\n"
            ],
            "application/vnd.google.colaboratory.intrinsic+json": {
              "type": "dataframe",
              "variable_name": "manifest",
              "summary": "{\n  \"name\": \"manifest\",\n  \"rows\": 10,\n  \"fields\": [\n    {\n      \"column\": \"sample-id\",\n      \"properties\": {\n        \"dtype\": \"string\",\n        \"num_unique_values\": 10,\n        \"samples\": [\n          \"ERR1513964\",\n          \"ERR1513870\",\n          \"ERR1514003\"\n        ],\n        \"semantic_type\": \"\",\n        \"description\": \"\"\n      }\n    },\n    {\n      \"column\": \"absolute-filepath\",\n      \"properties\": {\n        \"dtype\": \"string\",\n        \"num_unique_values\": 10,\n        \"samples\": [\n          \"$PWD/data/ERR1513964.fastq.gz\",\n          \"$PWD/data/ERR1513870.fastq.gz\",\n          \"$PWD/data/ERR1514003.fastq.gz\"\n        ],\n        \"semantic_type\": \"\",\n        \"description\": \"\"\n      }\n    }\n  ]\n}"
            }
          },
          "metadata": {},
          "execution_count": 20
        }
      ],
      "source": [
        "import pandas as pd\n",
        "manifest = pd.read_csv('data/manifest.tsv', sep = '\\t')\n",
        "manifest"
      ]
    },
    {
      "cell_type": "markdown",
      "metadata": {
        "id": "vAIoc31bgTY_"
      },
      "source": [
        "We can also check out the metadata file, which will give us more context on our samples 🔬"
      ]
    },
    {
      "cell_type": "code",
      "execution_count": 8,
      "metadata": {
        "id": "sAfnoRnxgZOO",
        "scrolled": true,
        "colab": {
          "base_uri": "https://localhost:8080/",
          "height": 712
        },
        "outputId": "25ad5351-711f-41a9-82e8-fa6acec4406e"
      },
      "outputs": [
        {
          "output_type": "execute_result",
          "data": {
            "text/plain": [
              "           id parkinson_disease     sex   age    bmi  stool_travel_time  \\\n",
              "0  ERR1513684               Yes    male  58.0  25.33                6.0   \n",
              "1  ERR1513701               Yes    male  78.0  18.99                2.0   \n",
              "2  ERR1513703               Yes  female  53.0  27.92                4.0   \n",
              "3  ERR1513777                No  female  62.0  22.96                1.0   \n",
              "4  ERR1513870               Yes    male  70.0  25.68                8.0   \n",
              "5  ERR1513889               Yes    male  78.0  30.51                3.0   \n",
              "6  ERR1513961                No  female  67.0  24.48                2.0   \n",
              "7  ERR1513964                No  female  69.0  33.47                4.0   \n",
              "8  ERR1513983                No  female  72.0  25.84                2.0   \n",
              "9  ERR1514003                No    male  63.0  31.29                3.0   \n",
              "\n",
              "      location anticholinergic carbidopa_levodopa comt_inhibitor  \\\n",
              "0  Atlanta, GA               N                  Y              N   \n",
              "1  Atlanta, GA               N                  Y              N   \n",
              "2  Atlanta, GA               N                  Y              N   \n",
              "3   Albany, NY               N                  N              N   \n",
              "4  Seattle, WA               N                  Y              N   \n",
              "5  Seattle, WA               N                  Y              N   \n",
              "6  Seattle, WA               N                  N              N   \n",
              "7  Seattle, WA               N                  N              N   \n",
              "8  Seattle, WA               N                  N              N   \n",
              "9  Seattle, WA               N                  N              N   \n",
              "\n",
              "  p3m_antibiotics_bool p3m_constipation fruits_or_vegetables  \\\n",
              "0                  Yes              Yes  At least once a day   \n",
              "1                   No               No     Few times a week   \n",
              "2                  Yes               No  At least once a day   \n",
              "3                   No               No  At least once a day   \n",
              "4                  Yes              Yes     Few times a week   \n",
              "5                   No               No  At least once a day   \n",
              "6                  Yes               No  At least once a day   \n",
              "7                   No               No  At least once a day   \n",
              "8                   No               No  At least once a day   \n",
              "9                   No               No  At least once a day   \n",
              "\n",
              "                grains  \n",
              "0  At least once a day  \n",
              "1  At least once a day  \n",
              "2  At least once a day  \n",
              "3  At least once a day  \n",
              "4  At least once a day  \n",
              "5     Few times a week  \n",
              "6  At least once a day  \n",
              "7     Few times a week  \n",
              "8  At least once a day  \n",
              "9                    N  "
            ],
            "text/html": [
              "\n",
              "  <div id=\"df-70bc3e1f-3806-4e9d-b18a-28dede3b7127\" class=\"colab-df-container\">\n",
              "    <div>\n",
              "<style scoped>\n",
              "    .dataframe tbody tr th:only-of-type {\n",
              "        vertical-align: middle;\n",
              "    }\n",
              "\n",
              "    .dataframe tbody tr th {\n",
              "        vertical-align: top;\n",
              "    }\n",
              "\n",
              "    .dataframe thead th {\n",
              "        text-align: right;\n",
              "    }\n",
              "</style>\n",
              "<table border=\"1\" class=\"dataframe\">\n",
              "  <thead>\n",
              "    <tr style=\"text-align: right;\">\n",
              "      <th></th>\n",
              "      <th>id</th>\n",
              "      <th>parkinson_disease</th>\n",
              "      <th>sex</th>\n",
              "      <th>age</th>\n",
              "      <th>bmi</th>\n",
              "      <th>stool_travel_time</th>\n",
              "      <th>location</th>\n",
              "      <th>anticholinergic</th>\n",
              "      <th>carbidopa_levodopa</th>\n",
              "      <th>comt_inhibitor</th>\n",
              "      <th>p3m_antibiotics_bool</th>\n",
              "      <th>p3m_constipation</th>\n",
              "      <th>fruits_or_vegetables</th>\n",
              "      <th>grains</th>\n",
              "    </tr>\n",
              "  </thead>\n",
              "  <tbody>\n",
              "    <tr>\n",
              "      <th>0</th>\n",
              "      <td>ERR1513684</td>\n",
              "      <td>Yes</td>\n",
              "      <td>male</td>\n",
              "      <td>58.0</td>\n",
              "      <td>25.33</td>\n",
              "      <td>6.0</td>\n",
              "      <td>Atlanta, GA</td>\n",
              "      <td>N</td>\n",
              "      <td>Y</td>\n",
              "      <td>N</td>\n",
              "      <td>Yes</td>\n",
              "      <td>Yes</td>\n",
              "      <td>At least once a day</td>\n",
              "      <td>At least once a day</td>\n",
              "    </tr>\n",
              "    <tr>\n",
              "      <th>1</th>\n",
              "      <td>ERR1513701</td>\n",
              "      <td>Yes</td>\n",
              "      <td>male</td>\n",
              "      <td>78.0</td>\n",
              "      <td>18.99</td>\n",
              "      <td>2.0</td>\n",
              "      <td>Atlanta, GA</td>\n",
              "      <td>N</td>\n",
              "      <td>Y</td>\n",
              "      <td>N</td>\n",
              "      <td>No</td>\n",
              "      <td>No</td>\n",
              "      <td>Few times a week</td>\n",
              "      <td>At least once a day</td>\n",
              "    </tr>\n",
              "    <tr>\n",
              "      <th>2</th>\n",
              "      <td>ERR1513703</td>\n",
              "      <td>Yes</td>\n",
              "      <td>female</td>\n",
              "      <td>53.0</td>\n",
              "      <td>27.92</td>\n",
              "      <td>4.0</td>\n",
              "      <td>Atlanta, GA</td>\n",
              "      <td>N</td>\n",
              "      <td>Y</td>\n",
              "      <td>N</td>\n",
              "      <td>Yes</td>\n",
              "      <td>No</td>\n",
              "      <td>At least once a day</td>\n",
              "      <td>At least once a day</td>\n",
              "    </tr>\n",
              "    <tr>\n",
              "      <th>3</th>\n",
              "      <td>ERR1513777</td>\n",
              "      <td>No</td>\n",
              "      <td>female</td>\n",
              "      <td>62.0</td>\n",
              "      <td>22.96</td>\n",
              "      <td>1.0</td>\n",
              "      <td>Albany, NY</td>\n",
              "      <td>N</td>\n",
              "      <td>N</td>\n",
              "      <td>N</td>\n",
              "      <td>No</td>\n",
              "      <td>No</td>\n",
              "      <td>At least once a day</td>\n",
              "      <td>At least once a day</td>\n",
              "    </tr>\n",
              "    <tr>\n",
              "      <th>4</th>\n",
              "      <td>ERR1513870</td>\n",
              "      <td>Yes</td>\n",
              "      <td>male</td>\n",
              "      <td>70.0</td>\n",
              "      <td>25.68</td>\n",
              "      <td>8.0</td>\n",
              "      <td>Seattle, WA</td>\n",
              "      <td>N</td>\n",
              "      <td>Y</td>\n",
              "      <td>N</td>\n",
              "      <td>Yes</td>\n",
              "      <td>Yes</td>\n",
              "      <td>Few times a week</td>\n",
              "      <td>At least once a day</td>\n",
              "    </tr>\n",
              "    <tr>\n",
              "      <th>5</th>\n",
              "      <td>ERR1513889</td>\n",
              "      <td>Yes</td>\n",
              "      <td>male</td>\n",
              "      <td>78.0</td>\n",
              "      <td>30.51</td>\n",
              "      <td>3.0</td>\n",
              "      <td>Seattle, WA</td>\n",
              "      <td>N</td>\n",
              "      <td>Y</td>\n",
              "      <td>N</td>\n",
              "      <td>No</td>\n",
              "      <td>No</td>\n",
              "      <td>At least once a day</td>\n",
              "      <td>Few times a week</td>\n",
              "    </tr>\n",
              "    <tr>\n",
              "      <th>6</th>\n",
              "      <td>ERR1513961</td>\n",
              "      <td>No</td>\n",
              "      <td>female</td>\n",
              "      <td>67.0</td>\n",
              "      <td>24.48</td>\n",
              "      <td>2.0</td>\n",
              "      <td>Seattle, WA</td>\n",
              "      <td>N</td>\n",
              "      <td>N</td>\n",
              "      <td>N</td>\n",
              "      <td>Yes</td>\n",
              "      <td>No</td>\n",
              "      <td>At least once a day</td>\n",
              "      <td>At least once a day</td>\n",
              "    </tr>\n",
              "    <tr>\n",
              "      <th>7</th>\n",
              "      <td>ERR1513964</td>\n",
              "      <td>No</td>\n",
              "      <td>female</td>\n",
              "      <td>69.0</td>\n",
              "      <td>33.47</td>\n",
              "      <td>4.0</td>\n",
              "      <td>Seattle, WA</td>\n",
              "      <td>N</td>\n",
              "      <td>N</td>\n",
              "      <td>N</td>\n",
              "      <td>No</td>\n",
              "      <td>No</td>\n",
              "      <td>At least once a day</td>\n",
              "      <td>Few times a week</td>\n",
              "    </tr>\n",
              "    <tr>\n",
              "      <th>8</th>\n",
              "      <td>ERR1513983</td>\n",
              "      <td>No</td>\n",
              "      <td>female</td>\n",
              "      <td>72.0</td>\n",
              "      <td>25.84</td>\n",
              "      <td>2.0</td>\n",
              "      <td>Seattle, WA</td>\n",
              "      <td>N</td>\n",
              "      <td>N</td>\n",
              "      <td>N</td>\n",
              "      <td>No</td>\n",
              "      <td>No</td>\n",
              "      <td>At least once a day</td>\n",
              "      <td>At least once a day</td>\n",
              "    </tr>\n",
              "    <tr>\n",
              "      <th>9</th>\n",
              "      <td>ERR1514003</td>\n",
              "      <td>No</td>\n",
              "      <td>male</td>\n",
              "      <td>63.0</td>\n",
              "      <td>31.29</td>\n",
              "      <td>3.0</td>\n",
              "      <td>Seattle, WA</td>\n",
              "      <td>N</td>\n",
              "      <td>N</td>\n",
              "      <td>N</td>\n",
              "      <td>No</td>\n",
              "      <td>No</td>\n",
              "      <td>At least once a day</td>\n",
              "      <td>N</td>\n",
              "    </tr>\n",
              "  </tbody>\n",
              "</table>\n",
              "</div>\n",
              "    <div class=\"colab-df-buttons\">\n",
              "\n",
              "  <div class=\"colab-df-container\">\n",
              "    <button class=\"colab-df-convert\" onclick=\"convertToInteractive('df-70bc3e1f-3806-4e9d-b18a-28dede3b7127')\"\n",
              "            title=\"Convert this dataframe to an interactive table.\"\n",
              "            style=\"display:none;\">\n",
              "\n",
              "  <svg xmlns=\"http://www.w3.org/2000/svg\" height=\"24px\" viewBox=\"0 -960 960 960\">\n",
              "    <path d=\"M120-120v-720h720v720H120Zm60-500h600v-160H180v160Zm220 220h160v-160H400v160Zm0 220h160v-160H400v160ZM180-400h160v-160H180v160Zm440 0h160v-160H620v160ZM180-180h160v-160H180v160Zm440 0h160v-160H620v160Z\"/>\n",
              "  </svg>\n",
              "    </button>\n",
              "\n",
              "  <style>\n",
              "    .colab-df-container {\n",
              "      display:flex;\n",
              "      gap: 12px;\n",
              "    }\n",
              "\n",
              "    .colab-df-convert {\n",
              "      background-color: #E8F0FE;\n",
              "      border: none;\n",
              "      border-radius: 50%;\n",
              "      cursor: pointer;\n",
              "      display: none;\n",
              "      fill: #1967D2;\n",
              "      height: 32px;\n",
              "      padding: 0 0 0 0;\n",
              "      width: 32px;\n",
              "    }\n",
              "\n",
              "    .colab-df-convert:hover {\n",
              "      background-color: #E2EBFA;\n",
              "      box-shadow: 0px 1px 2px rgba(60, 64, 67, 0.3), 0px 1px 3px 1px rgba(60, 64, 67, 0.15);\n",
              "      fill: #174EA6;\n",
              "    }\n",
              "\n",
              "    .colab-df-buttons div {\n",
              "      margin-bottom: 4px;\n",
              "    }\n",
              "\n",
              "    [theme=dark] .colab-df-convert {\n",
              "      background-color: #3B4455;\n",
              "      fill: #D2E3FC;\n",
              "    }\n",
              "\n",
              "    [theme=dark] .colab-df-convert:hover {\n",
              "      background-color: #434B5C;\n",
              "      box-shadow: 0px 1px 3px 1px rgba(0, 0, 0, 0.15);\n",
              "      filter: drop-shadow(0px 1px 2px rgba(0, 0, 0, 0.3));\n",
              "      fill: #FFFFFF;\n",
              "    }\n",
              "  </style>\n",
              "\n",
              "    <script>\n",
              "      const buttonEl =\n",
              "        document.querySelector('#df-70bc3e1f-3806-4e9d-b18a-28dede3b7127 button.colab-df-convert');\n",
              "      buttonEl.style.display =\n",
              "        google.colab.kernel.accessAllowed ? 'block' : 'none';\n",
              "\n",
              "      async function convertToInteractive(key) {\n",
              "        const element = document.querySelector('#df-70bc3e1f-3806-4e9d-b18a-28dede3b7127');\n",
              "        const dataTable =\n",
              "          await google.colab.kernel.invokeFunction('convertToInteractive',\n",
              "                                                    [key], {});\n",
              "        if (!dataTable) return;\n",
              "\n",
              "        const docLinkHtml = 'Like what you see? Visit the ' +\n",
              "          '<a target=\"_blank\" href=https://colab.research.google.com/notebooks/data_table.ipynb>data table notebook</a>'\n",
              "          + ' to learn more about interactive tables.';\n",
              "        element.innerHTML = '';\n",
              "        dataTable['output_type'] = 'display_data';\n",
              "        await google.colab.output.renderOutput(dataTable, element);\n",
              "        const docLink = document.createElement('div');\n",
              "        docLink.innerHTML = docLinkHtml;\n",
              "        element.appendChild(docLink);\n",
              "      }\n",
              "    </script>\n",
              "  </div>\n",
              "\n",
              "\n",
              "<div id=\"df-bff8eb37-81e7-4252-87ca-293132ad0ed9\">\n",
              "  <button class=\"colab-df-quickchart\" onclick=\"quickchart('df-bff8eb37-81e7-4252-87ca-293132ad0ed9')\"\n",
              "            title=\"Suggest charts\"\n",
              "            style=\"display:none;\">\n",
              "\n",
              "<svg xmlns=\"http://www.w3.org/2000/svg\" height=\"24px\"viewBox=\"0 0 24 24\"\n",
              "     width=\"24px\">\n",
              "    <g>\n",
              "        <path d=\"M19 3H5c-1.1 0-2 .9-2 2v14c0 1.1.9 2 2 2h14c1.1 0 2-.9 2-2V5c0-1.1-.9-2-2-2zM9 17H7v-7h2v7zm4 0h-2V7h2v10zm4 0h-2v-4h2v4z\"/>\n",
              "    </g>\n",
              "</svg>\n",
              "  </button>\n",
              "\n",
              "<style>\n",
              "  .colab-df-quickchart {\n",
              "      --bg-color: #E8F0FE;\n",
              "      --fill-color: #1967D2;\n",
              "      --hover-bg-color: #E2EBFA;\n",
              "      --hover-fill-color: #174EA6;\n",
              "      --disabled-fill-color: #AAA;\n",
              "      --disabled-bg-color: #DDD;\n",
              "  }\n",
              "\n",
              "  [theme=dark] .colab-df-quickchart {\n",
              "      --bg-color: #3B4455;\n",
              "      --fill-color: #D2E3FC;\n",
              "      --hover-bg-color: #434B5C;\n",
              "      --hover-fill-color: #FFFFFF;\n",
              "      --disabled-bg-color: #3B4455;\n",
              "      --disabled-fill-color: #666;\n",
              "  }\n",
              "\n",
              "  .colab-df-quickchart {\n",
              "    background-color: var(--bg-color);\n",
              "    border: none;\n",
              "    border-radius: 50%;\n",
              "    cursor: pointer;\n",
              "    display: none;\n",
              "    fill: var(--fill-color);\n",
              "    height: 32px;\n",
              "    padding: 0;\n",
              "    width: 32px;\n",
              "  }\n",
              "\n",
              "  .colab-df-quickchart:hover {\n",
              "    background-color: var(--hover-bg-color);\n",
              "    box-shadow: 0 1px 2px rgba(60, 64, 67, 0.3), 0 1px 3px 1px rgba(60, 64, 67, 0.15);\n",
              "    fill: var(--button-hover-fill-color);\n",
              "  }\n",
              "\n",
              "  .colab-df-quickchart-complete:disabled,\n",
              "  .colab-df-quickchart-complete:disabled:hover {\n",
              "    background-color: var(--disabled-bg-color);\n",
              "    fill: var(--disabled-fill-color);\n",
              "    box-shadow: none;\n",
              "  }\n",
              "\n",
              "  .colab-df-spinner {\n",
              "    border: 2px solid var(--fill-color);\n",
              "    border-color: transparent;\n",
              "    border-bottom-color: var(--fill-color);\n",
              "    animation:\n",
              "      spin 1s steps(1) infinite;\n",
              "  }\n",
              "\n",
              "  @keyframes spin {\n",
              "    0% {\n",
              "      border-color: transparent;\n",
              "      border-bottom-color: var(--fill-color);\n",
              "      border-left-color: var(--fill-color);\n",
              "    }\n",
              "    20% {\n",
              "      border-color: transparent;\n",
              "      border-left-color: var(--fill-color);\n",
              "      border-top-color: var(--fill-color);\n",
              "    }\n",
              "    30% {\n",
              "      border-color: transparent;\n",
              "      border-left-color: var(--fill-color);\n",
              "      border-top-color: var(--fill-color);\n",
              "      border-right-color: var(--fill-color);\n",
              "    }\n",
              "    40% {\n",
              "      border-color: transparent;\n",
              "      border-right-color: var(--fill-color);\n",
              "      border-top-color: var(--fill-color);\n",
              "    }\n",
              "    60% {\n",
              "      border-color: transparent;\n",
              "      border-right-color: var(--fill-color);\n",
              "    }\n",
              "    80% {\n",
              "      border-color: transparent;\n",
              "      border-right-color: var(--fill-color);\n",
              "      border-bottom-color: var(--fill-color);\n",
              "    }\n",
              "    90% {\n",
              "      border-color: transparent;\n",
              "      border-bottom-color: var(--fill-color);\n",
              "    }\n",
              "  }\n",
              "</style>\n",
              "\n",
              "  <script>\n",
              "    async function quickchart(key) {\n",
              "      const quickchartButtonEl =\n",
              "        document.querySelector('#' + key + ' button');\n",
              "      quickchartButtonEl.disabled = true;  // To prevent multiple clicks.\n",
              "      quickchartButtonEl.classList.add('colab-df-spinner');\n",
              "      try {\n",
              "        const charts = await google.colab.kernel.invokeFunction(\n",
              "            'suggestCharts', [key], {});\n",
              "      } catch (error) {\n",
              "        console.error('Error during call to suggestCharts:', error);\n",
              "      }\n",
              "      quickchartButtonEl.classList.remove('colab-df-spinner');\n",
              "      quickchartButtonEl.classList.add('colab-df-quickchart-complete');\n",
              "    }\n",
              "    (() => {\n",
              "      let quickchartButtonEl =\n",
              "        document.querySelector('#df-bff8eb37-81e7-4252-87ca-293132ad0ed9 button');\n",
              "      quickchartButtonEl.style.display =\n",
              "        google.colab.kernel.accessAllowed ? 'block' : 'none';\n",
              "    })();\n",
              "  </script>\n",
              "</div>\n",
              "\n",
              "  <div id=\"id_69a0c0e6-ddbc-49de-8f5e-93c057cdd93e\">\n",
              "    <style>\n",
              "      .colab-df-generate {\n",
              "        background-color: #E8F0FE;\n",
              "        border: none;\n",
              "        border-radius: 50%;\n",
              "        cursor: pointer;\n",
              "        display: none;\n",
              "        fill: #1967D2;\n",
              "        height: 32px;\n",
              "        padding: 0 0 0 0;\n",
              "        width: 32px;\n",
              "      }\n",
              "\n",
              "      .colab-df-generate:hover {\n",
              "        background-color: #E2EBFA;\n",
              "        box-shadow: 0px 1px 2px rgba(60, 64, 67, 0.3), 0px 1px 3px 1px rgba(60, 64, 67, 0.15);\n",
              "        fill: #174EA6;\n",
              "      }\n",
              "\n",
              "      [theme=dark] .colab-df-generate {\n",
              "        background-color: #3B4455;\n",
              "        fill: #D2E3FC;\n",
              "      }\n",
              "\n",
              "      [theme=dark] .colab-df-generate:hover {\n",
              "        background-color: #434B5C;\n",
              "        box-shadow: 0px 1px 3px 1px rgba(0, 0, 0, 0.15);\n",
              "        filter: drop-shadow(0px 1px 2px rgba(0, 0, 0, 0.3));\n",
              "        fill: #FFFFFF;\n",
              "      }\n",
              "    </style>\n",
              "    <button class=\"colab-df-generate\" onclick=\"generateWithVariable('metadata')\"\n",
              "            title=\"Generate code using this dataframe.\"\n",
              "            style=\"display:none;\">\n",
              "\n",
              "  <svg xmlns=\"http://www.w3.org/2000/svg\" height=\"24px\"viewBox=\"0 0 24 24\"\n",
              "       width=\"24px\">\n",
              "    <path d=\"M7,19H8.4L18.45,9,17,7.55,7,17.6ZM5,21V16.75L18.45,3.32a2,2,0,0,1,2.83,0l1.4,1.43a1.91,1.91,0,0,1,.58,1.4,1.91,1.91,0,0,1-.58,1.4L9.25,21ZM18.45,9,17,7.55Zm-12,3A5.31,5.31,0,0,0,4.9,8.1,5.31,5.31,0,0,0,1,6.5,5.31,5.31,0,0,0,4.9,4.9,5.31,5.31,0,0,0,6.5,1,5.31,5.31,0,0,0,8.1,4.9,5.31,5.31,0,0,0,12,6.5,5.46,5.46,0,0,0,6.5,12Z\"/>\n",
              "  </svg>\n",
              "    </button>\n",
              "    <script>\n",
              "      (() => {\n",
              "      const buttonEl =\n",
              "        document.querySelector('#id_69a0c0e6-ddbc-49de-8f5e-93c057cdd93e button.colab-df-generate');\n",
              "      buttonEl.style.display =\n",
              "        google.colab.kernel.accessAllowed ? 'block' : 'none';\n",
              "\n",
              "      buttonEl.onclick = () => {\n",
              "        google.colab.notebook.generateWithVariable('metadata');\n",
              "      }\n",
              "      })();\n",
              "    </script>\n",
              "  </div>\n",
              "\n",
              "    </div>\n",
              "  </div>\n"
            ],
            "application/vnd.google.colaboratory.intrinsic+json": {
              "type": "dataframe",
              "variable_name": "metadata",
              "summary": "{\n  \"name\": \"metadata\",\n  \"rows\": 10,\n  \"fields\": [\n    {\n      \"column\": \"id\",\n      \"properties\": {\n        \"dtype\": \"string\",\n        \"num_unique_values\": 10,\n        \"samples\": [\n          \"ERR1513983\",\n          \"ERR1513701\",\n          \"ERR1513889\"\n        ],\n        \"semantic_type\": \"\",\n        \"description\": \"\"\n      }\n    },\n    {\n      \"column\": \"parkinson_disease\",\n      \"properties\": {\n        \"dtype\": \"category\",\n        \"num_unique_values\": 2,\n        \"samples\": [\n          \"No\",\n          \"Yes\"\n        ],\n        \"semantic_type\": \"\",\n        \"description\": \"\"\n      }\n    },\n    {\n      \"column\": \"sex\",\n      \"properties\": {\n        \"dtype\": \"category\",\n        \"num_unique_values\": 2,\n        \"samples\": [\n          \"female\",\n          \"male\"\n        ],\n        \"semantic_type\": \"\",\n        \"description\": \"\"\n      }\n    },\n    {\n      \"column\": \"age\",\n      \"properties\": {\n        \"dtype\": \"number\",\n        \"std\": 8.151346173758322,\n        \"min\": 53.0,\n        \"max\": 78.0,\n        \"num_unique_values\": 9,\n        \"samples\": [\n          72.0,\n          78.0\n        ],\n        \"semantic_type\": \"\",\n        \"description\": \"\"\n      }\n    },\n    {\n      \"column\": \"bmi\",\n      \"properties\": {\n        \"dtype\": \"number\",\n        \"std\": 4.280373945242532,\n        \"min\": 18.99,\n        \"max\": 33.47,\n        \"num_unique_values\": 10,\n        \"samples\": [\n          25.84,\n          18.99\n        ],\n        \"semantic_type\": \"\",\n        \"description\": \"\"\n      }\n    },\n    {\n      \"column\": \"stool_travel_time\",\n      \"properties\": {\n        \"dtype\": \"number\",\n        \"std\": 2.1213203435596424,\n        \"min\": 1.0,\n        \"max\": 8.0,\n        \"num_unique_values\": 6,\n        \"samples\": [\n          6.0,\n          2.0\n        ],\n        \"semantic_type\": \"\",\n        \"description\": \"\"\n      }\n    },\n    {\n      \"column\": \"location\",\n      \"properties\": {\n        \"dtype\": \"category\",\n        \"num_unique_values\": 3,\n        \"samples\": [\n          \"Atlanta, GA\",\n          \"Albany, NY\"\n        ],\n        \"semantic_type\": \"\",\n        \"description\": \"\"\n      }\n    },\n    {\n      \"column\": \"anticholinergic\",\n      \"properties\": {\n        \"dtype\": \"category\",\n        \"num_unique_values\": 1,\n        \"samples\": [\n          \"N\"\n        ],\n        \"semantic_type\": \"\",\n        \"description\": \"\"\n      }\n    },\n    {\n      \"column\": \"carbidopa_levodopa\",\n      \"properties\": {\n        \"dtype\": \"category\",\n        \"num_unique_values\": 2,\n        \"samples\": [\n          \"N\"\n        ],\n        \"semantic_type\": \"\",\n        \"description\": \"\"\n      }\n    },\n    {\n      \"column\": \"comt_inhibitor\",\n      \"properties\": {\n        \"dtype\": \"category\",\n        \"num_unique_values\": 1,\n        \"samples\": [\n          \"N\"\n        ],\n        \"semantic_type\": \"\",\n        \"description\": \"\"\n      }\n    },\n    {\n      \"column\": \"p3m_antibiotics_bool\",\n      \"properties\": {\n        \"dtype\": \"category\",\n        \"num_unique_values\": 2,\n        \"samples\": [\n          \"No\"\n        ],\n        \"semantic_type\": \"\",\n        \"description\": \"\"\n      }\n    },\n    {\n      \"column\": \"p3m_constipation\",\n      \"properties\": {\n        \"dtype\": \"category\",\n        \"num_unique_values\": 2,\n        \"samples\": [\n          \"No\"\n        ],\n        \"semantic_type\": \"\",\n        \"description\": \"\"\n      }\n    },\n    {\n      \"column\": \"fruits_or_vegetables\",\n      \"properties\": {\n        \"dtype\": \"category\",\n        \"num_unique_values\": 2,\n        \"samples\": [\n          \"Few times a week\"\n        ],\n        \"semantic_type\": \"\",\n        \"description\": \"\"\n      }\n    },\n    {\n      \"column\": \"grains\",\n      \"properties\": {\n        \"dtype\": \"category\",\n        \"num_unique_values\": 3,\n        \"samples\": [\n          \"At least once a day\"\n        ],\n        \"semantic_type\": \"\",\n        \"description\": \"\"\n      }\n    }\n  ]\n}"
            }
          },
          "metadata": {},
          "execution_count": 8
        }
      ],
      "source": [
        "metadata = pd.read_csv('data/metadata.tsv', sep='\\t')\n",
        "metadata"
      ]
    },
    {
      "cell_type": "markdown",
      "metadata": {
        "id": "_ssDjv0I0fAL"
      },
      "source": [
        "Looks good, all 10 FASTQ files are accounted for, five healthy and five with Parkinson's Disease. We can use the manifest file to import our files into QIIME2."
      ]
    },
    {
      "cell_type": "markdown",
      "metadata": {
        "id": "qc10jMUYsXyh",
        "tags": []
      },
      "source": [
        "## QIIME2 Pipeline"
      ]
    },
    {
      "cell_type": "markdown",
      "metadata": {
        "id": "1-GQhxTs0fAL"
      },
      "source": [
        "Let's remind ourselves what the QIIME2 pipeline will do:\n",
        "![our workflow](https://github.com/Gibbons-Lab/isb_course_2024/raw/main/docs/16S/assets/steps.png)"
      ]
    },
    {
      "cell_type": "markdown",
      "metadata": {
        "id": "HLF-zdrJXq7q"
      },
      "source": [
        "To use sequencing data in QIIME2, we first need to turn the FASTQ files containing our data into QIIME artifacts. Using the manifest we just checked out, let's run our first command:\n",
        "\n",
        "-- as a reminder, adding ```!``` before the command tells the notebook this is a bash command, rather than python."
      ]
    },
    {
      "cell_type": "code",
      "execution_count": 24,
      "metadata": {
        "id": "QmLebzqFX_0N",
        "colab": {
          "base_uri": "https://localhost:8080/"
        },
        "outputId": "022d22f5-5a0e-4b91-c125-2cedc826f03e"
      },
      "outputs": [
        {
          "output_type": "stream",
          "name": "stdout",
          "text": [
            "\u001b[32mImported data/manifest.tsv as SingleEndFastqManifestPhred33V2 to sequences.qza\u001b[0m\n",
            "\u001b[0m"
          ]
        }
      ],
      "source": [
        "!qiime tools import \\\n",
        "  --type 'SampleData[SequencesWithQuality]' \\\n",
        "  --input-path data/manifest.tsv \\\n",
        "  --output-path sequences.qza \\\n",
        "  --input-format SingleEndFastqManifestPhred33V2"
      ]
    },
    {
      "cell_type": "markdown",
      "metadata": {
        "id": "N2Pmtg-aaqvr"
      },
      "source": [
        "Let's take a look a the command. QIIME commands take following format:\n",
        "\n",
        "```\n",
        "qiime plugin action --i-argument1 ... --o-argument2 ...\n",
        "```\n",
        "In the previous command, we are calling the ```tools``` plugin within QIIME2 to import our data. The following arguments designate where the manifest is, as well as where the output should be saved. We also tell QIIME2 what sort of input to expect.\n",
        "\n",
        "Argument types usually begin with a letter denoting their meaning:\n",
        "\n",
        "- `--i-...` = input files\n",
        "- `--o-...` = output files\n",
        "- `--p-...` = parameters\n",
        "- `--m-...` = metadata\n",
        "\n",
        "---"
      ]
    },
    {
      "cell_type": "markdown",
      "metadata": {
        "tags": [],
        "id": "Wb__5zxD0fAM"
      },
      "source": [
        "## Visualizing our Data 🔎\n",
        "\n",
        "Before we move on, let's use QIIME2 to visualize our sequencing data."
      ]
    },
    {
      "cell_type": "code",
      "execution_count": 22,
      "metadata": {
        "id": "nVPsDHTNvNUw",
        "colab": {
          "base_uri": "https://localhost:8080/"
        },
        "outputId": "eb7034d2-910b-4825-f668-18ff83978859"
      },
      "outputs": [
        {
          "output_type": "stream",
          "name": "stdout",
          "text": [
            "\u001b[32mSaved Visualization to: qualities.qzv\u001b[0m\n",
            "\u001b[0m"
          ]
        }
      ],
      "source": [
        "!qiime demux summarize \\\n",
        "--i-data sequences.qza \\\n",
        "--o-visualization qualities.qzv"
      ]
    },
    {
      "cell_type": "markdown",
      "metadata": {
        "id": "o29TMwWOy9L1"
      },
      "source": [
        ".qzv files like the one we just produced are visualization. You can view the plot by downloading the file and opening it using http://view.qiime2.org. To download the file click on the folder symbol to the left, open the `materials` folder, and choose download from the dot menu next to the `qualities.qzv` file.\n",
        "\n",
        "---"
      ]
    },
    {
      "cell_type": "markdown",
      "metadata": {
        "tags": [],
        "id": "va8RVKqP0fAM"
      },
      "source": [
        "## Quality Filtering"
      ]
    },
    {
      "cell_type": "markdown",
      "metadata": {
        "id": "Lxb_lE8l0fAN"
      },
      "source": [
        "\n",
        "Before we can use our sequencing data, we need to \"denoise\" it. To do this, we'll use a plugin called DADA2. This involves three things.\n",
        "\n",
        "1. filter and trim the reads\n",
        "2. find the most likely set of unique sequences in the sample (ASVs)\n",
        "3. remove chimeras\n",
        "4. count the abundances of each ASV\n",
        "\n",
        "\n",
        "This command will take a little time - let's run it, and head back to the presentation to discuss what's happening."
      ]
    },
    {
      "cell_type": "code",
      "execution_count": 23,
      "metadata": {
        "id": "HclmzHqyacLU",
        "colab": {
          "base_uri": "https://localhost:8080/"
        },
        "outputId": "537ecb15-7847-4aa8-f38c-f49a75b8d85b"
      },
      "outputs": [
        {
          "output_type": "stream",
          "name": "stdout",
          "text": [
            "Running external command line application(s). This may print messages to stdout and/or stderr.\n",
            "The command(s) being run are below. These commands cannot be manually re-run as they will depend on temporary files that no longer exist.\n",
            "\n",
            "Command: run_dada.R --input_directory /tmp/qiime2/root/data/a63c9ae0-1ac5-4c21-a99a-46ef3dcb0b43/data --output_path /tmp/tmp88diqg95/output.tsv.biom --output_track /tmp/tmp88diqg95/track.tsv --filtered_directory /tmp/tmp88diqg95 --truncation_length 150 --trim_left 0 --max_expected_errors 2.0 --truncation_quality_score 2 --max_length Inf --pooling_method independent --chimera_method consensus --min_parental_fold 1.0 --allow_one_off False --num_threads 2 --learn_min_reads 1000000 --homopolymer_gap_penalty NULL --band_size 16\n",
            "\n",
            "Warning message:\n",
            "package ‘optparse’ was built under R version 4.2.3 \n",
            "R version 4.2.2 (2022-10-31) \n",
            "Loading required package: Rcpp\n",
            "\u001b[?25hDADA2: 1.26.0 / Rcpp: 1.0.11 / RcppParallel: 5.1.6 \n",
            "\u001b[?25h\u001b[?25h2) Filtering \u001b[?25h\u001b[?25h..........\u001b[?25h\u001b[?25h\u001b[?25h\n",
            "\u001b[?25h\u001b[?25h3) Learning Error Rates\n",
            "\u001b[?25h27056550 total bases in 180377 reads from 10 samples will be used for learning the error rates.\n",
            "\u001b[?25h4) Denoise samples \n",
            "..........\n",
            "\u001b[?25h5) Remove chimeras (method = consensus)\n",
            "\u001b[?25h\u001b[?25h6) Report read numbers through the pipeline\n",
            "\u001b[?25h\u001b[?25h7) Write output\n",
            "\u001b[?25h\u001b[?25h\u001b[?25h\u001b[?25h\u001b[?25h\u001b[?25h\u001b[?25h\u001b[32mSaved FeatureTable[Frequency] to: dada/table.qza\u001b[0m\n",
            "\u001b[32mSaved FeatureData[Sequence] to: dada/representative_sequences.qza\u001b[0m\n",
            "\u001b[32mSaved SampleData[DADA2Stats] to: dada/denoising_stats.qza\u001b[0m\n",
            "\u001b[0m"
          ]
        }
      ],
      "source": [
        "!qiime dada2 denoise-single \\\n",
        "    --i-demultiplexed-seqs sequences.qza \\\n",
        "    --p-trunc-len 150 \\\n",
        "    --p-n-threads 2 \\\n",
        "    --output-dir dada --verbose"
      ]
    },
    {
      "cell_type": "markdown",
      "metadata": {
        "id": "sEs5k1Za-54R"
      },
      "source": [
        "\n",
        "If this step takes too long or fails, you can also copy the results from the treasure chest with the following command."
      ]
    },
    {
      "cell_type": "code",
      "execution_count": null,
      "metadata": {
        "id": "-Sba9UTNeoji"
      },
      "outputs": [],
      "source": [
        "# obscure magic that will only copy if the previous command failed\n",
        "![ -d dada ] || cp -r treasure_chest/dada ."
      ]
    },
    {
      "cell_type": "markdown",
      "metadata": {
        "id": "EhU2aNz4_MDO"
      },
      "source": [
        "Let's check to see how that went. One good way to tell if the identified ASVs are representative of the sample is to see how many reads were maintained throughout the pipeline. Here, the most common issues and solutions are:\n",
        "\n",
        "**Large fraction of reads is lost during merging (only paired-end)**\n",
        "\n",
        "![read overlap](https://gibbons-lab.github.io/isb_course_2024/16S/assets/read_overlap.png)\n",
        "\n",
        "In order to merge ASVs DADA2 uses an overlap of 12 bases between forward and reverse reads by default. Thus, your reads must allow for sufficient overlap *after* trimming. So if your amplified region is 450bp long and you have 2x250bp reads and you trim the last 30 bases of each read, truncating the length to 220bp, the total length of covered sequence is 2x220 = 440 which is shorter than 450bp so there will be no overlap. To solve this issue trim less of the reads or adjust the `--p-min-overlap` parameters to something lower (but not too low).\n",
        "\n",
        "<br>\n",
        "\n",
        "**Most of the reads are lost as chimeric**\n",
        "\n",
        "![read overlap](https://gibbons-lab.github.io/isb_course_2024/16S/assets/chimera.png)\n",
        "\n",
        "This is usually an experimental issue as chimeras are introduced during amplification. If you can adjust your PCR, try to run fewer cycles. Chimeras can also be introduced by incorrect merging. If your minimum overlap is too small ASVs may be merged randomly. Possible fixes are to increase the `--p-min-overlap` parameter or run the analysis on the forward reads only (in our empirical observations, chimeras are more likely to be introduced in the joined reads). *However, losing between 5-25% of your reads to chimeras is normal and does not require any adjustments.*\n",
        "\n",
        "\n",
        "Our denoising stats are contained in an artifact. To convert it to a visualization we can use `qiime metadata tabulate`."
      ]
    },
    {
      "cell_type": "code",
      "execution_count": 25,
      "metadata": {
        "id": "z-iW0UBd_Iiu",
        "colab": {
          "base_uri": "https://localhost:8080/"
        },
        "outputId": "c0c41e43-5e54-4290-89e3-9e12a27701fa"
      },
      "outputs": [
        {
          "output_type": "stream",
          "name": "stdout",
          "text": [
            "\u001b[32mSaved Visualization to: dada/denoising-stats.qzv\u001b[0m\n",
            "\u001b[0m"
          ]
        }
      ],
      "source": [
        "!qiime metadata tabulate \\\n",
        "    --m-input-file dada/denoising_stats.qza \\\n",
        "    --o-visualization dada/denoising-stats.qzv"
      ]
    },
    {
      "cell_type": "markdown",
      "metadata": {
        "id": "TWqEgfzRKA5t"
      },
      "source": [
        "Like before, we can download the .qzv file and visualize the results using the [QIIME2 Viewer]('https://view.qiime2.org/').\n",
        "\n",
        "It's important to understand what this output tells us. For instance, what percent of reads in our data pass the filtering step? What percent of reads were non-chimeric? Differences in these metrics between samples can affect diversity metrics.\n",
        "\n",
        "---"
      ]
    },
    {
      "cell_type": "markdown",
      "metadata": {
        "tags": [],
        "id": "mQKTRQXJ0fAO"
      },
      "source": [
        "## Diversity and Phylogenetics"
      ]
    },
    {
      "cell_type": "markdown",
      "metadata": {
        "id": "uDreq_YROCHQ",
        "tags": []
      },
      "source": [
        "### Introduction to diversity metrics"
      ]
    },
    {
      "cell_type": "markdown",
      "metadata": {
        "id": "C8H3eWWQ0fAO"
      },
      "source": [
        "An important metric to consider when studying microbial ecology is __diversity__. Diversity comes in two flavors: ⍺ (alpha) and β (beta).\n",
        "\n",
        "Alpha diversity is pretty simple - how diverse is a single sample? You might consider measures like richness and evenness.\n",
        "\n",
        "![alpha diversity](https://gibbons-lab.github.io/isb_course_2024/16S/assets/alpha_diversity.png)\n",
        "\n",
        "Beta diversity instead looks at how different two samples are from each other - what taxa are shared, and how their abundances differ.\n",
        "\n",
        "![beta diversity](https://gibbons-lab.github.io/isb_course_2024/16S/assets/beta_diversity.png)"
      ]
    },
    {
      "cell_type": "markdown",
      "metadata": {
        "id": "E5gyRRHy0fAO"
      },
      "source": [
        "I want to note here that we're getting into some analyses that some bioinformaticians may prefer to do in R or Python, outside of the QIIME framework. For example, diversity analyses can be performed using `scikit-bio` in Python or `vegan` in R. In fact, QIIME 2 is using `scikit-bio` and `vegan` under the hood for its diversity calculations! QIIME eliminates the need to manipulate dataframes or do calculations yourself, but it might not have the newest methods!"
      ]
    },
    {
      "cell_type": "markdown",
      "metadata": {
        "tags": [],
        "id": "bPoyj-6c0fAU"
      },
      "source": [
        "### Starting our Tree"
      ]
    },
    {
      "cell_type": "markdown",
      "metadata": {
        "id": "Bw8D0aML0fAU"
      },
      "source": [
        "Let's start by building a phylogenetic tree for our sequences using the following command. This time, we call the _phylogeny_ plugin in QIIME2."
      ]
    },
    {
      "cell_type": "code",
      "execution_count": 26,
      "metadata": {
        "id": "Ym7blrPpKQuJ",
        "colab": {
          "base_uri": "https://localhost:8080/"
        },
        "outputId": "c8b24f51-63af-4f52-b4cb-d1fef9d72a00"
      },
      "outputs": [
        {
          "output_type": "stream",
          "name": "stdout",
          "text": [
            "\u001b[32mSaved FeatureData[AlignedSequence] to: tree/alignment.qza\u001b[0m\n",
            "\u001b[32mSaved FeatureData[AlignedSequence] to: tree/masked_alignment.qza\u001b[0m\n",
            "\u001b[32mSaved Phylogeny[Unrooted] to: tree/tree.qza\u001b[0m\n",
            "\u001b[32mSaved Phylogeny[Rooted] to: tree/rooted_tree.qza\u001b[0m\n",
            "\u001b[0m"
          ]
        }
      ],
      "source": [
        "!qiime phylogeny align-to-tree-mafft-fasttree \\\n",
        "    --i-sequences dada/representative_sequences.qza \\\n",
        "    --output-dir tree"
      ]
    },
    {
      "cell_type": "markdown",
      "metadata": {
        "id": "T1jbqaW1hrmQ"
      },
      "source": [
        "We can create a visualization for the tree using the [empress](https://github.com/biocore/empress) QIIME 2 plugin."
      ]
    },
    {
      "cell_type": "code",
      "execution_count": 28,
      "metadata": {
        "id": "2Ttf0RTyhaPH",
        "colab": {
          "base_uri": "https://localhost:8080/"
        },
        "outputId": "093a0e79-c6e1-4bfb-9804-3676d0a87cce"
      },
      "outputs": [
        {
          "output_type": "stream",
          "name": "stdout",
          "text": [
            "\u001b[32mSaved Visualization to: tree/empress.qzv\u001b[0m\n",
            "\u001b[0m"
          ]
        }
      ],
      "source": [
        "!qiime empress tree-plot \\\n",
        "    --i-tree tree/rooted_tree.qza \\\n",
        "    --o-visualization tree/empress.qzv"
      ]
    },
    {
      "cell_type": "markdown",
      "metadata": {
        "id": "H4fTVpeToufK",
        "tags": []
      },
      "source": [
        "## Calculating Diversity"
      ]
    },
    {
      "cell_type": "markdown",
      "metadata": {
        "id": "dyp1iAoW0fAV"
      },
      "source": [
        "Using the Diversity plugin, we can use our table and tree to calculate several diversity metrics. To account for variations in sampling depth, we'll provide QIIME2 with a cutoff at which rarefy all our samples. Since this randomly selects sequences, your results might look a little different. We'll also pass in our metadata file, so we can keep track how which samples come from each group."
      ]
    },
    {
      "cell_type": "code",
      "execution_count": 29,
      "metadata": {
        "id": "1YqaTqS5huAz",
        "colab": {
          "base_uri": "https://localhost:8080/"
        },
        "outputId": "2c082204-f04f-406d-b6a2-f4f401fef260"
      },
      "outputs": [
        {
          "output_type": "stream",
          "name": "stdout",
          "text": [
            "\u001b[32mSaved FeatureTable[Frequency] to: diversity/rarefied_table.qza\u001b[0m\n",
            "\u001b[32mSaved SampleData[AlphaDiversity] to: diversity/faith_pd_vector.qza\u001b[0m\n",
            "\u001b[32mSaved SampleData[AlphaDiversity] to: diversity/observed_features_vector.qza\u001b[0m\n",
            "\u001b[32mSaved SampleData[AlphaDiversity] to: diversity/shannon_vector.qza\u001b[0m\n",
            "\u001b[32mSaved SampleData[AlphaDiversity] to: diversity/evenness_vector.qza\u001b[0m\n",
            "\u001b[32mSaved DistanceMatrix to: diversity/unweighted_unifrac_distance_matrix.qza\u001b[0m\n",
            "\u001b[32mSaved DistanceMatrix to: diversity/weighted_unifrac_distance_matrix.qza\u001b[0m\n",
            "\u001b[32mSaved DistanceMatrix to: diversity/jaccard_distance_matrix.qza\u001b[0m\n",
            "\u001b[32mSaved DistanceMatrix to: diversity/bray_curtis_distance_matrix.qza\u001b[0m\n",
            "\u001b[32mSaved PCoAResults to: diversity/unweighted_unifrac_pcoa_results.qza\u001b[0m\n",
            "\u001b[32mSaved PCoAResults to: diversity/weighted_unifrac_pcoa_results.qza\u001b[0m\n",
            "\u001b[32mSaved PCoAResults to: diversity/jaccard_pcoa_results.qza\u001b[0m\n",
            "\u001b[32mSaved PCoAResults to: diversity/bray_curtis_pcoa_results.qza\u001b[0m\n",
            "\u001b[32mSaved Visualization to: diversity/unweighted_unifrac_emperor.qzv\u001b[0m\n",
            "\u001b[32mSaved Visualization to: diversity/weighted_unifrac_emperor.qzv\u001b[0m\n",
            "\u001b[32mSaved Visualization to: diversity/jaccard_emperor.qzv\u001b[0m\n",
            "\u001b[32mSaved Visualization to: diversity/bray_curtis_emperor.qzv\u001b[0m\n",
            "\u001b[0m"
          ]
        }
      ],
      "source": [
        "!qiime diversity core-metrics-phylogenetic \\\n",
        "    --i-table dada/table.qza \\\n",
        "    --i-phylogeny tree/rooted_tree.qza \\\n",
        "    --p-sampling-depth 5000 \\\n",
        "    --m-metadata-file data/metadata.tsv \\\n",
        "    --output-dir diversity"
      ]
    },
    {
      "cell_type": "markdown",
      "metadata": {
        "id": "7kiYQC_30fAW"
      },
      "source": [
        "If you open the `diversity` folder, you'll see that we calculated several different diversity metrics. Beta diversity uses a \"distance\" or \"dissimilarity\" matrix, but there are different definitions of distance! Some different types of distance include Bray-Curtis, Jaccard, Unweighted UniFrac, and weighted UniFrac. UniFrac distances are based on phylogeny, while Bray-Curtis and Jaccard are not. For more information on diversity metrics, check out this QIIME [forum post](https://forum.qiime2.org/t/alpha-and-beta-diversity-explanations-and-commands/2282)."
      ]
    },
    {
      "cell_type": "markdown",
      "metadata": {
        "id": "XslTNgFBg5qp",
        "tags": []
      },
      "source": [
        "## Alpha Diversity"
      ]
    },
    {
      "cell_type": "markdown",
      "metadata": {
        "id": "AVT3NfDT0fAW"
      },
      "source": [
        "We get a bunch of outputs from the previous command - measures of both alpha and beta diversity. To start, let's use the Shannon vector in the output directory to create a visualization of alpha diversity across samples. Generally, healthy, long-living individuals have balanced diverse microbiomes. However, this isn't necessarily a direct indicator of health or disease. Let's see how it looks in our samples"
      ]
    },
    {
      "cell_type": "code",
      "execution_count": 30,
      "metadata": {
        "id": "ne2WybKgh6fv",
        "colab": {
          "base_uri": "https://localhost:8080/"
        },
        "outputId": "c4f2a54d-83af-4c37-c51e-e78c652dbaf2"
      },
      "outputs": [
        {
          "output_type": "stream",
          "name": "stdout",
          "text": [
            "\u001b[32mSaved Visualization to: diversity/alpha_groups.qzv\u001b[0m\n",
            "\u001b[0m"
          ]
        }
      ],
      "source": [
        "!qiime diversity alpha-group-significance \\\n",
        "    --i-alpha-diversity diversity/shannon_vector.qza \\\n",
        "    --m-metadata-file data/metadata.tsv \\\n",
        "    --o-visualization diversity/alpha_groups.qzv"
      ]
    },
    {
      "cell_type": "markdown",
      "metadata": {
        "id": "HzF0iOjD0fAW"
      },
      "source": [
        "Like before, we can download the visualization and open it with the QIIME2 viewer."
      ]
    },
    {
      "cell_type": "markdown",
      "metadata": {
        "id": "p3UyMljT0fAW"
      },
      "source": [
        "There doesn't appear to be a difference in Shannon Diversity between Parkinson's Disease patients and healthy controls, but could there be confounding variables? Since this is a cohort study rather than a controlled experiment, we can't control for variables that affect microbiome composition and diversity like antibiotics, diet, other medications, ..., but we can __stratify__ across them. Let's see what happens if we stratify by drug use."
      ]
    },
    {
      "cell_type": "code",
      "execution_count": null,
      "metadata": {
        "id": "L80xAVZH0fAX"
      },
      "outputs": [],
      "source": [
        "!"
      ]
    },
    {
      "cell_type": "markdown",
      "metadata": {
        "tags": [],
        "id": "V5eJbSNo0fAX"
      },
      "source": [
        "## Beta Diversity"
      ]
    },
    {
      "cell_type": "markdown",
      "metadata": {
        "id": "VNmxg2lmjyHE"
      },
      "source": [
        "Let's visualize the beta diversity and see how they separate. For this we'll look at weighted UniFrac. This time, we'll have to download the file ⬅️\n",
        "\n",
        "We can check for 'significant' separation between samples using PERMANOVA. We can do this with the diversity plugin in QIIME2."
      ]
    },
    {
      "cell_type": "code",
      "execution_count": 31,
      "metadata": {
        "id": "WMASNLaWjxwD",
        "colab": {
          "base_uri": "https://localhost:8080/"
        },
        "outputId": "969fdd0d-b65c-4351-8982-86c2972d37b7"
      },
      "outputs": [
        {
          "output_type": "stream",
          "name": "stdout",
          "text": [
            "\u001b[32mSaved Visualization to: diversity/permanova.qzv\u001b[0m\n",
            "\u001b[0m"
          ]
        }
      ],
      "source": [
        "!qiime diversity adonis \\\n",
        "    --i-distance-matrix diversity/weighted_unifrac_distance_matrix.qza \\\n",
        "    --m-metadata-file data/metadata.tsv \\\n",
        "    --p-formula \"parkinson_disease\" \\\n",
        "    --p-n-jobs 2 \\\n",
        "    --o-visualization diversity/permanova.qzv"
      ]
    },
    {
      "cell_type": "markdown",
      "metadata": {
        "id": "L55ZQ0fW0fAX"
      },
      "source": [
        "We can also use PERMANOVA to identify confounders. PERMANOVA tells us how much variance in the community composition is explained by each variable. Common confounders include sex, age, BMI, diet, and antibiotic use. In the original study, authors identified that Parkinson's Disease medications were associated with different microbiome compositions. Let's take a look at these variables."
      ]
    },
    {
      "cell_type": "code",
      "execution_count": 34,
      "metadata": {
        "colab": {
          "base_uri": "https://localhost:8080/"
        },
        "id": "iMMftpPz0fAY",
        "outputId": "e7ae5ab8-aa1b-48e6-92e5-635a68ae1968"
      },
      "outputs": [
        {
          "output_type": "stream",
          "name": "stdout",
          "text": [
            "\u001b[32mSaved Visualization to: diversity/permanova_big.qzv\u001b[0m\n",
            "\u001b[0m"
          ]
        }
      ],
      "source": [
        "!qiime diversity adonis \\\n",
        "    --i-distance-matrix diversity/weighted_unifrac_distance_matrix.qza \\\n",
        "    --m-metadata-file data/metadata.tsv \\\n",
        "    --p-formula \"parkinson_disease + sex + age + location + p3m_antibiotics_bool\" \\\n",
        "    --p-n-jobs 10 \\\n",
        "    --o-visualization diversity/permanova_big.qzv"
      ]
    },
    {
      "cell_type": "markdown",
      "metadata": {
        "id": "AOKKF7080fAY"
      },
      "source": [
        "Before, we did not see a significant p-value for the effect of Parkinson's disease on beta diversity. However, when we add certain covariates, we might find that they were confounding a relationship.\n",
        "\n",
        "However, most of our variance remains unexplained. Microbiome composition is affected by many things, and this is an uncontrolled cohort study, so we would not expect any single variable to explain most of the variance."
      ]
    },
    {
      "cell_type": "markdown",
      "metadata": {
        "tags": [],
        "id": "XorhKjTI0fAY"
      },
      "source": [
        "## Visualizing Beta Diversity Using PCoA"
      ]
    },
    {
      "cell_type": "markdown",
      "metadata": {
        "id": "zyBlNVB40fAY"
      },
      "source": [
        "If we want to __visually__ show this separation between samples, we can't just plot the entire UniFrac distance matrix, because it has 100+ dimensions! Instead, we can use **dimensionality reduction** to \"compress\" our data into a few dimensions that explain most of the variance. There are several types of dimensionality reduction (like UMAP and tSNE), but the preferred method of dimensionality reduction for microbiome communities is Principal Coordinate Analysis (PCoA). This is because PCoA is linear, and thus preserves the global structure of the data and is reproducible."
      ]
    },
    {
      "cell_type": "markdown",
      "metadata": {
        "id": "YtogNk5h0fAY"
      },
      "source": [
        "We already ran a PCoAs for each distance metric, and we can look at them if we download `weighted_unifrac_emperor.qzv`, `unweighted_unifrac_emperor.qzv`, `bray_curtis_emperor.qzv`, or `jaccard_emperor.qzv`"
      ]
    },
    {
      "cell_type": "markdown",
      "metadata": {
        "id": "XTXoJhjs0fAY"
      },
      "source": [
        "---\n",
        "## Taxonomic Classification"
      ]
    },
    {
      "cell_type": "markdown",
      "metadata": {
        "id": "CR2f0q4trGfA"
      },
      "source": [
        "We can learn a lot from diversity metrics, alpha and beta. But to really dig into the data, we need to know what microbes are in each sample 🦠. To do this, we'll classify the reads in QIIME2 using a Bayesian classifier. Several such classifiers are available at https://docs.qiime2.org/2024.5/data-resources/"
      ]
    },
    {
      "cell_type": "code",
      "execution_count": 35,
      "metadata": {
        "id": "firXAVIHrEzT",
        "colab": {
          "base_uri": "https://localhost:8080/"
        },
        "outputId": "44fd0067-ad26-4083-ea0b-2945c9efc345"
      },
      "outputs": [
        {
          "output_type": "stream",
          "name": "stdout",
          "text": [
            "\u001b[32mSaved FeatureData[Taxonomy] to: taxa.qza\u001b[0m\n",
            "\u001b[0m"
          ]
        }
      ],
      "source": [
        "!qiime feature-classifier classify-sklearn \\\n",
        "    --i-reads dada/representative_sequences.qza \\\n",
        "    --i-classifier ncbi-refseq-genus-515f-806r.qza \\\n",
        "    --p-n-jobs 2 \\\n",
        "    --o-classification taxa.qza"
      ]
    },
    {
      "cell_type": "markdown",
      "metadata": {
        "id": "ftEKkIx-uJtA"
      },
      "source": [
        "Now we've classified the reads, we can visualize the taxonomic breakdown of our samples."
      ]
    },
    {
      "cell_type": "code",
      "execution_count": 36,
      "metadata": {
        "id": "RSRrxhX7x4dE",
        "colab": {
          "base_uri": "https://localhost:8080/"
        },
        "outputId": "09dbb1eb-8b03-453c-d3ed-1aa0642a7574"
      },
      "outputs": [
        {
          "output_type": "stream",
          "name": "stdout",
          "text": [
            "\u001b[32mSaved Visualization to: taxa_barplot.qzv\u001b[0m\n",
            "\u001b[0m"
          ]
        }
      ],
      "source": [
        "!qiime taxa barplot \\\n",
        "    --i-table dada/table.qza \\\n",
        "    --i-taxonomy taxa.qza \\\n",
        "    --m-metadata-file data/metadata.tsv \\\n",
        "    --o-visualization taxa_barplot.qzv"
      ]
    },
    {
      "cell_type": "markdown",
      "metadata": {
        "id": "LbZ2f-kOx4jY"
      },
      "source": [
        "Now, we can use ```table.qza```, which contains our reads, and ```taxa.qza```, which contains taxonomic classifications for reads, and collapse the data onto the genus level."
      ]
    },
    {
      "cell_type": "code",
      "execution_count": 37,
      "metadata": {
        "id": "XTClvRnXx4ob",
        "colab": {
          "base_uri": "https://localhost:8080/"
        },
        "outputId": "ae841b68-ecc2-4e0b-cd23-7a2e415bd206"
      },
      "outputs": [
        {
          "output_type": "stream",
          "name": "stdout",
          "text": [
            "\u001b[32mSaved FeatureTable[Frequency] to: genus.qza\u001b[0m\n",
            "\u001b[0m"
          ]
        }
      ],
      "source": [
        "!qiime taxa collapse \\\n",
        "    --i-table dada/table.qza \\\n",
        "    --i-taxonomy taxa.qza \\\n",
        "    --p-level 6 \\\n",
        "    --o-collapsed-table genus.qza"
      ]
    },
    {
      "cell_type": "markdown",
      "metadata": {
        "id": "zZPj_eiux9DP"
      },
      "source": [
        "We'll export this as a .tsv, which will be more usable for the next portion of the course that you'll see tomorrow"
      ]
    },
    {
      "cell_type": "code",
      "execution_count": 38,
      "metadata": {
        "id": "deJ-FLcTx9Jq",
        "colab": {
          "base_uri": "https://localhost:8080/"
        },
        "outputId": "fd93fc05-677b-4ff0-da72-eeeeaf5c906e"
      },
      "outputs": [
        {
          "output_type": "stream",
          "name": "stdout",
          "text": [
            "\u001b[32mExported genus.qza as BIOMV210DirFmt to directory exported\u001b[0m\n",
            "\u001b[0m"
          ]
        }
      ],
      "source": [
        "!qiime tools export \\\n",
        "    --input-path genus.qza \\\n",
        "    --output-path exported\n",
        "!biom convert -i exported/feature-table.biom -o genus.tsv --to-tsv"
      ]
    },
    {
      "cell_type": "markdown",
      "metadata": {
        "id": "_1jjxJv5Pzwr"
      },
      "source": [
        "Let's peek at the results 🔭"
      ]
    },
    {
      "cell_type": "code",
      "execution_count": 39,
      "metadata": {
        "id": "nrq3gtn42kWv",
        "colab": {
          "base_uri": "https://localhost:8080/",
          "height": 474
        },
        "outputId": "5e8e3328-325f-4ceb-9330-d29beeab7112"
      },
      "outputs": [
        {
          "output_type": "execute_result",
          "data": {
            "text/plain": [
              "                                                    ERR1513684  ERR1513701  \\\n",
              "#OTU ID                                                                      \n",
              "k__Bacteria;p__Bacteroidetes;c__Bacteroidia;o__...      1286.0      1146.0   \n",
              "k__Bacteria;p__Proteobacteria;c__Gammaproteobac...      2734.0       600.0   \n",
              "k__Bacteria;p__Proteobacteria;c__Gammaproteobac...         0.0         0.0   \n",
              "k__Bacteria;p__Firmicutes;c__Clostridia;o__Euba...       852.0         0.0   \n",
              "k__Bacteria;p__Bacteroidetes;c__Bacteroidia;o__...      1013.0      2096.0   \n",
              "...                                                        ...         ...   \n",
              "k__Bacteria;p__Actinobacteria;c__Coriobacteriia...         0.0         0.0   \n",
              "k__Bacteria;p__Actinobacteria;c__Actinomycetia;...         0.0         0.0   \n",
              "k__Bacteria;p__Firmicutes;c__Clostridia;o__Euba...         0.0         0.0   \n",
              "k__Bacteria;p__Verrucomicrobia;c__Verrucomicrob...         0.0         0.0   \n",
              "k__Bacteria;p__Proteobacteria;__;__;__;__                  0.0         0.0   \n",
              "\n",
              "                                                    ERR1513703  ERR1513777  \\\n",
              "#OTU ID                                                                      \n",
              "k__Bacteria;p__Bacteroidetes;c__Bacteroidia;o__...         0.0      1708.0   \n",
              "k__Bacteria;p__Proteobacteria;c__Gammaproteobac...     13136.0       481.0   \n",
              "k__Bacteria;p__Proteobacteria;c__Gammaproteobac...         0.0         0.0   \n",
              "k__Bacteria;p__Firmicutes;c__Clostridia;o__Euba...       186.0      2485.0   \n",
              "k__Bacteria;p__Bacteroidetes;c__Bacteroidia;o__...      2305.0      2286.0   \n",
              "...                                                        ...         ...   \n",
              "k__Bacteria;p__Actinobacteria;c__Coriobacteriia...         2.0         0.0   \n",
              "k__Bacteria;p__Actinobacteria;c__Actinomycetia;...         0.0         2.0   \n",
              "k__Bacteria;p__Firmicutes;c__Clostridia;o__Euba...         0.0         0.0   \n",
              "k__Bacteria;p__Verrucomicrobia;c__Verrucomicrob...         0.0         0.0   \n",
              "k__Bacteria;p__Proteobacteria;__;__;__;__                  0.0         0.0   \n",
              "\n",
              "                                                    ERR1513870  ERR1513889  \\\n",
              "#OTU ID                                                                      \n",
              "k__Bacteria;p__Bacteroidetes;c__Bacteroidia;o__...      3076.0      2966.0   \n",
              "k__Bacteria;p__Proteobacteria;c__Gammaproteobac...        38.0        37.0   \n",
              "k__Bacteria;p__Proteobacteria;c__Gammaproteobac...         5.0         0.0   \n",
              "k__Bacteria;p__Firmicutes;c__Clostridia;o__Euba...      4000.0      1000.0   \n",
              "k__Bacteria;p__Bacteroidetes;c__Bacteroidia;o__...      2295.0       970.0   \n",
              "...                                                        ...         ...   \n",
              "k__Bacteria;p__Actinobacteria;c__Coriobacteriia...         0.0         0.0   \n",
              "k__Bacteria;p__Actinobacteria;c__Actinomycetia;...         0.0         0.0   \n",
              "k__Bacteria;p__Firmicutes;c__Clostridia;o__Euba...         0.0         0.0   \n",
              "k__Bacteria;p__Verrucomicrobia;c__Verrucomicrob...         0.0         0.0   \n",
              "k__Bacteria;p__Proteobacteria;__;__;__;__                  0.0         0.0   \n",
              "\n",
              "                                                    ERR1513961  ERR1513964  \\\n",
              "#OTU ID                                                                      \n",
              "k__Bacteria;p__Bacteroidetes;c__Bacteroidia;o__...      2224.0      2029.0   \n",
              "k__Bacteria;p__Proteobacteria;c__Gammaproteobac...         9.0      1782.0   \n",
              "k__Bacteria;p__Proteobacteria;c__Gammaproteobac...         0.0         0.0   \n",
              "k__Bacteria;p__Firmicutes;c__Clostridia;o__Euba...      1025.0      1113.0   \n",
              "k__Bacteria;p__Bacteroidetes;c__Bacteroidia;o__...       589.0      1098.0   \n",
              "...                                                        ...         ...   \n",
              "k__Bacteria;p__Actinobacteria;c__Coriobacteriia...         0.0         0.0   \n",
              "k__Bacteria;p__Actinobacteria;c__Actinomycetia;...         0.0         0.0   \n",
              "k__Bacteria;p__Firmicutes;c__Clostridia;o__Euba...         0.0         2.0   \n",
              "k__Bacteria;p__Verrucomicrobia;c__Verrucomicrob...         0.0         0.0   \n",
              "k__Bacteria;p__Proteobacteria;__;__;__;__                  0.0         0.0   \n",
              "\n",
              "                                                    ERR1513983  ERR1514003  \n",
              "#OTU ID                                                                     \n",
              "k__Bacteria;p__Bacteroidetes;c__Bacteroidia;o__...       301.0      1376.0  \n",
              "k__Bacteria;p__Proteobacteria;c__Gammaproteobac...      3362.0      2880.0  \n",
              "k__Bacteria;p__Proteobacteria;c__Gammaproteobac...        99.0      4585.0  \n",
              "k__Bacteria;p__Firmicutes;c__Clostridia;o__Euba...       344.0       698.0  \n",
              "k__Bacteria;p__Bacteroidetes;c__Bacteroidia;o__...        97.0      1244.0  \n",
              "...                                                        ...         ...  \n",
              "k__Bacteria;p__Actinobacteria;c__Coriobacteriia...         0.0         0.0  \n",
              "k__Bacteria;p__Actinobacteria;c__Actinomycetia;...         0.0         0.0  \n",
              "k__Bacteria;p__Firmicutes;c__Clostridia;o__Euba...         0.0         0.0  \n",
              "k__Bacteria;p__Verrucomicrobia;c__Verrucomicrob...         2.0         0.0  \n",
              "k__Bacteria;p__Proteobacteria;__;__;__;__                  0.0         2.0  \n",
              "\n",
              "[209 rows x 10 columns]"
            ],
            "text/html": [
              "\n",
              "  <div id=\"df-cb4e0712-dff2-4dd6-ae3f-d2a7d2d85816\" class=\"colab-df-container\">\n",
              "    <div>\n",
              "<style scoped>\n",
              "    .dataframe tbody tr th:only-of-type {\n",
              "        vertical-align: middle;\n",
              "    }\n",
              "\n",
              "    .dataframe tbody tr th {\n",
              "        vertical-align: top;\n",
              "    }\n",
              "\n",
              "    .dataframe thead th {\n",
              "        text-align: right;\n",
              "    }\n",
              "</style>\n",
              "<table border=\"1\" class=\"dataframe\">\n",
              "  <thead>\n",
              "    <tr style=\"text-align: right;\">\n",
              "      <th></th>\n",
              "      <th>ERR1513684</th>\n",
              "      <th>ERR1513701</th>\n",
              "      <th>ERR1513703</th>\n",
              "      <th>ERR1513777</th>\n",
              "      <th>ERR1513870</th>\n",
              "      <th>ERR1513889</th>\n",
              "      <th>ERR1513961</th>\n",
              "      <th>ERR1513964</th>\n",
              "      <th>ERR1513983</th>\n",
              "      <th>ERR1514003</th>\n",
              "    </tr>\n",
              "    <tr>\n",
              "      <th>#OTU ID</th>\n",
              "      <th></th>\n",
              "      <th></th>\n",
              "      <th></th>\n",
              "      <th></th>\n",
              "      <th></th>\n",
              "      <th></th>\n",
              "      <th></th>\n",
              "      <th></th>\n",
              "      <th></th>\n",
              "      <th></th>\n",
              "    </tr>\n",
              "  </thead>\n",
              "  <tbody>\n",
              "    <tr>\n",
              "      <th>k__Bacteria;p__Bacteroidetes;c__Bacteroidia;o__Bacteroidales;f__Bacteroidaceae;g__Phocaeicola</th>\n",
              "      <td>1286.0</td>\n",
              "      <td>1146.0</td>\n",
              "      <td>0.0</td>\n",
              "      <td>1708.0</td>\n",
              "      <td>3076.0</td>\n",
              "      <td>2966.0</td>\n",
              "      <td>2224.0</td>\n",
              "      <td>2029.0</td>\n",
              "      <td>301.0</td>\n",
              "      <td>1376.0</td>\n",
              "    </tr>\n",
              "    <tr>\n",
              "      <th>k__Bacteria;p__Proteobacteria;c__Gammaproteobacteria;o__Enterobacterales;f__Enterobacteriaceae;__</th>\n",
              "      <td>2734.0</td>\n",
              "      <td>600.0</td>\n",
              "      <td>13136.0</td>\n",
              "      <td>481.0</td>\n",
              "      <td>38.0</td>\n",
              "      <td>37.0</td>\n",
              "      <td>9.0</td>\n",
              "      <td>1782.0</td>\n",
              "      <td>3362.0</td>\n",
              "      <td>2880.0</td>\n",
              "    </tr>\n",
              "    <tr>\n",
              "      <th>k__Bacteria;p__Proteobacteria;c__Gammaproteobacteria;o__Moraxellales;f__Moraxellaceae;g__Acinetobacter</th>\n",
              "      <td>0.0</td>\n",
              "      <td>0.0</td>\n",
              "      <td>0.0</td>\n",
              "      <td>0.0</td>\n",
              "      <td>5.0</td>\n",
              "      <td>0.0</td>\n",
              "      <td>0.0</td>\n",
              "      <td>0.0</td>\n",
              "      <td>99.0</td>\n",
              "      <td>4585.0</td>\n",
              "    </tr>\n",
              "    <tr>\n",
              "      <th>k__Bacteria;p__Firmicutes;c__Clostridia;o__Eubacteriales;f__Oscillospiraceae;g__Faecalibacterium</th>\n",
              "      <td>852.0</td>\n",
              "      <td>0.0</td>\n",
              "      <td>186.0</td>\n",
              "      <td>2485.0</td>\n",
              "      <td>4000.0</td>\n",
              "      <td>1000.0</td>\n",
              "      <td>1025.0</td>\n",
              "      <td>1113.0</td>\n",
              "      <td>344.0</td>\n",
              "      <td>698.0</td>\n",
              "    </tr>\n",
              "    <tr>\n",
              "      <th>k__Bacteria;p__Bacteroidetes;c__Bacteroidia;o__Bacteroidales;f__Bacteroidaceae;g__Bacteroides</th>\n",
              "      <td>1013.0</td>\n",
              "      <td>2096.0</td>\n",
              "      <td>2305.0</td>\n",
              "      <td>2286.0</td>\n",
              "      <td>2295.0</td>\n",
              "      <td>970.0</td>\n",
              "      <td>589.0</td>\n",
              "      <td>1098.0</td>\n",
              "      <td>97.0</td>\n",
              "      <td>1244.0</td>\n",
              "    </tr>\n",
              "    <tr>\n",
              "      <th>...</th>\n",
              "      <td>...</td>\n",
              "      <td>...</td>\n",
              "      <td>...</td>\n",
              "      <td>...</td>\n",
              "      <td>...</td>\n",
              "      <td>...</td>\n",
              "      <td>...</td>\n",
              "      <td>...</td>\n",
              "      <td>...</td>\n",
              "      <td>...</td>\n",
              "    </tr>\n",
              "    <tr>\n",
              "      <th>k__Bacteria;p__Actinobacteria;c__Coriobacteriia;o__Coriobacteriales;f__Atopobiaceae;g__Lancefieldella</th>\n",
              "      <td>0.0</td>\n",
              "      <td>0.0</td>\n",
              "      <td>2.0</td>\n",
              "      <td>0.0</td>\n",
              "      <td>0.0</td>\n",
              "      <td>0.0</td>\n",
              "      <td>0.0</td>\n",
              "      <td>0.0</td>\n",
              "      <td>0.0</td>\n",
              "      <td>0.0</td>\n",
              "    </tr>\n",
              "    <tr>\n",
              "      <th>k__Bacteria;p__Actinobacteria;c__Actinomycetia;o__Actinomycetales;f__Actinomycetaceae;g__Actinomyces</th>\n",
              "      <td>0.0</td>\n",
              "      <td>0.0</td>\n",
              "      <td>0.0</td>\n",
              "      <td>2.0</td>\n",
              "      <td>0.0</td>\n",
              "      <td>0.0</td>\n",
              "      <td>0.0</td>\n",
              "      <td>0.0</td>\n",
              "      <td>0.0</td>\n",
              "      <td>0.0</td>\n",
              "    </tr>\n",
              "    <tr>\n",
              "      <th>k__Bacteria;p__Firmicutes;c__Clostridia;o__Eubacteriales;f__Peptococcaceae;g__Desulfohalotomaculum</th>\n",
              "      <td>0.0</td>\n",
              "      <td>0.0</td>\n",
              "      <td>0.0</td>\n",
              "      <td>0.0</td>\n",
              "      <td>0.0</td>\n",
              "      <td>0.0</td>\n",
              "      <td>0.0</td>\n",
              "      <td>2.0</td>\n",
              "      <td>0.0</td>\n",
              "      <td>0.0</td>\n",
              "    </tr>\n",
              "    <tr>\n",
              "      <th>k__Bacteria;p__Verrucomicrobia;c__Verrucomicrobiae;o__Verrucomicrobiales;f__Verrucomicrobiaceae;g__Fucophilus</th>\n",
              "      <td>0.0</td>\n",
              "      <td>0.0</td>\n",
              "      <td>0.0</td>\n",
              "      <td>0.0</td>\n",
              "      <td>0.0</td>\n",
              "      <td>0.0</td>\n",
              "      <td>0.0</td>\n",
              "      <td>0.0</td>\n",
              "      <td>2.0</td>\n",
              "      <td>0.0</td>\n",
              "    </tr>\n",
              "    <tr>\n",
              "      <th>k__Bacteria;p__Proteobacteria;__;__;__;__</th>\n",
              "      <td>0.0</td>\n",
              "      <td>0.0</td>\n",
              "      <td>0.0</td>\n",
              "      <td>0.0</td>\n",
              "      <td>0.0</td>\n",
              "      <td>0.0</td>\n",
              "      <td>0.0</td>\n",
              "      <td>0.0</td>\n",
              "      <td>0.0</td>\n",
              "      <td>2.0</td>\n",
              "    </tr>\n",
              "  </tbody>\n",
              "</table>\n",
              "<p>209 rows × 10 columns</p>\n",
              "</div>\n",
              "    <div class=\"colab-df-buttons\">\n",
              "\n",
              "  <div class=\"colab-df-container\">\n",
              "    <button class=\"colab-df-convert\" onclick=\"convertToInteractive('df-cb4e0712-dff2-4dd6-ae3f-d2a7d2d85816')\"\n",
              "            title=\"Convert this dataframe to an interactive table.\"\n",
              "            style=\"display:none;\">\n",
              "\n",
              "  <svg xmlns=\"http://www.w3.org/2000/svg\" height=\"24px\" viewBox=\"0 -960 960 960\">\n",
              "    <path d=\"M120-120v-720h720v720H120Zm60-500h600v-160H180v160Zm220 220h160v-160H400v160Zm0 220h160v-160H400v160ZM180-400h160v-160H180v160Zm440 0h160v-160H620v160ZM180-180h160v-160H180v160Zm440 0h160v-160H620v160Z\"/>\n",
              "  </svg>\n",
              "    </button>\n",
              "\n",
              "  <style>\n",
              "    .colab-df-container {\n",
              "      display:flex;\n",
              "      gap: 12px;\n",
              "    }\n",
              "\n",
              "    .colab-df-convert {\n",
              "      background-color: #E8F0FE;\n",
              "      border: none;\n",
              "      border-radius: 50%;\n",
              "      cursor: pointer;\n",
              "      display: none;\n",
              "      fill: #1967D2;\n",
              "      height: 32px;\n",
              "      padding: 0 0 0 0;\n",
              "      width: 32px;\n",
              "    }\n",
              "\n",
              "    .colab-df-convert:hover {\n",
              "      background-color: #E2EBFA;\n",
              "      box-shadow: 0px 1px 2px rgba(60, 64, 67, 0.3), 0px 1px 3px 1px rgba(60, 64, 67, 0.15);\n",
              "      fill: #174EA6;\n",
              "    }\n",
              "\n",
              "    .colab-df-buttons div {\n",
              "      margin-bottom: 4px;\n",
              "    }\n",
              "\n",
              "    [theme=dark] .colab-df-convert {\n",
              "      background-color: #3B4455;\n",
              "      fill: #D2E3FC;\n",
              "    }\n",
              "\n",
              "    [theme=dark] .colab-df-convert:hover {\n",
              "      background-color: #434B5C;\n",
              "      box-shadow: 0px 1px 3px 1px rgba(0, 0, 0, 0.15);\n",
              "      filter: drop-shadow(0px 1px 2px rgba(0, 0, 0, 0.3));\n",
              "      fill: #FFFFFF;\n",
              "    }\n",
              "  </style>\n",
              "\n",
              "    <script>\n",
              "      const buttonEl =\n",
              "        document.querySelector('#df-cb4e0712-dff2-4dd6-ae3f-d2a7d2d85816 button.colab-df-convert');\n",
              "      buttonEl.style.display =\n",
              "        google.colab.kernel.accessAllowed ? 'block' : 'none';\n",
              "\n",
              "      async function convertToInteractive(key) {\n",
              "        const element = document.querySelector('#df-cb4e0712-dff2-4dd6-ae3f-d2a7d2d85816');\n",
              "        const dataTable =\n",
              "          await google.colab.kernel.invokeFunction('convertToInteractive',\n",
              "                                                    [key], {});\n",
              "        if (!dataTable) return;\n",
              "\n",
              "        const docLinkHtml = 'Like what you see? Visit the ' +\n",
              "          '<a target=\"_blank\" href=https://colab.research.google.com/notebooks/data_table.ipynb>data table notebook</a>'\n",
              "          + ' to learn more about interactive tables.';\n",
              "        element.innerHTML = '';\n",
              "        dataTable['output_type'] = 'display_data';\n",
              "        await google.colab.output.renderOutput(dataTable, element);\n",
              "        const docLink = document.createElement('div');\n",
              "        docLink.innerHTML = docLinkHtml;\n",
              "        element.appendChild(docLink);\n",
              "      }\n",
              "    </script>\n",
              "  </div>\n",
              "\n",
              "\n",
              "<div id=\"df-d01d91e6-7a0e-4c3a-ab53-e5248a0028f8\">\n",
              "  <button class=\"colab-df-quickchart\" onclick=\"quickchart('df-d01d91e6-7a0e-4c3a-ab53-e5248a0028f8')\"\n",
              "            title=\"Suggest charts\"\n",
              "            style=\"display:none;\">\n",
              "\n",
              "<svg xmlns=\"http://www.w3.org/2000/svg\" height=\"24px\"viewBox=\"0 0 24 24\"\n",
              "     width=\"24px\">\n",
              "    <g>\n",
              "        <path d=\"M19 3H5c-1.1 0-2 .9-2 2v14c0 1.1.9 2 2 2h14c1.1 0 2-.9 2-2V5c0-1.1-.9-2-2-2zM9 17H7v-7h2v7zm4 0h-2V7h2v10zm4 0h-2v-4h2v4z\"/>\n",
              "    </g>\n",
              "</svg>\n",
              "  </button>\n",
              "\n",
              "<style>\n",
              "  .colab-df-quickchart {\n",
              "      --bg-color: #E8F0FE;\n",
              "      --fill-color: #1967D2;\n",
              "      --hover-bg-color: #E2EBFA;\n",
              "      --hover-fill-color: #174EA6;\n",
              "      --disabled-fill-color: #AAA;\n",
              "      --disabled-bg-color: #DDD;\n",
              "  }\n",
              "\n",
              "  [theme=dark] .colab-df-quickchart {\n",
              "      --bg-color: #3B4455;\n",
              "      --fill-color: #D2E3FC;\n",
              "      --hover-bg-color: #434B5C;\n",
              "      --hover-fill-color: #FFFFFF;\n",
              "      --disabled-bg-color: #3B4455;\n",
              "      --disabled-fill-color: #666;\n",
              "  }\n",
              "\n",
              "  .colab-df-quickchart {\n",
              "    background-color: var(--bg-color);\n",
              "    border: none;\n",
              "    border-radius: 50%;\n",
              "    cursor: pointer;\n",
              "    display: none;\n",
              "    fill: var(--fill-color);\n",
              "    height: 32px;\n",
              "    padding: 0;\n",
              "    width: 32px;\n",
              "  }\n",
              "\n",
              "  .colab-df-quickchart:hover {\n",
              "    background-color: var(--hover-bg-color);\n",
              "    box-shadow: 0 1px 2px rgba(60, 64, 67, 0.3), 0 1px 3px 1px rgba(60, 64, 67, 0.15);\n",
              "    fill: var(--button-hover-fill-color);\n",
              "  }\n",
              "\n",
              "  .colab-df-quickchart-complete:disabled,\n",
              "  .colab-df-quickchart-complete:disabled:hover {\n",
              "    background-color: var(--disabled-bg-color);\n",
              "    fill: var(--disabled-fill-color);\n",
              "    box-shadow: none;\n",
              "  }\n",
              "\n",
              "  .colab-df-spinner {\n",
              "    border: 2px solid var(--fill-color);\n",
              "    border-color: transparent;\n",
              "    border-bottom-color: var(--fill-color);\n",
              "    animation:\n",
              "      spin 1s steps(1) infinite;\n",
              "  }\n",
              "\n",
              "  @keyframes spin {\n",
              "    0% {\n",
              "      border-color: transparent;\n",
              "      border-bottom-color: var(--fill-color);\n",
              "      border-left-color: var(--fill-color);\n",
              "    }\n",
              "    20% {\n",
              "      border-color: transparent;\n",
              "      border-left-color: var(--fill-color);\n",
              "      border-top-color: var(--fill-color);\n",
              "    }\n",
              "    30% {\n",
              "      border-color: transparent;\n",
              "      border-left-color: var(--fill-color);\n",
              "      border-top-color: var(--fill-color);\n",
              "      border-right-color: var(--fill-color);\n",
              "    }\n",
              "    40% {\n",
              "      border-color: transparent;\n",
              "      border-right-color: var(--fill-color);\n",
              "      border-top-color: var(--fill-color);\n",
              "    }\n",
              "    60% {\n",
              "      border-color: transparent;\n",
              "      border-right-color: var(--fill-color);\n",
              "    }\n",
              "    80% {\n",
              "      border-color: transparent;\n",
              "      border-right-color: var(--fill-color);\n",
              "      border-bottom-color: var(--fill-color);\n",
              "    }\n",
              "    90% {\n",
              "      border-color: transparent;\n",
              "      border-bottom-color: var(--fill-color);\n",
              "    }\n",
              "  }\n",
              "</style>\n",
              "\n",
              "  <script>\n",
              "    async function quickchart(key) {\n",
              "      const quickchartButtonEl =\n",
              "        document.querySelector('#' + key + ' button');\n",
              "      quickchartButtonEl.disabled = true;  // To prevent multiple clicks.\n",
              "      quickchartButtonEl.classList.add('colab-df-spinner');\n",
              "      try {\n",
              "        const charts = await google.colab.kernel.invokeFunction(\n",
              "            'suggestCharts', [key], {});\n",
              "      } catch (error) {\n",
              "        console.error('Error during call to suggestCharts:', error);\n",
              "      }\n",
              "      quickchartButtonEl.classList.remove('colab-df-spinner');\n",
              "      quickchartButtonEl.classList.add('colab-df-quickchart-complete');\n",
              "    }\n",
              "    (() => {\n",
              "      let quickchartButtonEl =\n",
              "        document.querySelector('#df-d01d91e6-7a0e-4c3a-ab53-e5248a0028f8 button');\n",
              "      quickchartButtonEl.style.display =\n",
              "        google.colab.kernel.accessAllowed ? 'block' : 'none';\n",
              "    })();\n",
              "  </script>\n",
              "</div>\n",
              "\n",
              "  <div id=\"id_7dfd31a2-67c6-449c-b755-e63746af9c53\">\n",
              "    <style>\n",
              "      .colab-df-generate {\n",
              "        background-color: #E8F0FE;\n",
              "        border: none;\n",
              "        border-radius: 50%;\n",
              "        cursor: pointer;\n",
              "        display: none;\n",
              "        fill: #1967D2;\n",
              "        height: 32px;\n",
              "        padding: 0 0 0 0;\n",
              "        width: 32px;\n",
              "      }\n",
              "\n",
              "      .colab-df-generate:hover {\n",
              "        background-color: #E2EBFA;\n",
              "        box-shadow: 0px 1px 2px rgba(60, 64, 67, 0.3), 0px 1px 3px 1px rgba(60, 64, 67, 0.15);\n",
              "        fill: #174EA6;\n",
              "      }\n",
              "\n",
              "      [theme=dark] .colab-df-generate {\n",
              "        background-color: #3B4455;\n",
              "        fill: #D2E3FC;\n",
              "      }\n",
              "\n",
              "      [theme=dark] .colab-df-generate:hover {\n",
              "        background-color: #434B5C;\n",
              "        box-shadow: 0px 1px 3px 1px rgba(0, 0, 0, 0.15);\n",
              "        filter: drop-shadow(0px 1px 2px rgba(0, 0, 0, 0.3));\n",
              "        fill: #FFFFFF;\n",
              "      }\n",
              "    </style>\n",
              "    <button class=\"colab-df-generate\" onclick=\"generateWithVariable('abundances')\"\n",
              "            title=\"Generate code using this dataframe.\"\n",
              "            style=\"display:none;\">\n",
              "\n",
              "  <svg xmlns=\"http://www.w3.org/2000/svg\" height=\"24px\"viewBox=\"0 0 24 24\"\n",
              "       width=\"24px\">\n",
              "    <path d=\"M7,19H8.4L18.45,9,17,7.55,7,17.6ZM5,21V16.75L18.45,3.32a2,2,0,0,1,2.83,0l1.4,1.43a1.91,1.91,0,0,1,.58,1.4,1.91,1.91,0,0,1-.58,1.4L9.25,21ZM18.45,9,17,7.55Zm-12,3A5.31,5.31,0,0,0,4.9,8.1,5.31,5.31,0,0,0,1,6.5,5.31,5.31,0,0,0,4.9,4.9,5.31,5.31,0,0,0,6.5,1,5.31,5.31,0,0,0,8.1,4.9,5.31,5.31,0,0,0,12,6.5,5.46,5.46,0,0,0,6.5,12Z\"/>\n",
              "  </svg>\n",
              "    </button>\n",
              "    <script>\n",
              "      (() => {\n",
              "      const buttonEl =\n",
              "        document.querySelector('#id_7dfd31a2-67c6-449c-b755-e63746af9c53 button.colab-df-generate');\n",
              "      buttonEl.style.display =\n",
              "        google.colab.kernel.accessAllowed ? 'block' : 'none';\n",
              "\n",
              "      buttonEl.onclick = () => {\n",
              "        google.colab.notebook.generateWithVariable('abundances');\n",
              "      }\n",
              "      })();\n",
              "    </script>\n",
              "  </div>\n",
              "\n",
              "    </div>\n",
              "  </div>\n"
            ],
            "application/vnd.google.colaboratory.intrinsic+json": {
              "type": "dataframe",
              "variable_name": "abundances",
              "summary": "{\n  \"name\": \"abundances\",\n  \"rows\": 209,\n  \"fields\": [\n    {\n      \"column\": \"#OTU ID\",\n      \"properties\": {\n        \"dtype\": \"string\",\n        \"num_unique_values\": 209,\n        \"samples\": [\n          \"k__Bacteria;p__Firmicutes;c__Bacilli;o__Bacillales;f__Bacillaceae;g__Peribacillus\",\n          \"k__Bacteria;p__Cyanobacteria;c__Cyanobacteria;__;__;__\",\n          \"k__Bacteria;p__Proteobacteria;c__Alphaproteobacteria;o__Hyphomicrobiales;f__Brucellaceae;g__Pseudochrobactrum\"\n        ],\n        \"semantic_type\": \"\",\n        \"description\": \"\"\n      }\n    },\n    {\n      \"column\": \"ERR1513684\",\n      \"properties\": {\n        \"dtype\": \"number\",\n        \"std\": 229.4524301334548,\n        \"min\": 0.0,\n        \"max\": 2734.0,\n        \"num_unique_values\": 38,\n        \"samples\": [\n          6.0,\n          5.0,\n          1013.0\n        ],\n        \"semantic_type\": \"\",\n        \"description\": \"\"\n      }\n    },\n    {\n      \"column\": \"ERR1513701\",\n      \"properties\": {\n        \"dtype\": \"number\",\n        \"std\": 238.52961273218395,\n        \"min\": 0.0,\n        \"max\": 2096.0,\n        \"num_unique_values\": 43,\n        \"samples\": [\n          16.0,\n          66.0,\n          5.0\n        ],\n        \"semantic_type\": \"\",\n        \"description\": \"\"\n      }\n    },\n    {\n      \"column\": \"ERR1513703\",\n      \"properties\": {\n        \"dtype\": \"number\",\n        \"std\": 927.5048838817972,\n        \"min\": 0.0,\n        \"max\": 13136.0,\n        \"num_unique_values\": 52,\n        \"samples\": [\n          44.0,\n          115.0,\n          21.0\n        ],\n        \"semantic_type\": \"\",\n        \"description\": \"\"\n      }\n    },\n    {\n      \"column\": \"ERR1513777\",\n      \"properties\": {\n        \"dtype\": \"number\",\n        \"std\": 410.99317909745173,\n        \"min\": 0.0,\n        \"max\": 2485.0,\n        \"num_unique_values\": 67,\n        \"samples\": [\n          58.0,\n          159.0,\n          2286.0\n        ],\n        \"semantic_type\": \"\",\n        \"description\": \"\"\n      }\n    },\n    {\n      \"column\": \"ERR1513870\",\n      \"properties\": {\n        \"dtype\": \"number\",\n        \"std\": 433.15485536530315,\n        \"min\": 0.0,\n        \"max\": 4000.0,\n        \"num_unique_values\": 67,\n        \"samples\": [\n          107.0,\n          963.0,\n          2295.0\n        ],\n        \"semantic_type\": \"\",\n        \"description\": \"\"\n      }\n    },\n    {\n      \"column\": \"ERR1513889\",\n      \"properties\": {\n        \"dtype\": \"number\",\n        \"std\": 272.2824470164341,\n        \"min\": 0.0,\n        \"max\": 2966.0,\n        \"num_unique_values\": 57,\n        \"samples\": [\n          2966.0,\n          439.0,\n          112.0\n        ],\n        \"semantic_type\": \"\",\n        \"description\": \"\"\n      }\n    },\n    {\n      \"column\": \"ERR1513961\",\n      \"properties\": {\n        \"dtype\": \"number\",\n        \"std\": 192.5613557703258,\n        \"min\": 0.0,\n        \"max\": 2224.0,\n        \"num_unique_values\": 44,\n        \"samples\": [\n          4.0,\n          39.0,\n          15.0\n        ],\n        \"semantic_type\": \"\",\n        \"description\": \"\"\n      }\n    },\n    {\n      \"column\": \"ERR1513964\",\n      \"properties\": {\n        \"dtype\": \"number\",\n        \"std\": 292.63735084768655,\n        \"min\": 0.0,\n        \"max\": 2029.0,\n        \"num_unique_values\": 56,\n        \"samples\": [\n          2029.0,\n          941.0,\n          10.0\n        ],\n        \"semantic_type\": \"\",\n        \"description\": \"\"\n      }\n    },\n    {\n      \"column\": \"ERR1513983\",\n      \"properties\": {\n        \"dtype\": \"number\",\n        \"std\": 259.0508974215559,\n        \"min\": 0.0,\n        \"max\": 3362.0,\n        \"num_unique_values\": 49,\n        \"samples\": [\n          15.0,\n          38.0,\n          21.0\n        ],\n        \"semantic_type\": \"\",\n        \"description\": \"\"\n      }\n    },\n    {\n      \"column\": \"ERR1514003\",\n      \"properties\": {\n        \"dtype\": \"number\",\n        \"std\": 417.2801558532344,\n        \"min\": 0.0,\n        \"max\": 4585.0,\n        \"num_unique_values\": 44,\n        \"samples\": [\n          12.0,\n          27.0,\n          102.0\n        ],\n        \"semantic_type\": \"\",\n        \"description\": \"\"\n      }\n    }\n  ]\n}"
            }
          },
          "metadata": {},
          "execution_count": 39
        }
      ],
      "source": [
        "abundances = pd.read_table(\"genus.tsv\", skiprows=1, index_col=0)\n",
        "abundances"
      ]
    },
    {
      "cell_type": "markdown",
      "metadata": {
        "id": "ROKU7_tcyFKD"
      },
      "source": [
        "This is easier to interpret by visualizing the results. We can use the file we just exported from QIIME2 to build a visualization using any tool we like, such as seaborn or plotnine. Here is an example of building a visualization (a heatmap) in seaborn:"
      ]
    },
    {
      "cell_type": "code",
      "execution_count": 40,
      "metadata": {
        "id": "vC5qKf680fAa"
      },
      "outputs": [],
      "source": [
        "import numpy as np\n",
        "import seaborn as sns"
      ]
    },
    {
      "cell_type": "code",
      "execution_count": 42,
      "metadata": {
        "id": "YOHG-0nXquu5",
        "colab": {
          "base_uri": "https://localhost:8080/",
          "height": 548
        },
        "outputId": "878d6d19-62e1-43ef-ff02-feca30ee0c09"
      },
      "outputs": [
        {
          "output_type": "execute_result",
          "data": {
            "text/plain": [
              "<seaborn.matrix.ClusterGrid at 0x7f78107970a0>"
            ]
          },
          "metadata": {},
          "execution_count": 42
        },
        {
          "output_type": "display_data",
          "data": {
            "text/plain": [
              "<Figure size 1600x600 with 4 Axes>"
            ],
            "image/png": "[encoded data removed]"
          },
          "metadata": {}
        }
      ],
      "source": [
        "abund_to_plot = abundances\n",
        "abund_to_plot.index = abund_to_plot.index.str.split(\";\").str[5]          # Use only the genus name\n",
        "abund_to_plot = abund_to_plot[~abund_to_plot.index.isin([\"g__\", \"__\"])]  # remove unclassified genera\n",
        "abund_to_plot = abund_to_plot.sample(50, axis=0)                         # use 50 random genera (rows)\n",
        "\n",
        "# Let's do a centered log-ratio transform: log x_i - log mean(x)\n",
        "transformed = abund_to_plot.apply(\n",
        "    lambda xs: np.log(xs + 0.5) - np.log(xs.mean() + 0.5),\n",
        "    axis=0)\n",
        "\n",
        "sns.clustermap(transformed.T, cmap=\"magma\", xticklabels=True, figsize=(16, 6))"
      ]
    },
    {
      "cell_type": "markdown",
      "metadata": {
        "id": "GfzsEjtS0fAb"
      },
      "source": [
        "Now, our data is starting to be interpretable. Each row is a sample, and each column is a bacterial genus. The table values are \"counts\", or the number of times a genus was detected in a certain sample. We can use relative abundance data to test hypotheses, but it requires special statistical methods because it is ___compositional___"
      ]
    },
    {
      "cell_type": "markdown",
      "metadata": {
        "id": "-N5E8lW40fAb"
      },
      "source": [
        "## Differential Abundance Analysis"
      ]
    },
    {
      "cell_type": "markdown",
      "metadata": {
        "id": "k6JlX4SC0fAb"
      },
      "source": [
        "Explain compositional data + methods for testing"
      ]
    },
    {
      "cell_type": "code",
      "execution_count": 45,
      "metadata": {
        "colab": {
          "base_uri": "https://localhost:8080/"
        },
        "id": "BhjF47mL0fAb",
        "outputId": "0d8a0d41-b7db-4ead-8e2d-dd4575edadc2"
      },
      "outputs": [
        {
          "output_type": "stream",
          "name": "stdout",
          "text": [
            "\u001b[32mSaved FeatureData[DifferentialAbundance] to: ancombc.qza\u001b[0m\n",
            "\u001b[0m"
          ]
        }
      ],
      "source": [
        "!qiime composition ancombc \\\n",
        "  --i-table genus.qza \\\n",
        "  --m-metadata-file data/metadata.tsv \\\n",
        "  --p-formula \"parkinson_disease\" \\\n",
        "  --o-differentials ancombc.qza"
      ]
    },
    {
      "cell_type": "code",
      "execution_count": 46,
      "metadata": {
        "colab": {
          "base_uri": "https://localhost:8080/"
        },
        "id": "pkkERODA0fAc",
        "outputId": "34992f9e-716d-4c69-fecc-bf995a982264"
      },
      "outputs": [
        {
          "output_type": "stream",
          "name": "stdout",
          "text": [
            "\u001b[32mSaved Visualization to: da_barplot.qzv\u001b[0m\n",
            "\u001b[0m"
          ]
        }
      ],
      "source": [
        "!qiime composition da-barplot \\\n",
        "  --i-data ancombc.qza \\\n",
        "  --p-significance-threshold 0.01 \\\n",
        "  --o-visualization da_barplot.qzv"
      ]
    },
    {
      "cell_type": "markdown",
      "metadata": {
        "id": "WPMlG8w9aCsW",
        "tags": []
      },
      "source": [
        "## Exercise - Plant a Tree"
      ]
    },
    {
      "cell_type": "markdown",
      "metadata": {
        "id": "hZrVCQE80fAc"
      },
      "source": [
        "One visualization that we did not spend a lot of time on was the phylogentic tree of our ASVs. Let's change that! We have seen that there are genera that appear in multiple populations in the previous step. But are the organisms in that genus actually the same?\n",
        "\n",
        "Let's annotate the tree with our taxonomic classifications and abundances. We will use the empress plugin again but this time with the `community-plot` option. I filled in a template of the command for you. Can you figure out what has to go in the empty spaces?\n",
        "\n",
        "**QUESTIONS:**\n",
        "\n",
        "1) Are some of the branch lengths on the tree longer than you would expect? Do you notice anything interesting or suspicious about the taxonomic identities of these branches?\n",
        "\n",
        "2) Can you find examples of phyla that are polyphyletic (i.e. where clusters of ASVs from the same phylum are found in different locations on the tree, showing different commmon ancestors)? What about polyphyletic taxa at lower taxonomic levels, like at the family or genus levels? Why do you think these patterns exist?"
      ]
    },
    {
      "cell_type": "code",
      "execution_count": null,
      "metadata": {
        "id": "qf-bY5aci4bv"
      },
      "outputs": [],
      "source": [
        "# This won't run until you fill in the [EMPTY] spots with the right files ;)\n",
        "\n",
        "!qiime empress community-plot \\\n",
        "    --i-tree [EMPTY] \\\n",
        "    --i-feature-table dada/table.qza \\\n",
        "    --m-sample-metadata-file [EMPTY] \\\n",
        "    --m-feature-metadata-file taxa.qza \\\n",
        "    --o-visualization community-tree-viz.qzv"
      ]
    }
  ],
  "metadata": {
    "colab": {
      "provenance": []
    },
    "kernelspec": {
      "display_name": "Python 3 (ipykernel)",
      "language": "python",
      "name": "python3"
    },
    "language_info": {
      "codemirror_mode": {
        "name": "ipython",
        "version": 3
      },
      "file_extension": ".py",
      "mimetype": "text/x-python",
      "name": "python",
      "nbconvert_exporter": "python",
      "pygments_lexer": "ipython3",
      "version": "3.11.0"
    }
  },
  "nbformat": 4,
  "nbformat_minor": 0
}