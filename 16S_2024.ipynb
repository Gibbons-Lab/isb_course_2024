{
 "cells": [
  {
   "cell_type": "markdown",
   "metadata": {
    "id": "view-in-github"
   },
   "source": [
    "<a href=\"https://colab.research.google.com/github/Gibbons-Lab/isb_course_2023/blob/main/16S_2024.ipynb\" target=\"_parent\"><img src=\"https://colab.research.google.com/assets/colab-badge.svg\" alt=\"Open In Colab\"/></a>"
   ]
  },
  {
   "cell_type": "markdown",
   "metadata": {
    "id": "2inlS7SNn0-o",
    "tags": []
   },
   "source": [
    "# 🦠 Amplicon Sequencing Data Analysis with QIIME 2"
   ]
  },
  {
   "cell_type": "markdown",
   "metadata": {
    "id": "lcJVyVD80fAG"
   },
   "source": [
    "This notebook will accompany the first session of the 2024 ISB Virtual Microbiome Series. The presentation slides can be [found here](https://gibbons-lab.github.io/isb_course_2024/16S).\n",
    "\n",
    "Save your own local copy of this notebook by using `File > Save a copy in Drive`. At some point you may be prompted to trust the notebook. We promise that it is safe 🤞\n",
    "\n",
    "**Disclaimer:**\n",
    "\n",
    "The Google Colab notebook environment will interpret any command as Python code by default. If we want to run bash commands we will have to prefix them by `!`. So any command you see with a leading `!` is a bash command and if you wanted to run it in your terminal you would omit the `!`. For example, if in the Colab notebook you ran `!wget` you would just run `wget` in your terminal.\n",
    "\n",
    "**Run all cells IN ORDER**"
   ]
  },
  {
   "cell_type": "markdown",
   "metadata": {
    "id": "UVawr3gG0fAG",
    "jp-MarkdownHeadingCollapsed": true,
    "tags": []
   },
   "source": [
    "## Setup"
   ]
  },
  {
   "cell_type": "markdown",
   "metadata": {
    "id": "CuWOn36b0fAH"
   },
   "source": [
    "QIIME 2 is usually installed by following the [official installation instructions](https://docs.qiime2.org/2024.5/install/). However, because we are using Google Colab and there are some caveats to using conda here, we will have to hack around the installation a little bit. But no worries, we provide a setup script below which does all this work for us. 😌\n",
    "\n",
    "So...let's start by pulling a local copy of the project repository down from GitHub."
   ]
  },
  {
   "cell_type": "code",
   "execution_count": null,
   "metadata": {
    "colab": {
     "base_uri": "https://localhost:8080/"
    },
    "id": "9Cyg41Tcn1Ua",
    "outputId": "a207fd86-51e3-4e07-8ae9-a6cbafc4ef18"
   },
   "outputs": [],
   "source": [
    "!git clone https://github.com/gibbons-lab/isb_course_2024 materials"
   ]
  },
  {
   "cell_type": "markdown",
   "metadata": {
    "id": "MQ9XVvOToEBR"
   },
   "source": [
    "This repository, called __materials__, contains all the relevant data and other resources we'll need for this course. To view the directory, click on the folder icon on the left. Let's navigate to that directory via command line now:"
   ]
  },
  {
   "cell_type": "code",
   "execution_count": null,
   "metadata": {
    "colab": {
     "base_uri": "https://localhost:8080/"
    },
    "id": "GvNHs-EroFNM",
    "outputId": "ce246af8-4475-47c8-d71f-7eb3b431c914"
   },
   "outputs": [],
   "source": [
    "%cd materials"
   ]
  },
  {
   "cell_type": "markdown",
   "metadata": {
    "id": "IHvKnTbdypyp"
   },
   "source": [
    "Notice here we use ```%``` instead of ```!``` to run out command line function. This makes the path change to our directory permanent: using the ```!``` operator only switches the interpreter to expect command line prompts temporarily.\n",
    "\n",
    "\n"
   ]
  },
  {
   "cell_type": "markdown",
   "metadata": {
    "id": "rIOk9J0AoYXX",
    "jp-MarkdownHeadingCollapsed": true,
    "tags": []
   },
   "source": [
    "## Install QIIME2"
   ]
  },
  {
   "cell_type": "markdown",
   "metadata": {
    "id": "nJ56MqA50fAJ"
   },
   "source": [
    "Now that we have all our materials, we're _almost_ ready to get started - but not quite. Remember QIIME2? We'll need to install that before getting into the actual analysis. Don't worry - this will only set up in the Colab notebook, not on your local machine.\n",
    "\n",
    "Let's run the following cell, to install and setup QIIME2."
   ]
  },
  {
   "cell_type": "code",
   "execution_count": null,
   "metadata": {
    "colab": {
     "base_uri": "https://localhost:8080/",
     "height": 298
    },
    "id": "Inkvkt_DoSQT",
    "outputId": "278c4207-ca12-4ecf-d562-2335990d6170"
   },
   "outputs": [],
   "source": [
    "%run setup_qiime2"
   ]
  },
  {
   "cell_type": "markdown",
   "metadata": {
    "id": "Pajd6O0OpE_f"
   },
   "source": [
    "⬆️ This will take some time (usually 10 to 15 minutes), so we'll switch back over to the [presentation](https://gibbons-lab.github.io/isb_course_2024/16S) while we wait.\n",
    "\n",
    "If you want to learn more about QIIME2, we recommend you check out the [documentation](https://docs.qiime2.org/). This will also explain how to install QIIME2 on your local machine 🖥"
   ]
  },
  {
   "cell_type": "markdown",
   "metadata": {
    "id": "RccdNYBeqQVn",
    "tags": []
   },
   "source": [
    "## Let's Get Started!"
   ]
  },
  {
   "cell_type": "markdown",
   "metadata": {
    "id": "bPExCVcl0fAK"
   },
   "source": [
    "Now we're on to the fun part. Let's begin by taking a look at our data. In the __data__ folder, you'll find 10 FASTQ files, a file manifest, and a metadata file. Let's take a look at the manifest, first. This is a file that contains the name, and filepath of all our samples, and we'll need it later on when we use QIIME2 📝."
   ]
  },
  {
   "cell_type": "code",
   "execution_count": null,
   "metadata": {
    "colab": {
     "base_uri": "https://localhost:8080/",
     "height": 362
    },
    "id": "_pFaCnO6iqqW",
    "outputId": "160bf3f3-5f7c-4460-ef75-9599327044f8"
   },
   "outputs": [],
   "source": [
    "import pandas as pd\n",
    "manifest = pd.read_csv('data/manifest.tsv', sep = '\\t')\n",
    "manifest"
   ]
  },
  {
   "cell_type": "markdown",
   "metadata": {
    "id": "vAIoc31bgTY_"
   },
   "source": [
    "We can also check out the metadata file, which will give us more context on our samples 🔬"
   ]
  },
  {
   "cell_type": "code",
   "execution_count": null,
   "metadata": {
    "colab": {
     "base_uri": "https://localhost:8080/",
     "height": 712
    },
    "id": "sAfnoRnxgZOO",
    "outputId": "25ad5351-711f-41a9-82e8-fa6acec4406e",
    "scrolled": true
   },
   "outputs": [],
   "source": [
    "metadata = pd.read_csv('data/metadata.tsv', sep='\\t')\n",
    "metadata"
   ]
  },
  {
   "cell_type": "markdown",
   "metadata": {
    "id": "_ssDjv0I0fAL"
   },
   "source": [
    "Looks good, all 10 FASTQ files are accounted for, five healthy and five with Parkinson's Disease. We can use the manifest file to import our files into QIIME2."
   ]
  },
  {
   "cell_type": "markdown",
   "metadata": {
    "id": "qc10jMUYsXyh",
    "tags": []
   },
   "source": [
    "## QIIME2 Pipeline"
   ]
  },
  {
   "cell_type": "markdown",
   "metadata": {
    "id": "1-GQhxTs0fAL"
   },
   "source": [
    "Let's remind ourselves what the QIIME2 pipeline will do:\n",
    "![our workflow](https://github.com/Gibbons-Lab/isb_course_2024/raw/main/docs/16S/assets/steps.png)"
   ]
  },
  {
   "cell_type": "markdown",
   "metadata": {
    "id": "HLF-zdrJXq7q"
   },
   "source": [
    "To use sequencing data in QIIME2, we first need to turn the FASTQ files containing our data into QIIME artifacts. Using the manifest we just checked out, let's run our first command:\n",
    "\n",
    "-- as a reminder, adding ```!``` before the command tells the notebook this is a bash command, rather than python."
   ]
  },
  {
   "cell_type": "code",
   "execution_count": null,
   "metadata": {
    "colab": {
     "base_uri": "https://localhost:8080/"
    },
    "id": "QmLebzqFX_0N",
    "outputId": "022d22f5-5a0e-4b91-c125-2cedc826f03e"
   },
   "outputs": [],
   "source": [
    "!qiime tools import \\\n",
    "  --type 'SampleData[SequencesWithQuality]' \\\n",
    "  --input-path data/manifest.tsv \\\n",
    "  --output-path sequences.qza \\\n",
    "  --input-format SingleEndFastqManifestPhred33V2"
   ]
  },
  {
   "cell_type": "markdown",
   "metadata": {
    "id": "N2Pmtg-aaqvr"
   },
   "source": [
    "Let's take a look a the command. QIIME commands take following format:\n",
    "\n",
    "```\n",
    "qiime plugin action --i-argument1 ... --o-argument2 ...\n",
    "```\n",
    "In the previous command, we are calling the ```tools``` plugin within QIIME2 to import our data. The following arguments designate where the manifest is, as well as where the output should be saved. We also tell QIIME2 what sort of input to expect.\n",
    "\n",
    "Argument types usually begin with a letter denoting their meaning:\n",
    "\n",
    "- `--i-...` = input files\n",
    "- `--o-...` = output files\n",
    "- `--p-...` = parameters\n",
    "- `--m-...` = metadata\n",
    "\n",
    "---"
   ]
  },
  {
   "cell_type": "markdown",
   "metadata": {
    "id": "Wb__5zxD0fAM",
    "tags": []
   },
   "source": [
    "## Visualizing our Data 🔎\n",
    "\n",
    "Before we move on, let's use QIIME2 to visualize our sequencing data."
   ]
  },
  {
   "cell_type": "code",
   "execution_count": null,
   "metadata": {
    "colab": {
     "base_uri": "https://localhost:8080/"
    },
    "id": "nVPsDHTNvNUw",
    "outputId": "eb7034d2-910b-4825-f668-18ff83978859"
   },
   "outputs": [],
   "source": [
    "!qiime demux summarize \\\n",
    "--i-data sequences.qza \\\n",
    "--o-visualization qualities.qzv"
   ]
  },
  {
   "cell_type": "markdown",
   "metadata": {
    "id": "o29TMwWOy9L1"
   },
   "source": [
    ".qzv files like the one we just produced are visualization. You can view the plot by downloading the file and opening it using http://view.qiime2.org. To download the file click on the folder symbol to the left, open the `materials` folder, and choose download from the dot menu next to the `qualities.qzv` file.\n",
    "\n",
    "---"
   ]
  },
  {
   "cell_type": "markdown",
   "metadata": {
    "id": "va8RVKqP0fAM",
    "tags": []
   },
   "source": [
    "## Quality Filtering"
   ]
  },
  {
   "cell_type": "markdown",
   "metadata": {
    "id": "Lxb_lE8l0fAN"
   },
   "source": [
    "\n",
    "Before we can use our sequencing data, we need to \"denoise\" it. To do this, we'll use a plugin called DADA2. This involves three things.\n",
    "\n",
    "1. filter and trim the reads\n",
    "2. find the most likely set of unique sequences in the sample (ASVs)\n",
    "3. remove chimeras\n",
    "4. count the abundances of each ASV\n",
    "\n",
    "\n",
    "This command will take a little time - let's run it, and head back to the presentation to discuss what's happening."
   ]
  },
  {
   "cell_type": "code",
   "execution_count": null,
   "metadata": {
    "colab": {
     "base_uri": "https://localhost:8080/"
    },
    "id": "HclmzHqyacLU",
    "outputId": "537ecb15-7847-4aa8-f38c-f49a75b8d85b"
   },
   "outputs": [],
   "source": [
    "!qiime dada2 denoise-single \\\n",
    "    --i-demultiplexed-seqs sequences.qza \\\n",
    "    --p-trunc-len 150 \\\n",
    "    --p-n-threads 2 \\\n",
    "    --output-dir dada --verbose"
   ]
  },
  {
   "cell_type": "markdown",
   "metadata": {
    "id": "sEs5k1Za-54R"
   },
   "source": [
    "\n",
    "If this step takes too long or fails, you can also copy the results from the treasure chest with the following command."
   ]
  },
  {
   "cell_type": "code",
   "execution_count": null,
   "metadata": {
    "id": "-Sba9UTNeoji"
   },
   "outputs": [],
   "source": [
    "# obscure magic that will only copy if the previous command failed\n",
    "![ -d dada ] || cp -r treasure_chest/dada ."
   ]
  },
  {
   "cell_type": "markdown",
   "metadata": {
    "id": "EhU2aNz4_MDO"
   },
   "source": [
    "Let's check to see how that went. One good way to tell if the identified ASVs are representative of the sample is to see how many reads were maintained throughout the pipeline. Here, the most common issues and solutions are:\n",
    "\n",
    "**Large fraction of reads is lost during merging (only paired-end)**\n",
    "\n",
    "![read overlap](https://gibbons-lab.github.io/isb_course_2024/16S/assets/read_overlap.png)\n",
    "\n",
    "In order to merge ASVs DADA2 uses an overlap of 12 bases between forward and reverse reads by default. Thus, your reads must allow for sufficient overlap *after* trimming. So if your amplified region is 450bp long and you have 2x250bp reads and you trim the last 30 bases of each read, truncating the length to 220bp, the total length of covered sequence is 2x220 = 440 which is shorter than 450bp so there will be no overlap. To solve this issue trim less of the reads or adjust the `--p-min-overlap` parameters to something lower (but not too low).\n",
    "\n",
    "<br>\n",
    "\n",
    "**Most of the reads are lost as chimeric**\n",
    "\n",
    "![read overlap](https://gibbons-lab.github.io/isb_course_2024/16S/assets/chimera.png)\n",
    "\n",
    "This is usually an experimental issue as chimeras are introduced during amplification. If you can adjust your PCR, try to run fewer cycles. Chimeras can also be introduced by incorrect merging. If your minimum overlap is too small ASVs may be merged randomly. Possible fixes are to increase the `--p-min-overlap` parameter or run the analysis on the forward reads only (in our empirical observations, chimeras are more likely to be introduced in the joined reads). *However, losing between 5-25% of your reads to chimeras is normal and does not require any adjustments.*\n",
    "\n",
    "\n",
    "Our denoising stats are contained in an artifact. To convert it to a visualization we can use `qiime metadata tabulate`."
   ]
  },
  {
   "cell_type": "code",
   "execution_count": null,
   "metadata": {
    "colab": {
     "base_uri": "https://localhost:8080/"
    },
    "id": "z-iW0UBd_Iiu",
    "outputId": "c0c41e43-5e54-4290-89e3-9e12a27701fa"
   },
   "outputs": [],
   "source": [
    "!qiime metadata tabulate \\\n",
    "    --m-input-file dada/denoising_stats.qza \\\n",
    "    --o-visualization dada/denoising-stats.qzv"
   ]
  },
  {
   "cell_type": "markdown",
   "metadata": {
    "id": "TWqEgfzRKA5t"
   },
   "source": [
    "Like before, we can download the .qzv file and visualize the results using the [QIIME2 Viewer]('https://view.qiime2.org/').\n",
    "\n",
    "It's important to understand what this output tells us. For instance, what percent of reads in our data pass the filtering step? What percent of reads were non-chimeric? Differences in these metrics between samples can affect diversity metrics.\n",
    "\n",
    "---"
   ]
  },
  {
   "cell_type": "markdown",
   "metadata": {
    "id": "mQKTRQXJ0fAO",
    "tags": []
   },
   "source": [
    "## Diversity and Phylogenetics"
   ]
  },
  {
   "cell_type": "markdown",
   "metadata": {
    "id": "uDreq_YROCHQ",
    "tags": []
   },
   "source": [
    "### Introduction to diversity metrics"
   ]
  },
  {
   "cell_type": "markdown",
   "metadata": {
    "id": "C8H3eWWQ0fAO"
   },
   "source": [
    "An important metric to consider when studying microbial ecology is __diversity__. Diversity comes in two flavors: ⍺ (alpha) and β (beta).\n",
    "\n",
    "Alpha diversity is pretty simple - how diverse is a single sample? You might consider measures like richness and evenness.\n",
    "\n",
    "![alpha diversity](https://gibbons-lab.github.io/isb_course_2024/16S/assets/alpha_diversity.png)\n",
    "\n",
    "Beta diversity instead looks at how different two samples are from each other - what taxa are shared, and how their abundances differ.\n",
    "\n",
    "![beta diversity](https://gibbons-lab.github.io/isb_course_2024/16S/assets/beta_diversity.png)"
   ]
  },
  {
   "cell_type": "markdown",
   "metadata": {
    "id": "E5gyRRHy0fAO"
   },
   "source": [
    "I want to note here that we're getting into some analyses that some bioinformaticians may prefer to do in R or Python, outside of the QIIME framework. For example, diversity analyses can be performed using `scikit-bio` in Python or `vegan` in R. In fact, QIIME 2 is using `scikit-bio` and `vegan` under the hood for its diversity calculations! QIIME eliminates the need to manipulate dataframes or do calculations yourself, but it might not have the newest methods!"
   ]
  },
  {
   "cell_type": "markdown",
   "metadata": {
    "id": "bPoyj-6c0fAU",
    "tags": []
   },
   "source": [
    "### Starting our Tree"
   ]
  },
  {
   "cell_type": "markdown",
   "metadata": {
    "id": "Bw8D0aML0fAU"
   },
   "source": [
    "Let's start by building a phylogenetic tree for our sequences using the following command. This time, we call the _phylogeny_ plugin in QIIME2."
   ]
  },
  {
   "cell_type": "code",
   "execution_count": null,
   "metadata": {
    "colab": {
     "base_uri": "https://localhost:8080/"
    },
    "id": "Ym7blrPpKQuJ",
    "outputId": "c8b24f51-63af-4f52-b4cb-d1fef9d72a00"
   },
   "outputs": [],
   "source": [
    "!qiime phylogeny align-to-tree-mafft-fasttree \\\n",
    "    --i-sequences dada/representative_sequences.qza \\\n",
    "    --output-dir tree"
   ]
  },
  {
   "cell_type": "markdown",
   "metadata": {
    "id": "T1jbqaW1hrmQ"
   },
   "source": [
    "We can create a visualization for the tree using the [empress](https://github.com/biocore/empress) QIIME 2 plugin."
   ]
  },
  {
   "cell_type": "code",
   "execution_count": null,
   "metadata": {
    "colab": {
     "base_uri": "https://localhost:8080/"
    },
    "id": "2Ttf0RTyhaPH",
    "outputId": "093a0e79-c6e1-4bfb-9804-3676d0a87cce"
   },
   "outputs": [],
   "source": [
    "!qiime empress tree-plot \\\n",
    "    --i-tree tree/rooted_tree.qza \\\n",
    "    --o-visualization tree/empress.qzv"
   ]
  },
  {
   "cell_type": "markdown",
   "metadata": {
    "id": "H4fTVpeToufK",
    "tags": []
   },
   "source": [
    "## Calculating Diversity"
   ]
  },
  {
   "cell_type": "markdown",
   "metadata": {
    "id": "dyp1iAoW0fAV"
   },
   "source": [
    "Using the Diversity plugin, we can use our table and tree to calculate several diversity metrics. To account for variations in sampling depth, we'll provide QIIME2 with a cutoff at which rarefy all our samples. Since this randomly selects sequences, your results might look a little different. We'll also pass in our metadata file, so we can keep track how which samples come from each group."
   ]
  },
  {
   "cell_type": "code",
   "execution_count": null,
   "metadata": {
    "colab": {
     "base_uri": "https://localhost:8080/"
    },
    "id": "1YqaTqS5huAz",
    "outputId": "2c082204-f04f-406d-b6a2-f4f401fef260"
   },
   "outputs": [],
   "source": [
    "!qiime diversity core-metrics-phylogenetic \\\n",
    "    --i-table dada/table.qza \\\n",
    "    --i-phylogeny tree/rooted_tree.qza \\\n",
    "    --p-sampling-depth 5000 \\\n",
    "    --m-metadata-file data/metadata.tsv \\\n",
    "    --output-dir diversity"
   ]
  },
  {
   "cell_type": "markdown",
   "metadata": {
    "id": "7kiYQC_30fAW"
   },
   "source": [
    "If you open the `diversity` folder, you'll see that we calculated several different diversity metrics. Beta diversity uses a \"distance\" or \"dissimilarity\" matrix, but there are different definitions of distance! Some different types of distance include Bray-Curtis, Jaccard, Unweighted UniFrac, and weighted UniFrac. UniFrac distances are based on phylogeny, while Bray-Curtis and Jaccard are not. For more information on diversity metrics, check out this QIIME [forum post](https://forum.qiime2.org/t/alpha-and-beta-diversity-explanations-and-commands/2282)."
   ]
  },
  {
   "cell_type": "markdown",
   "metadata": {
    "id": "XslTNgFBg5qp",
    "tags": []
   },
   "source": [
    "## Alpha Diversity"
   ]
  },
  {
   "cell_type": "markdown",
   "metadata": {
    "id": "AVT3NfDT0fAW"
   },
   "source": [
    "We get a bunch of outputs from the previous command - measures of both alpha and beta diversity. To start, let's use the Shannon vector in the output directory to create a visualization of alpha diversity across samples. Generally, healthy, long-living individuals have balanced diverse microbiomes. However, this isn't necessarily a direct indicator of health or disease. Let's see how it looks in our samples"
   ]
  },
  {
   "cell_type": "code",
   "execution_count": null,
   "metadata": {
    "colab": {
     "base_uri": "https://localhost:8080/"
    },
    "id": "ne2WybKgh6fv",
    "outputId": "c4f2a54d-83af-4c37-c51e-e78c652dbaf2"
   },
   "outputs": [],
   "source": [
    "!qiime diversity alpha-group-significance \\\n",
    "    --i-alpha-diversity diversity/shannon_vector.qza \\\n",
    "    --m-metadata-file data/metadata.tsv \\\n",
    "    --o-visualization diversity/alpha_groups.qzv"
   ]
  },
  {
   "cell_type": "markdown",
   "metadata": {
    "id": "HzF0iOjD0fAW"
   },
   "source": [
    "Like before, we can download the visualization and open it with the QIIME2 viewer."
   ]
  },
  {
   "cell_type": "markdown",
   "metadata": {
    "id": "p3UyMljT0fAW"
   },
   "source": [
    "There doesn't appear to be a difference in Shannon Diversity between Parkinson's Disease patients and healthy controls, but could there be confounding variables? Since this is a cohort study rather than a controlled experiment, we can't control for variables that affect microbiome composition and diversity like antibiotics, diet, other medications, ..., but we can __stratify__ across them. Let's see what happens if we stratify by drug use."
   ]
  },
  {
   "cell_type": "code",
   "execution_count": null,
   "metadata": {
    "id": "L80xAVZH0fAX"
   },
   "outputs": [],
   "source": [
    "!"
   ]
  },
  {
   "cell_type": "markdown",
   "metadata": {
    "id": "V5eJbSNo0fAX",
    "tags": []
   },
   "source": [
    "## Beta Diversity"
   ]
  },
  {
   "cell_type": "markdown",
   "metadata": {
    "id": "VNmxg2lmjyHE"
   },
   "source": [
    "Let's visualize the beta diversity and see how they separate. For this we'll look at weighted UniFrac. This time, we'll have to download the file ⬅️\n",
    "\n",
    "We can check for 'significant' separation between samples using PERMANOVA. We can do this with the diversity plugin in QIIME2."
   ]
  },
  {
   "cell_type": "code",
   "execution_count": null,
   "metadata": {
    "colab": {
     "base_uri": "https://localhost:8080/"
    },
    "id": "WMASNLaWjxwD",
    "outputId": "969fdd0d-b65c-4351-8982-86c2972d37b7"
   },
   "outputs": [],
   "source": [
    "!qiime diversity adonis \\\n",
    "    --i-distance-matrix diversity/weighted_unifrac_distance_matrix.qza \\\n",
    "    --m-metadata-file data/metadata.tsv \\\n",
    "    --p-formula \"parkinson_disease\" \\\n",
    "    --p-n-jobs 2 \\\n",
    "    --o-visualization diversity/permanova.qzv"
   ]
  },
  {
   "cell_type": "markdown",
   "metadata": {
    "id": "L55ZQ0fW0fAX"
   },
   "source": [
    "We can also use PERMANOVA to identify confounders. PERMANOVA tells us how much variance in the community composition is explained by each variable. Common confounders include sex, age, BMI, diet, and antibiotic use. In the original study, authors identified that Parkinson's Disease medications were associated with different microbiome compositions. Let's take a look at these variables."
   ]
  },
  {
   "cell_type": "code",
   "execution_count": null,
   "metadata": {
    "colab": {
     "base_uri": "https://localhost:8080/"
    },
    "id": "iMMftpPz0fAY",
    "outputId": "e7ae5ab8-aa1b-48e6-92e5-635a68ae1968"
   },
   "outputs": [],
   "source": [
    "!qiime diversity adonis \\\n",
    "    --i-distance-matrix diversity/weighted_unifrac_distance_matrix.qza \\\n",
    "    --m-metadata-file data/metadata.tsv \\\n",
    "    --p-formula \"parkinson_disease + sex + age + location + p3m_antibiotics_bool\" \\\n",
    "    --p-n-jobs 10 \\\n",
    "    --o-visualization diversity/permanova_big.qzv"
   ]
  },
  {
   "cell_type": "markdown",
   "metadata": {
    "id": "AOKKF7080fAY"
   },
   "source": [
    "Before, we did not see a significant p-value for the effect of Parkinson's disease on beta diversity. However, when we add certain covariates, we might find that they were confounding a relationship.\n",
    "\n",
    "However, most of our variance remains unexplained. Microbiome composition is affected by many things, and this is an uncontrolled cohort study, so we would not expect any single variable to explain most of the variance."
   ]
  },
  {
   "cell_type": "markdown",
   "metadata": {
    "id": "XorhKjTI0fAY",
    "tags": []
   },
   "source": [
    "## Visualizing Beta Diversity Using PCoA"
   ]
  },
  {
   "cell_type": "markdown",
   "metadata": {
    "id": "zyBlNVB40fAY"
   },
   "source": [
    "If we want to __visually__ show this separation between samples, we can't just plot the entire UniFrac distance matrix, because it has 100+ dimensions! Instead, we can use **dimensionality reduction** to \"compress\" our data into a few dimensions that explain most of the variance. There are several types of dimensionality reduction (like UMAP and tSNE), but the preferred method of dimensionality reduction for microbiome communities is Principal Coordinate Analysis (PCoA). This is because PCoA is linear, and thus preserves the global structure of the data and is reproducible."
   ]
  },
  {
   "cell_type": "markdown",
   "metadata": {
    "id": "YtogNk5h0fAY"
   },
   "source": [
    "We already ran a PCoAs for each distance metric, and we can look at them if we download `weighted_unifrac_emperor.qzv`, `unweighted_unifrac_emperor.qzv`, `bray_curtis_emperor.qzv`, or `jaccard_emperor.qzv`"
   ]
  },
  {
   "cell_type": "markdown",
   "metadata": {
    "id": "XTXoJhjs0fAY"
   },
   "source": [
    "---\n",
    "## Taxonomic Classification"
   ]
  },
  {
   "cell_type": "markdown",
   "metadata": {
    "id": "CR2f0q4trGfA"
   },
   "source": [
    "We can learn a lot from diversity metrics, alpha and beta. But to really dig into the data, we need to know what microbes are in each sample 🦠. To do this, we'll classify the reads in QIIME2 using a Bayesian classifier. Several such classifiers are available at https://docs.qiime2.org/2024.5/data-resources/"
   ]
  },
  {
   "cell_type": "code",
   "execution_count": null,
   "metadata": {
    "colab": {
     "base_uri": "https://localhost:8080/"
    },
    "id": "firXAVIHrEzT",
    "outputId": "44fd0067-ad26-4083-ea0b-2945c9efc345"
   },
   "outputs": [],
   "source": [
    "!qiime feature-classifier classify-sklearn \\\n",
    "    --i-reads dada/representative_sequences.qza \\\n",
    "    --i-classifier ncbi-refseq-genus-515f-806r.qza \\\n",
    "    --p-n-jobs 2 \\\n",
    "    --o-classification taxa.qza"
   ]
  },
  {
   "cell_type": "markdown",
   "metadata": {
    "id": "ftEKkIx-uJtA"
   },
   "source": [
    "Now we've classified the reads, we can visualize the taxonomic breakdown of our samples."
   ]
  },
  {
   "cell_type": "code",
   "execution_count": null,
   "metadata": {
    "colab": {
     "base_uri": "https://localhost:8080/"
    },
    "id": "RSRrxhX7x4dE",
    "outputId": "09dbb1eb-8b03-453c-d3ed-1aa0642a7574"
   },
   "outputs": [],
   "source": [
    "!qiime taxa barplot \\\n",
    "    --i-table dada/table.qza \\\n",
    "    --i-taxonomy taxa.qza \\\n",
    "    --m-metadata-file data/metadata.tsv \\\n",
    "    --o-visualization taxa_barplot.qzv"
   ]
  },
  {
   "cell_type": "markdown",
   "metadata": {
    "id": "LbZ2f-kOx4jY"
   },
   "source": [
    "Now, we can use ```table.qza```, which contains our reads, and ```taxa.qza```, which contains taxonomic classifications for reads, and collapse the data onto the genus level."
   ]
  },
  {
   "cell_type": "code",
   "execution_count": null,
   "metadata": {
    "colab": {
     "base_uri": "https://localhost:8080/"
    },
    "id": "XTClvRnXx4ob",
    "outputId": "ae841b68-ecc2-4e0b-cd23-7a2e415bd206"
   },
   "outputs": [],
   "source": [
    "!qiime taxa collapse \\\n",
    "    --i-table dada/table.qza \\\n",
    "    --i-taxonomy taxa.qza \\\n",
    "    --p-level 6 \\\n",
    "    --o-collapsed-table genus.qza"
   ]
  },
  {
   "cell_type": "markdown",
   "metadata": {
    "id": "zZPj_eiux9DP"
   },
   "source": [
    "We'll export this as a .tsv, which will be more usable for the next portion of the course that you'll see tomorrow"
   ]
  },
  {
   "cell_type": "code",
   "execution_count": null,
   "metadata": {
    "colab": {
     "base_uri": "https://localhost:8080/"
    },
    "id": "deJ-FLcTx9Jq",
    "outputId": "fd93fc05-677b-4ff0-da72-eeeeaf5c906e"
   },
   "outputs": [],
   "source": [
    "!qiime tools export \\\n",
    "    --input-path genus.qza \\\n",
    "    --output-path exported\n",
    "!biom convert -i exported/feature-table.biom -o genus.tsv --to-tsv"
   ]
  },
  {
   "cell_type": "markdown",
   "metadata": {
    "id": "_1jjxJv5Pzwr"
   },
   "source": [
    "Let's peek at the results 🔭"
   ]
  },
  {
   "cell_type": "code",
   "execution_count": null,
   "metadata": {
    "colab": {
     "base_uri": "https://localhost:8080/",
     "height": 474
    },
    "id": "nrq3gtn42kWv",
    "outputId": "5e8e3328-325f-4ceb-9330-d29beeab7112"
   },
   "outputs": [],
   "source": [
    "abundances = pd.read_table(\"genus.tsv\", skiprows=1, index_col=0)\n",
    "abundances"
   ]
  },
  {
   "cell_type": "markdown",
   "metadata": {
    "id": "ROKU7_tcyFKD"
   },
   "source": [
    "This is easier to interpret by visualizing the results. We can use the file we just exported from QIIME2 to build a visualization using any tool we like, such as seaborn or plotnine. Here is an example of building a visualization (a heatmap) in seaborn:"
   ]
  },
  {
   "cell_type": "code",
   "execution_count": null,
   "metadata": {
    "id": "vC5qKf680fAa"
   },
   "outputs": [],
   "source": [
    "import numpy as np\n",
    "import seaborn as sns"
   ]
  },
  {
   "cell_type": "code",
   "execution_count": null,
   "metadata": {
    "colab": {
     "base_uri": "https://localhost:8080/",
     "height": 548
    },
    "id": "YOHG-0nXquu5",
    "outputId": "878d6d19-62e1-43ef-ff02-feca30ee0c09"
   },
   "outputs": [],
   "source": [
    "abund_to_plot = abundances\n",
    "abund_to_plot.index = abund_to_plot.index.str.split(\";\").str[5]          # Use only the genus name\n",
    "abund_to_plot = abund_to_plot[~abund_to_plot.index.isin([\"g__\", \"__\"])]  # remove unclassified genera\n",
    "abund_to_plot = abund_to_plot.sample(50, axis=0)                         # use 50 random genera (rows)\n",
    "\n",
    "# Let's do a centered log-ratio transform: log x_i - log mean(x)\n",
    "transformed = abund_to_plot.apply(\n",
    "    lambda xs: np.log(xs + 0.5) - np.log(xs.mean() + 0.5),\n",
    "    axis=0)\n",
    "\n",
    "sns.clustermap(transformed.T, cmap=\"magma\", xticklabels=True, figsize=(16, 6))"
   ]
  },
  {
   "cell_type": "markdown",
   "metadata": {
    "id": "GfzsEjtS0fAb"
   },
   "source": [
    "Now, our data is starting to be interpretable. Each row is a sample, and each column is a bacterial genus. The table values are \"counts\", or the number of times a genus was detected in a certain sample. We can use relative abundance data to test hypotheses, but it requires special statistical methods because it is ___compositional___"
   ]
  },
  {
   "cell_type": "markdown",
   "metadata": {
    "id": "-N5E8lW40fAb"
   },
   "source": [
    "## Differential Abundance Analysis"
   ]
  },
  {
   "cell_type": "markdown",
   "metadata": {
    "id": "k6JlX4SC0fAb"
   },
   "source": [
    "Explain compositional data + methods for testing"
   ]
  },
  {
   "cell_type": "code",
   "execution_count": null,
   "metadata": {
    "colab": {
     "base_uri": "https://localhost:8080/"
    },
    "id": "BhjF47mL0fAb",
    "outputId": "0d8a0d41-b7db-4ead-8e2d-dd4575edadc2"
   },
   "outputs": [],
   "source": [
    "!qiime composition ancombc \\\n",
    "  --i-table genus.qza \\\n",
    "  --m-metadata-file data/metadata.tsv \\\n",
    "  --p-formula \"parkinson_disease\" \\\n",
    "  --o-differentials ancombc.qza"
   ]
  },
  {
   "cell_type": "code",
   "execution_count": null,
   "metadata": {
    "colab": {
     "base_uri": "https://localhost:8080/"
    },
    "id": "pkkERODA0fAc",
    "outputId": "34992f9e-716d-4c69-fecc-bf995a982264"
   },
   "outputs": [],
   "source": [
    "!qiime composition da-barplot \\\n",
    "  --i-data ancombc.qza \\\n",
    "  --p-significance-threshold 0.01 \\\n",
    "  --o-visualization da_barplot.qzv"
   ]
  },
  {
   "cell_type": "markdown",
   "metadata": {
    "id": "WPMlG8w9aCsW",
    "tags": []
   },
   "source": [
    "## Exercise - Plant a Tree"
   ]
  },
  {
   "cell_type": "markdown",
   "metadata": {
    "id": "hZrVCQE80fAc"
   },
   "source": [
    "One visualization that we did not spend a lot of time on was the phylogentic tree of our ASVs. Let's change that! We have seen that there are genera that appear in multiple populations in the previous step. But are the organisms in that genus actually the same?\n",
    "\n",
    "Let's annotate the tree with our taxonomic classifications and abundances. We will use the empress plugin again but this time with the `community-plot` option. I filled in a template of the command for you. Can you figure out what has to go in the empty spaces?\n",
    "\n",
    "**QUESTIONS:**\n",
    "\n",
    "1) Are some of the branch lengths on the tree longer than you would expect? Do you notice anything interesting or suspicious about the taxonomic identities of these branches?\n",
    "\n",
    "2) Can you find examples of phyla that are polyphyletic (i.e. where clusters of ASVs from the same phylum are found in different locations on the tree, showing different commmon ancestors)? What about polyphyletic taxa at lower taxonomic levels, like at the family or genus levels? Why do you think these patterns exist?"
   ]
  },
  {
   "cell_type": "code",
   "execution_count": null,
   "metadata": {
    "id": "qf-bY5aci4bv"
   },
   "outputs": [],
   "source": [
    "# This won't run until you fill in the [EMPTY] spots with the right files ;)\n",
    "\n",
    "!qiime empress community-plot \\\n",
    "    --i-tree [EMPTY] \\\n",
    "    --i-feature-table dada/table.qza \\\n",
    "    --m-sample-metadata-file [EMPTY] \\\n",
    "    --m-feature-metadata-file taxa.qza \\\n",
    "    --o-visualization community-tree-viz.qzv"
   ]
  }
 ],
 "metadata": {
  "colab": {
   "provenance": []
  },
  "kernelspec": {
   "display_name": "Python 3 (ipykernel)",
   "language": "python",
   "name": "python3"
  },
  "language_info": {
   "codemirror_mode": {
    "name": "ipython",
    "version": 3
   },
   "file_extension": ".py",
   "mimetype": "text/x-python",
   "name": "python",
   "nbconvert_exporter": "python",
   "pygments_lexer": "ipython3",
   "version": "3.11.0"
  }
 },
 "nbformat": 4,
 "nbformat_minor": 4
}
